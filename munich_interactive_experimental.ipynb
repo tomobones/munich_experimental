{
 "cells": [
  {
   "cell_type": "markdown",
   "metadata": {},
   "source": [
    "#### todo list"
   ]
  },
  {
   "cell_type": "markdown",
   "metadata": {},
   "source": [
    "* [ ] add background image/openStreetMap\n",
    "* [x] just highlight district hovered\n",
    "* [ ] content list\n",
    "* [x] export to html\n",
    "* [ ] Laim daten nicht angezeigt\n",
    "* [ ] Anzeige: Bezirks Namen ohne Leerzeichen\n",
    "* [ ] Anzeige: Namen zu lange\n",
    "* [ ] Notebook säubern für die Präsentation\n",
    "* [ ] Animation: zwei Ortsteile (der Wahl) laufen durch die Jahre mit ihren drei Säulen\n",
    "    - layout benutzen: column, row, grid, evtl tabs/panel\n",
    "    - wenn ein Ortsteil selektiert wird, wird seine Statistik in das Diagramm mit aufgenommen\n",
    "    - callbacks <> interaktiv\n",
    "* [ ] Diagramm: 2xDropdown > 2xAuswahl zweier Stadtteile\n",
    "    - einfach: 1xDropdown > Jahr > Vergleich zweier Stadtteile\n",
    "    - komplex: Animation über Jahre: Vergleich zweier Stadtteile\n",
    "* [ ] Kleine Diagramme (hover)\n",
    "    - zeigt Verteilung über Zeit in jenem Bezirk"
   ]
  },
  {
   "cell_type": "markdown",
   "metadata": {},
   "source": [
    "#### import neccesary packages - set neccesary variables"
   ]
  },
  {
   "cell_type": "code",
   "execution_count": 27,
   "metadata": {
    "scrolled": true
   },
   "outputs": [],
   "source": [
    "import numpy as np\n",
    "import pandas as pd\n",
    "import matplotlib.pyplot as plt\n",
    "import geopandas as gpd"
   ]
  },
  {
   "cell_type": "code",
   "execution_count": 28,
   "metadata": {
    "scrolled": true
   },
   "outputs": [],
   "source": [
    "# optical separation of print outputs\n",
    "def spacer(string=\"\"):\n",
    "    spacer_inlay = 7*\"\\*/*\"\n",
    "    spacer_string = spacer_inlay + \"  [\" + string + \"]  \" + spacer_inlay\n",
    "    print(\"\\n\" + len(spacer_string)*\"_\" + \"\\n\" + spacer_string + \"\\n\")"
   ]
  },
  {
   "cell_type": "markdown",
   "metadata": {},
   "source": [
    "#### load geographical data and adjust coordinate reference system"
   ]
  },
  {
   "cell_type": "code",
   "execution_count": 29,
   "metadata": {
    "scrolled": true
   },
   "outputs": [],
   "source": [
    "# load data\n",
    "shapefile = 'data/munich.shp'\n",
    "gdf = gpd.read_file(shapefile)"
   ]
  },
  {
   "cell_type": "code",
   "execution_count": 30,
   "metadata": {
    "scrolled": true
   },
   "outputs": [],
   "source": [
    "# string format for name\n",
    "gdf.name = gdf.name.str.replace(\" \", \"\").replace(\",\", \"-\")"
   ]
  },
  {
   "cell_type": "code",
   "execution_count": 31,
   "metadata": {
    "scrolled": true
   },
   "outputs": [
    {
     "name": "stdout",
     "output_type": "stream",
     "text": [
      "<class 'geopandas.geodataframe.GeoDataFrame'>\n"
     ]
    }
   ],
   "source": [
    "# what is a gdf?\n",
    "print(type(gdf))"
   ]
  },
  {
   "cell_type": "code",
   "execution_count": 32,
   "metadata": {
    "scrolled": true
   },
   "outputs": [
    {
     "name": "stdout",
     "output_type": "stream",
     "text": [
      "\n",
      "______________________________________________________________________\n",
      "\\*/*\\*/*\\*/*\\*/*\\*/*\\*/*\\*/*  [gdf head]  \\*/*\\*/*\\*/*\\*/*\\*/*\\*/*\\*/*\n",
      "\n",
      "                  name  munich_ren  munich_r_1  munich_r_2  cartodb_id  \\\n",
      "0           BergamLaim       15.54        81.6          20          15   \n",
      "1     Schwanthalerhöhe      -99.00        66.0           8           8   \n",
      "2       Altstadt-Lehel       18.71        84.6          33          12   \n",
      "3  Allach-Untermenzing       11.90        85.1          12           4   \n",
      "4               Hadern       14.28        67.3          10           2   \n",
      "\n",
      "   created_at  updated_at                                           geometry  \n",
      "0  2015-07-21  2015-07-21  POLYGON ((11.6166043 48.1337163, 11.6179074 48...  \n",
      "1  2015-07-21  2015-07-21  POLYGON ((11.5350379 48.1303296, 11.5326142 48...  \n",
      "2  2015-07-21  2015-07-21  POLYGON ((11.5821098 48.133721, 11.5805171 48....  \n",
      "3  2015-07-21  2015-07-21  POLYGON ((11.4597967 48.2117073, 11.460079 48....  \n",
      "4  2015-07-21  2015-07-21  POLYGON ((11.4722191 48.13007499999999, 11.475...  \n",
      "\n",
      "______________________________________________________________________\n",
      "\\*/*\\*/*\\*/*\\*/*\\*/*\\*/*\\*/*  [gdf info]  \\*/*\\*/*\\*/*\\*/*\\*/*\\*/*\\*/*\n",
      "\n",
      "<class 'geopandas.geodataframe.GeoDataFrame'>\n",
      "RangeIndex: 28 entries, 0 to 27\n",
      "Data columns (total 8 columns):\n",
      "name          28 non-null object\n",
      "munich_ren    28 non-null float64\n",
      "munich_r_1    28 non-null float64\n",
      "munich_r_2    28 non-null int64\n",
      "cartodb_id    28 non-null int64\n",
      "created_at    28 non-null object\n",
      "updated_at    28 non-null object\n",
      "geometry      28 non-null object\n",
      "dtypes: float64(2), int64(2), object(4)\n",
      "memory usage: 1.8+ KB\n",
      "None\n",
      "\n",
      "_______________________________________________________________________\n",
      "\\*/*\\*/*\\*/*\\*/*\\*/*\\*/*\\*/*  [gdf shape]  \\*/*\\*/*\\*/*\\*/*\\*/*\\*/*\\*/*\n",
      "\n",
      "(28, 8)\n",
      "\n",
      "_____________________________________________________________________________\n",
      "\\*/*\\*/*\\*/*\\*/*\\*/*\\*/*\\*/*  [gdf.name unique]  \\*/*\\*/*\\*/*\\*/*\\*/*\\*/*\\*/*\n",
      "\n",
      "['BergamLaim' 'Schwanthalerhöhe' 'Altstadt-Lehel' 'Allach-Untermenzing'\n",
      " 'Hadern' 'Au-Haidhausen' 'Obermenzing' 'Neuhausen'\n",
      " 'Ludwigsvorstadt-Isarvorstadt' 'Maxvorstadt' 'Schwabing-SchwabingWest'\n",
      " 'Moosach' 'Trudering-Riem' 'Laim' 'Milbertshofen-AmHart' 'Nymphenburg'\n",
      " 'Feldmoching-Hasenbergl' 'Aubing-Lochhausen-Langwied' 'Bogenhausen'\n",
      " 'Sendling-Westpark' 'Ramersdorf-Perlach' 'Solln' 'Pasing' 'Harlaching'\n",
      " 'Giesing' 'Freimann' 'Thalkirchen,Obersendling' 'Forstenried-Fürstenried']\n",
      "3              Allach-Untermenzing\n",
      "2                   Altstadt-Lehel\n",
      "5                    Au-Haidhausen\n",
      "17      Aubing-Lochhausen-Langwied\n",
      "0                       BergamLaim\n",
      "18                     Bogenhausen\n",
      "16          Feldmoching-Hasenbergl\n",
      "27         Forstenried-Fürstenried\n",
      "25                        Freimann\n",
      "24                         Giesing\n",
      "4                           Hadern\n",
      "23                      Harlaching\n",
      "13                            Laim\n",
      "8     Ludwigsvorstadt-Isarvorstadt\n",
      "9                      Maxvorstadt\n",
      "14            Milbertshofen-AmHart\n",
      "11                         Moosach\n",
      "7                        Neuhausen\n",
      "15                     Nymphenburg\n",
      "6                      Obermenzing\n",
      "22                          Pasing\n",
      "20              Ramersdorf-Perlach\n",
      "10         Schwabing-SchwabingWest\n",
      "1                 Schwanthalerhöhe\n",
      "19               Sendling-Westpark\n",
      "21                           Solln\n",
      "26        Thalkirchen,Obersendling\n",
      "12                  Trudering-Riem\n",
      "Name: name, dtype: object\n"
     ]
    }
   ],
   "source": [
    "spacer(\"gdf head\")\n",
    "print(gdf.head())\n",
    "\n",
    "spacer(\"gdf info\")\n",
    "print(gdf.info())\n",
    "\n",
    "spacer(\"gdf shape\")\n",
    "print(gdf.shape)\n",
    "\n",
    "spacer(\"gdf.name unique\")\n",
    "print(gdf.name.unique())\n",
    "print(gdf.name.sort_values())"
   ]
  },
  {
   "cell_type": "code",
   "execution_count": 33,
   "metadata": {
    "scrolled": true
   },
   "outputs": [],
   "source": [
    "# define the current crs \n",
    "# gdf.crs = {'init':'epsg:4326'}\n",
    "\n",
    "# reproject to a new crs: mercator\n",
    "gdf = gdf.to_crs({'init':'epsg:3395'})"
   ]
  },
  {
   "cell_type": "code",
   "execution_count": 34,
   "metadata": {
    "scrolled": true
   },
   "outputs": [
    {
     "data": {
      "text/plain": [
       "<matplotlib.axes._subplots.AxesSubplot at 0x7fc1bd870f28>"
      ]
     },
     "execution_count": 34,
     "metadata": {},
     "output_type": "execute_result"
    },
    {
     "data": {
      "image/png": "[encoded data removed]",
      "text/plain": [
       "<Figure size 432x288 with 1 Axes>"
      ]
     },
     "metadata": {
      "needs_background": "light"
     },
     "output_type": "display_data"
    }
   ],
   "source": [
    "gdf.plot()"
   ]
  },
  {
   "cell_type": "markdown",
   "metadata": {},
   "source": [
    "#### load numerical data"
   ]
  },
  {
   "cell_type": "code",
   "execution_count": 35,
   "metadata": {
    "scrolled": true
   },
   "outputs": [],
   "source": [
    "religion_file = \"./data/munich_religion.csv\"\n",
    "religion = pd.read_csv(religion_file)"
   ]
  },
  {
   "cell_type": "markdown",
   "metadata": {},
   "source": [
    "#### analyse data"
   ]
  },
  {
   "cell_type": "code",
   "execution_count": 36,
   "metadata": {
    "scrolled": true
   },
   "outputs": [
    {
     "name": "stdout",
     "output_type": "stream",
     "text": [
      "\n",
      "__________________________________________________________________\n",
      "\\*/*\\*/*\\*/*\\*/*\\*/*\\*/*\\*/*  [head]  \\*/*\\*/*\\*/*\\*/*\\*/*\\*/*\\*/*\n",
      "\n",
      "                Indikator   Ausprägung  Jahr  \\\n",
      "0  Religionszugehörigkeit  evangelisch  2017   \n",
      "1  Religionszugehörigkeit  evangelisch  2017   \n",
      "2  Religionszugehörigkeit  evangelisch  2017   \n",
      "3  Religionszugehörigkeit  evangelisch  2017   \n",
      "4  Religionszugehörigkeit  evangelisch  2017   \n",
      "\n",
      "                Räumliche Gliederung  Indikatorwert  Basiswert 1  Basiswert 2  \\\n",
      "0                      Stadt München           11.4       174692      1526056   \n",
      "1                01 Altstadt - Lehel           12.6         2631        20926   \n",
      "2  02 Ludwigsvorstadt - Isarvorstadt           11.7         6033        51632   \n",
      "3                     03 Maxvorstadt           13.7         7004        51311   \n",
      "4                04 Schwabing - West           14.0         9555        68265   \n",
      "\n",
      "   Basiswert 3  Basiswert 4  Basiswert 5  \\\n",
      "0          NaN          NaN          NaN   \n",
      "1          NaN          NaN          NaN   \n",
      "2          NaN          NaN          NaN   \n",
      "3          NaN          NaN          NaN   \n",
      "4          NaN          NaN          NaN   \n",
      "\n",
      "                           Name Basiswert 1          Name Basiswert 2  \\\n",
      "0  Bevölkerung mit evangelischer Konfession  Hauptwohnsitzbevölkerung   \n",
      "1  Bevölkerung mit evangelischer Konfession  Hauptwohnsitzbevölkerung   \n",
      "2  Bevölkerung mit evangelischer Konfession  Hauptwohnsitzbevölkerung   \n",
      "3  Bevölkerung mit evangelischer Konfession  Hauptwohnsitzbevölkerung   \n",
      "4  Bevölkerung mit evangelischer Konfession  Hauptwohnsitzbevölkerung   \n",
      "\n",
      "   Name Basiswert 3  Name Basiswert 4  Name Basiswert 5  \n",
      "0               NaN               NaN               NaN  \n",
      "1               NaN               NaN               NaN  \n",
      "2               NaN               NaN               NaN  \n",
      "3               NaN               NaN               NaN  \n",
      "4               NaN               NaN               NaN  \n",
      "\n",
      "___________________________________________________________________\n",
      "\\*/*\\*/*\\*/*\\*/*\\*/*\\*/*\\*/*  [shape]  \\*/*\\*/*\\*/*\\*/*\\*/*\\*/*\\*/*\n",
      "\n",
      "(1404, 15)\n",
      "\n",
      "__________________________________________________________________\n",
      "\\*/*\\*/*\\*/*\\*/*\\*/*\\*/*\\*/*  [info]  \\*/*\\*/*\\*/*\\*/*\\*/*\\*/*\\*/*\n",
      "\n",
      "<class 'pandas.core.frame.DataFrame'>\n",
      "RangeIndex: 1404 entries, 0 to 1403\n",
      "Data columns (total 15 columns):\n",
      "Indikator               1404 non-null object\n",
      "Ausprägung              1404 non-null object\n",
      "Jahr                    1404 non-null int64\n",
      "Räumliche Gliederung    1404 non-null object\n",
      "Indikatorwert           1404 non-null float64\n",
      "Basiswert 1             1404 non-null int64\n",
      "Basiswert 2             1404 non-null int64\n",
      "Basiswert 3             0 non-null float64\n",
      "Basiswert 4             0 non-null float64\n",
      "Basiswert 5             0 non-null float64\n",
      "Name Basiswert 1        1404 non-null object\n",
      "Name Basiswert 2        1404 non-null object\n",
      "Name Basiswert 3        0 non-null float64\n",
      "Name Basiswert 4        0 non-null float64\n",
      "Name Basiswert 5        0 non-null float64\n",
      "dtypes: float64(7), int64(3), object(5)\n",
      "memory usage: 164.6+ KB\n",
      "None\n"
     ]
    }
   ],
   "source": [
    "spacer(\"head\")\n",
    "print(religion.head())\n",
    "\n",
    "spacer(\"shape\")\n",
    "print(religion.shape)\n",
    "\n",
    "spacer(\"info\")\n",
    "print(religion.info())"
   ]
  },
  {
   "cell_type": "code",
   "execution_count": 37,
   "metadata": {
    "scrolled": true
   },
   "outputs": [
    {
     "name": "stdout",
     "output_type": "stream",
     "text": [
      "\n",
      "____________________________________________________________________\n",
      "\\*/*\\*/*\\*/*\\*/*\\*/*\\*/*\\*/*  [dtypes]  \\*/*\\*/*\\*/*\\*/*\\*/*\\*/*\\*/*\n",
      "\n",
      "Indikator                object\n",
      "Ausprägung               object\n",
      "Jahr                      int64\n",
      "Räumliche Gliederung     object\n",
      "Indikatorwert           float64\n",
      "Basiswert 1               int64\n",
      "Basiswert 2               int64\n",
      "Basiswert 3             float64\n",
      "Basiswert 4             float64\n",
      "Basiswert 5             float64\n",
      "Name Basiswert 1         object\n",
      "Name Basiswert 2         object\n",
      "Name Basiswert 3        float64\n",
      "Name Basiswert 4        float64\n",
      "Name Basiswert 5        float64\n",
      "dtype: object\n",
      "\n",
      "________________________________________________________________________________\n",
      "\\*/*\\*/*\\*/*\\*/*\\*/*\\*/*\\*/*  [unique 'Indikator']  \\*/*\\*/*\\*/*\\*/*\\*/*\\*/*\\*/*\n",
      "\n",
      "['Religionszugehörigkeit']\n",
      "\n",
      "_________________________________________________________________________________\n",
      "\\*/*\\*/*\\*/*\\*/*\\*/*\\*/*\\*/*  [unique 'Ausprägung']  \\*/*\\*/*\\*/*\\*/*\\*/*\\*/*\\*/*\n",
      "\n",
      "['evangelisch' 'römisch-katholisch' 'sonstige']\n",
      "\n",
      "___________________________________________________________________________________________\n",
      "\\*/*\\*/*\\*/*\\*/*\\*/*\\*/*\\*/*  [unique 'Räumliche Gliederung']  \\*/*\\*/*\\*/*\\*/*\\*/*\\*/*\\*/*\n",
      "\n",
      "['Stadt München' '01 Altstadt - Lehel' '02 Ludwigsvorstadt - Isarvorstadt'\n",
      " '03 Maxvorstadt' '04 Schwabing - West' '05 Au - Haidhausen' '06 Sendling'\n",
      " '07 Sendling - Westpark' '08 Schwanthalerhöhe'\n",
      " '09 Neuhausen - Nymphenburg' '10 Moosach' '11 Milbertshofen - Am Hart'\n",
      " '12 Schwabing - Freimann' '13 Bogenhausen' '14 Berg am Laim'\n",
      " '15 Trudering - Riem' '16 Ramersdorf - Perlach'\n",
      " '17 Obergiesing - Fasangarten' '18 Untergiesing - Harlaching'\n",
      " '19 Thalkirchen - Obersendling - Forstenried - Fürstenried - Solln'\n",
      " '20 Hadern' '21 Pasing - Obermenzing' '22 Aubing - Lochhausen - Langwied'\n",
      " '23 Allach - Untermenzing' '24 Feldmoching - Hasenbergl' '25 Laim']\n",
      "\n",
      "_______________________________________________________________________________________\n",
      "\\*/*\\*/*\\*/*\\*/*\\*/*\\*/*\\*/*  [unique 'Name Basiswert 1']  \\*/*\\*/*\\*/*\\*/*\\*/*\\*/*\\*/*\n",
      "\n",
      "['Bevölkerung mit evangelischer Konfession'\n",
      " 'Bevölkerung mit römisch-katholischer Konfession'\n",
      " 'Bevölkerung mit sonstiger Konfession']\n",
      "\n",
      "_______________________________________________________________________________________\n",
      "\\*/*\\*/*\\*/*\\*/*\\*/*\\*/*\\*/*  [unique 'Name Basiswert 2']  \\*/*\\*/*\\*/*\\*/*\\*/*\\*/*\\*/*\n",
      "\n",
      "['Hauptwohnsitzbevölkerung']\n",
      "\n",
      "______________________________________________________________________________\n",
      "\\*/*\\*/*\\*/*\\*/*\\*/*\\*/*\\*/*  [val_count 'Jahr']  \\*/*\\*/*\\*/*\\*/*\\*/*\\*/*\\*/*\n",
      "\n",
      "2017    78\n",
      "2016    78\n",
      "2001    78\n",
      "2002    78\n",
      "2003    78\n",
      "2004    78\n",
      "2005    78\n",
      "2006    78\n",
      "2007    78\n",
      "2008    78\n",
      "2009    78\n",
      "2010    78\n",
      "2011    78\n",
      "2012    78\n",
      "2013    78\n",
      "2014    78\n",
      "2015    78\n",
      "2000    78\n",
      "Name: Jahr, dtype: int64\n"
     ]
    }
   ],
   "source": [
    "spacer(\"dtypes\")\n",
    "print(religion.dtypes)\n",
    "\n",
    "spacer(\"unique 'Indikator'\")\n",
    "print(religion.Indikator.unique())\n",
    "\n",
    "spacer(\"unique 'Ausprägung'\")\n",
    "print(religion.Ausprägung.unique())\n",
    "\n",
    "spacer(\"unique 'Räumliche Gliederung'\")\n",
    "print(religion[\"Räumliche Gliederung\"].unique())\n",
    "\n",
    "spacer(\"unique 'Name Basiswert 1'\")\n",
    "print(religion[\"Name Basiswert 1\"].unique())\n",
    "\n",
    "spacer(\"unique 'Name Basiswert 2'\")\n",
    "print(religion[\"Name Basiswert 2\"].unique())\n",
    "\n",
    "spacer(\"val_count 'Jahr'\")\n",
    "print(religion.Jahr.value_counts())"
   ]
  },
  {
   "cell_type": "code",
   "execution_count": 38,
   "metadata": {
    "scrolled": true
   },
   "outputs": [
    {
     "name": "stdout",
     "output_type": "stream",
     "text": [
      "\n",
      "____________________________________________________________________________________\n",
      "\\*/*\\*/*\\*/*\\*/*\\*/*\\*/*\\*/*  [unique - 'Basiswert' 3]  \\*/*\\*/*\\*/*\\*/*\\*/*\\*/*\\*/*\n",
      "\n",
      "[nan]\n",
      "\n",
      "____________________________________________________________________________________\n",
      "\\*/*\\*/*\\*/*\\*/*\\*/*\\*/*\\*/*  [unique - 'Basiswert' 4]  \\*/*\\*/*\\*/*\\*/*\\*/*\\*/*\\*/*\n",
      "\n",
      "[nan]\n",
      "\n",
      "____________________________________________________________________________________\n",
      "\\*/*\\*/*\\*/*\\*/*\\*/*\\*/*\\*/*  [unique - 'Basiswert' 5]  \\*/*\\*/*\\*/*\\*/*\\*/*\\*/*\\*/*\n",
      "\n",
      "[nan]\n"
     ]
    }
   ],
   "source": [
    "#spacer(\"unique - 'Basiswert' 1\")\n",
    "#print(religion[\"Basiswert 1\"].unique())\n",
    "\n",
    "#spacer(\"unique - 'Basiswert' 2\")\n",
    "#print(religion[\"Basiswert 2\"].unique())\n",
    "\n",
    "spacer(\"unique - 'Basiswert' 3\")\n",
    "print(religion[\"Basiswert 3\"].unique())\n",
    "\n",
    "spacer(\"unique - 'Basiswert' 4\")\n",
    "print(religion[\"Basiswert 4\"].unique())\n",
    "\n",
    "spacer(\"unique - 'Basiswert' 5\")\n",
    "print(religion[\"Basiswert 5\"].unique())"
   ]
  },
  {
   "cell_type": "markdown",
   "metadata": {},
   "source": [
    "#### clean data"
   ]
  },
  {
   "cell_type": "code",
   "execution_count": 39,
   "metadata": {
    "scrolled": true
   },
   "outputs": [
    {
     "name": "stdout",
     "output_type": "stream",
     "text": [
      "\n",
      "______________________________________________________________________\n",
      "\\*/*\\*/*\\*/*\\*/*\\*/*\\*/*\\*/*  [all cols]  \\*/*\\*/*\\*/*\\*/*\\*/*\\*/*\\*/*\n",
      "\n",
      "Index(['Indikator', 'Ausprägung', 'Jahr', 'Räumliche Gliederung',\n",
      "       'Indikatorwert', 'Basiswert 1', 'Basiswert 2', 'Basiswert 3',\n",
      "       'Basiswert 4', 'Basiswert 5', 'Name Basiswert 1', 'Name Basiswert 2',\n",
      "       'Name Basiswert 3', 'Name Basiswert 4', 'Name Basiswert 5'],\n",
      "      dtype='object')\n",
      "\n",
      "__________________________________________________________________________\n",
      "\\*/*\\*/*\\*/*\\*/*\\*/*\\*/*\\*/*  [cols to drop]  \\*/*\\*/*\\*/*\\*/*\\*/*\\*/*\\*/*\n",
      "\n",
      "Index(['Indikator', 'Indikatorwert', 'Basiswert 3', 'Basiswert 4',\n",
      "       'Basiswert 5', 'Name Basiswert 1', 'Name Basiswert 2',\n",
      "       'Name Basiswert 3', 'Name Basiswert 4', 'Name Basiswert 5'],\n",
      "      dtype='object')\n"
     ]
    }
   ],
   "source": [
    "# find columns to drop\n",
    "spacer(\"all cols\")\n",
    "print(religion.columns)\n",
    "\n",
    "cols_to_drop = religion.columns[[0,4,7,8,9,10,11,12,13,14]]\n",
    "\n",
    "spacer(\"cols to drop\")\n",
    "print(cols_to_drop)"
   ]
  },
  {
   "cell_type": "code",
   "execution_count": 40,
   "metadata": {
    "scrolled": true
   },
   "outputs": [],
   "source": [
    "# drop unneccesary columns\n",
    "religion_clean = religion.drop(cols_to_drop, axis=1)"
   ]
  },
  {
   "cell_type": "code",
   "execution_count": 41,
   "metadata": {
    "scrolled": true
   },
   "outputs": [
    {
     "name": "stdout",
     "output_type": "stream",
     "text": [
      "\n",
      "______________________________________________________________________________\n",
      "\\*/*\\*/*\\*/*\\*/*\\*/*\\*/*\\*/*  [df_district head]  \\*/*\\*/*\\*/*\\*/*\\*/*\\*/*\\*/*\n",
      "\n",
      "  number                          name                             string\n",
      "0     00                  StadtMünchen                      Stadt München\n",
      "1     01                Altstadt-Lehel                01 Altstadt - Lehel\n",
      "2     02  Ludwigsvorstadt-Isarvorstadt  02 Ludwigsvorstadt - Isarvorstadt\n",
      "3     03                   Maxvorstadt                     03 Maxvorstadt\n",
      "4     04                Schwabing-West                04 Schwabing - West\n",
      "\n",
      "_________________________________________________________________________________\n",
      "\\*/*\\*/*\\*/*\\*/*\\*/*\\*/*\\*/*  [religion_clean head]  \\*/*\\*/*\\*/*\\*/*\\*/*\\*/*\\*/*\n",
      "\n",
      "  religion  year  district  num_rel  num_total\n",
      "0       ev  2017         0   174692    1526056\n",
      "1       ev  2017         1     2631      20926\n",
      "2       ev  2017         2     6033      51632\n",
      "3       ev  2017         3     7004      51311\n",
      "4       ev  2017         4     9555      68265\n"
     ]
    }
   ],
   "source": [
    "# rename columns\n",
    "columns_old = religion_clean.columns\n",
    "columns_new = ['religion', 'year', 'district', 'num_rel', 'num_total']\n",
    "religion_clean.rename(columns=dict(zip(columns_old, columns_new)) ,inplace=True)\n",
    "\n",
    "# simplify values in religion\n",
    "religion_clean.religion = religion_clean.religion.map(\n",
    "    dict(zip(religion_clean.religion.unique(), ['ev', 'rk', 'other'])))\n",
    "\n",
    "# create district data frame: df_districts\n",
    "district_numbers = pd.Series(religion_clean.district.unique()).map(lambda x:{x.split(\" \", 1)[0] if x.split()[0].isdigit() else \"00\"})\n",
    "district_numbers = [x.pop() for x in district_numbers]\n",
    "district_names = pd.Series(religion_clean.district.unique()).map(lambda x:{x.split(\" \", 1)[1] if x.split()[0].isdigit() else \"Stadt München\"})\n",
    "district_names = [x.pop().replace(\" \", \"\") for x in district_names]\n",
    "df_districts = pd.DataFrame({'number':district_numbers, 'name':district_names, 'string':religion_clean.district.unique()})\n",
    "\n",
    "spacer(\"df_district head\")\n",
    "print(df_districts.head())\n",
    "\n",
    "religion_clean.district = religion_clean.district.map(\n",
    "    dict(zip(df_districts.string, df_districts.number)))\n",
    "religion_clean.district = religion_clean.district.astype(np.int64)\n",
    "\n",
    "spacer(\"religion_clean head\")\n",
    "print(religion_clean.head())"
   ]
  },
  {
   "cell_type": "code",
   "execution_count": 42,
   "metadata": {
    "scrolled": true
   },
   "outputs": [
    {
     "name": "stdout",
     "output_type": "stream",
     "text": [
      "religion              rk         ev      other\n",
      "year district                                 \n",
      "2000 0         43.336266  15.274846  41.388888\n",
      "     1         40.965495  16.229455  42.805051\n",
      "     2         38.437830  13.603743  47.958426\n",
      "     3         39.177012  16.900733  43.922255\n",
      "     4         38.498578  17.713659  43.787763\n"
     ]
    }
   ],
   "source": [
    "# pivot table >>> mulitiindex: year, district\n",
    "religion_piv = religion_clean.pivot_table(index=['year','district'], columns='religion', values='num_rel', aggfunc='sum')\n",
    "\n",
    "# noramlize values\n",
    "sum_series = 100/religion_piv.sum(axis=1)\n",
    "religion_pivnorm = religion_piv.T.multiply(sum_series).T\n",
    "\n",
    "# reorder religions\n",
    "religion_final = religion_pivnorm.loc[:,['rk', 'ev', 'other']]\n",
    "\n",
    "print(religion_final.head())"
   ]
  },
  {
   "cell_type": "code",
   "execution_count": 43,
   "metadata": {
    "scrolled": true
   },
   "outputs": [],
   "source": [
    "# export \"munich_districts.csv\"\n",
    "df_districts.drop('string', axis=1).to_csv('./data/munich_districts.csv')"
   ]
  },
  {
   "cell_type": "markdown",
   "metadata": {},
   "source": [
    "#### check year 2017 seperately"
   ]
  },
  {
   "cell_type": "markdown",
   "metadata": {},
   "source": [
    "-> check pandas youtube video - chapter 14 "
   ]
  },
  {
   "cell_type": "code",
   "execution_count": 46,
   "metadata": {
    "scrolled": false
   },
   "outputs": [
    {
     "data": {
      "text/plain": [
       "<matplotlib.axes._subplots.AxesSubplot at 0x7fc1bd717860>"
      ]
     },
     "execution_count": 46,
     "metadata": {},
     "output_type": "execute_result"
    },
    {
     "data": {
      "image/png": "[encoded data removed]",
      "text/plain": [
       "<Figure size 432x288 with 1 Axes>"
      ]
     },
     "metadata": {
      "needs_background": "light"
     },
     "output_type": "display_data"
    }
   ],
   "source": [
    "religion_2017 = religion_final.loc[2017]\n",
    "religion_2017.drop(0, axis=0).plot(kind='barh', stacked=False, sort_columns=False)\n",
    "#religion_2017.drop(0, axis=0).plot(kind='barh')"
   ]
  },
  {
   "cell_type": "markdown",
   "metadata": {},
   "source": [
    "#### export plots for each district"
   ]
  },
  {
   "cell_type": "code",
   "execution_count": 50,
   "metadata": {
    "scrolled": true
   },
   "outputs": [],
   "source": [
    "for district_number in range(0,25):\n",
    "    #print(df_districts.loc[district_number,'name'] + \" - ANTEIL EVANGELISCH: \" + str(religion_2017_pivoted_normalized.loc[district_number,\"ev\"]))\n",
    "    \n",
    "    categories = ['evangelisch', 'andere', 'römisch-katholisch']\n",
    "    values = religion_2017.loc[district_number]\n",
    "    \n",
    "    plt.bar(categories, values)\n",
    "\n",
    "    plt.xlabel('Religionen')\n",
    "    plt.ylabel('Anteil')\n",
    "    plt.title('Anteil der Religionen in ' + df_districts.loc[district_number,'name'])\n",
    "\n",
    "    plt.tight_layout()\n",
    "    plt.savefig('./data/plots/munich_religions_in_' + str(district_number) + '.png')\n",
    "    plt.close()"
   ]
  },
  {
   "cell_type": "markdown",
   "metadata": {},
   "source": [
    "#### add district_number to geographical data"
   ]
  },
  {
   "cell_type": "code",
   "execution_count": 51,
   "metadata": {
    "scrolled": false
   },
   "outputs": [
    {
     "name": "stdout",
     "output_type": "stream",
     "text": [
      "\n",
      "_______________________________________________________________________\n",
      "\\*/*\\*/*\\*/*\\*/*\\*/*\\*/*\\*/*  [type(gdf)]  \\*/*\\*/*\\*/*\\*/*\\*/*\\*/*\\*/*\n",
      "\n",
      "<class 'geopandas.geodataframe.GeoDataFrame'>\n",
      "\n",
      "______________________________________________________________________________________________\n",
      "\\*/*\\*/*\\*/*\\*/*\\*/*\\*/*\\*/*  [compare names of districts - gdf]  \\*/*\\*/*\\*/*\\*/*\\*/*\\*/*\\*/*\n",
      "\n",
      "3              Allach-Untermenzing\n",
      "2                   Altstadt-Lehel\n",
      "5                    Au-Haidhausen\n",
      "17      Aubing-Lochhausen-Langwied\n",
      "0                       BergamLaim\n",
      "18                     Bogenhausen\n",
      "16          Feldmoching-Hasenbergl\n",
      "27         Forstenried-Fürstenried\n",
      "25                        Freimann\n",
      "24                         Giesing\n",
      "4                           Hadern\n",
      "23                      Harlaching\n",
      "13                            Laim\n",
      "8     Ludwigsvorstadt-Isarvorstadt\n",
      "9                      Maxvorstadt\n",
      "14            Milbertshofen-AmHart\n",
      "11                         Moosach\n",
      "7                        Neuhausen\n",
      "15                     Nymphenburg\n",
      "6                      Obermenzing\n",
      "22                          Pasing\n",
      "20              Ramersdorf-Perlach\n",
      "10         Schwabing-SchwabingWest\n",
      "1                 Schwanthalerhöhe\n",
      "19               Sendling-Westpark\n",
      "21                           Solln\n",
      "26        Thalkirchen,Obersendling\n",
      "12                  Trudering-Riem\n",
      "Name: name, dtype: object\n",
      "28\n",
      "\n",
      "_______________________________________________________________________________________________________\n",
      "\\*/*\\*/*\\*/*\\*/*\\*/*\\*/*\\*/*  [compare names of districts - df_districts]  \\*/*\\*/*\\*/*\\*/*\\*/*\\*/*\\*/*\n",
      "\n",
      "23                                  Allach-Untermenzing\n",
      "1                                        Altstadt-Lehel\n",
      "5                                         Au-Haidhausen\n",
      "22                           Aubing-Lochhausen-Langwied\n",
      "14                                           BergamLaim\n",
      "13                                          Bogenhausen\n",
      "24                               Feldmoching-Hasenbergl\n",
      "20                                               Hadern\n",
      "25                                                 Laim\n",
      "2                          Ludwigsvorstadt-Isarvorstadt\n",
      "3                                           Maxvorstadt\n",
      "11                                 Milbertshofen-AmHart\n",
      "10                                              Moosach\n",
      "9                                 Neuhausen-Nymphenburg\n",
      "17                              Obergiesing-Fasangarten\n",
      "21                                   Pasing-Obermenzing\n",
      "16                                   Ramersdorf-Perlach\n",
      "12                                   Schwabing-Freimann\n",
      "4                                        Schwabing-West\n",
      "8                                      Schwanthalerhöhe\n",
      "6                                              Sendling\n",
      "7                                     Sendling-Westpark\n",
      "0                                          StadtMünchen\n",
      "19    Thalkirchen-Obersendling-Forstenried-Fürstenri...\n",
      "15                                       Trudering-Riem\n",
      "18                              Untergiesing-Harlaching\n",
      "Name: name, dtype: object\n"
     ]
    }
   ],
   "source": [
    "spacer(\"type(gdf)\")\n",
    "print(type(gdf))\n",
    "\n",
    "#compare names of districts:\n",
    "spacer(\"compare names of districts - gdf\")\n",
    "print(gdf.name.sort_values())\n",
    "print(len(gdf.name))\n",
    "\n",
    "spacer(\"compare names of districts - df_districts\")\n",
    "print(df_districts.name.sort_values())"
   ]
  },
  {
   "cell_type": "raw",
   "metadata": {},
   "source": [
    "print(df_districts)\n",
    "print(\"* \"+df_districts.name[19])"
   ]
  },
  {
   "cell_type": "code",
   "execution_count": 52,
   "metadata": {
    "scrolled": true
   },
   "outputs": [],
   "source": [
    "# def district_number column in gdf - to merge with religion\n",
    "gdf['district_number'] = np.nan\n",
    "for gdf_name in gdf.name:\n",
    "    for district_name in df_districts.name:\n",
    "        if gdf_name in district_name:\n",
    "            distr_number = df_districts.loc[df_districts.name == district_name, 'number'].values[0]\n",
    "            gdf.loc[gdf.name == gdf_name, 'district_number'] = distr_number"
   ]
  },
  {
   "cell_type": "raw",
   "metadata": {},
   "source": [
    "spacer(\"gdf.district_number\")\n",
    "print(gdf.district_number.value_counts(dropna=False))\n",
    "\n",
    "spacer(\"consider missing values\")\n",
    "print(gdf.loc[gdf.district_number.isnull()])"
   ]
  },
  {
   "cell_type": "code",
   "execution_count": 53,
   "metadata": {
    "scrolled": true
   },
   "outputs": [],
   "source": [
    "# manually setting district numbers\n",
    "gdf.loc[10,'district_number'] = \"04\" # Schwabing - West\n",
    "gdf.loc[24,'district_number'] = \"18\" # Untergiesing - Harlaching\n",
    "gdf.loc[26,'district_number'] = \"19\" # Thalkirchen-Obersendling-Forstenried-Fürstenried-Solln\n",
    "\n",
    "gdf.district_number = gdf.district_number.astype(int)"
   ]
  },
  {
   "cell_type": "raw",
   "metadata": {},
   "source": [
    "spacer(\"check nan's\")\n",
    "print(gdf.loc[gdf.district_number.isnull()])"
   ]
  },
  {
   "cell_type": "markdown",
   "metadata": {},
   "source": [
    "#### merge geographical and numerical data"
   ]
  },
  {
   "cell_type": "code",
   "execution_count": 54,
   "metadata": {
    "scrolled": true
   },
   "outputs": [],
   "source": [
    "#merge dataframes gdf and religion_2017\n",
    "df_merged = gdf.merge(religion_2017.drop(0, axis=0), left_on='district_number', right_on='district')"
   ]
  },
  {
   "cell_type": "raw",
   "metadata": {},
   "source": [
    "# whats wrong witch harlaching\n",
    "print(df_merged.loc[25,'geometry'])"
   ]
  },
  {
   "cell_type": "code",
   "execution_count": 55,
   "metadata": {
    "scrolled": true
   },
   "outputs": [],
   "source": [
    "# harlaching split twofold -> multipolygon -> just get big part\n",
    "df_merged.loc[25,'geometry'] = df_merged.loc[25,'geometry'][0]"
   ]
  },
  {
   "cell_type": "code",
   "execution_count": 56,
   "metadata": {
    "scrolled": true
   },
   "outputs": [
    {
     "name": "stdout",
     "output_type": "stream",
     "text": [
      "\n",
      "______________________________________________________________________________\n",
      "\\*/*\\*/*\\*/*\\*/*\\*/*\\*/*\\*/*  [df_merged.head()]  \\*/*\\*/*\\*/*\\*/*\\*/*\\*/*\\*/*\n",
      "\n",
      "                  name  munich_ren  munich_r_1  munich_r_2  cartodb_id  \\\n",
      "0           BergamLaim       15.54        81.6          20          15   \n",
      "1     Schwanthalerhöhe      -99.00        66.0           8           8   \n",
      "2       Altstadt-Lehel       18.71        84.6          33          12   \n",
      "3  Allach-Untermenzing       11.90        85.1          12           4   \n",
      "4               Hadern       14.28        67.3          10           2   \n",
      "\n",
      "   created_at  updated_at                                           geometry  \\\n",
      "0  2015-07-21  2015-07-21  POLYGON ((1293154.475422952 6097292.779394837,...   \n",
      "1  2015-07-21  2015-07-21  POLYGON ((1284074.545309112 6096729.596830403,...   \n",
      "2  2015-07-21  2015-07-21  POLYGON ((1289314.565247784 6097293.560995211,...   \n",
      "3  2015-07-21  2015-07-21  POLYGON ((1275698.733238437 6110272.445110203,...   \n",
      "4  2015-07-21  2015-07-21  POLYGON ((1277081.588480867 6096687.260288376,...   \n",
      "\n",
      "   district_number         rk         ev      other  \n",
      "0               14  31.902944   9.203194  58.893862  \n",
      "1                8  29.057051   9.798544  61.144405  \n",
      "2                1  31.233872  12.572876  56.193252  \n",
      "3               23  38.271567  11.990085  49.738348  \n",
      "4               20  34.262282  11.296498  54.441220  \n"
     ]
    }
   ],
   "source": [
    "spacer(\"df_merged.head()\")\n",
    "print(df_merged.head())"
   ]
  },
  {
   "cell_type": "markdown",
   "metadata": {},
   "source": [
    "#### create json"
   ]
  },
  {
   "cell_type": "code",
   "execution_count": 57,
   "metadata": {
    "scrolled": true
   },
   "outputs": [],
   "source": [
    "import json\n",
    "\n",
    "#Read data to json\n",
    "merged_json = json.loads(df_merged.to_json())\n",
    "\n",
    "#Convert to str like object\n",
    "json_data = json.dumps(merged_json)"
   ]
  },
  {
   "cell_type": "markdown",
   "metadata": {},
   "source": [
    "#### bokeh work flow"
   ]
  },
  {
   "cell_type": "code",
   "execution_count": 58,
   "metadata": {
    "scrolled": true
   },
   "outputs": [],
   "source": [
    "# format the tooltip\n",
    "\n",
    "from bokeh.models import HoverTool\n",
    "tooltips = \"\"\"\n",
    "    <HTML>\n",
    "        <HEAD>\n",
    "            <style>\n",
    "                .bk-tooltip {\n",
    "                    opacity: .8 !important;\n",
    "                    }\n",
    "            </style>\n",
    "        </HEAD>\n",
    "        <BODY>\n",
    "            <div>\n",
    "                <div>\n",
    "                    <img\n",
    "                        src=\"./data/munich_kindl.png\" height=\"42\" alt=\"@imgs\" width=\"42\"\n",
    "                        style=\"float: left; margin: 0px 10px 0px 20px;\"\n",
    "                        border=\"0\"\n",
    "                    ></img>\n",
    "                </div>\n",
    "                <div>\n",
    "                    <span style=\"font-size: 10px; font-weight: bold;\">@name</span>\n",
    "                </div>\n",
    "                <div>\n",
    "                    <img\n",
    "                        src=\"./data/plots/munich_religions_in_@district_number.png\" height=\"42\" alt=\"@imgs\" width=\"42\"\n",
    "                        style=\"float: left; margin: 0px 0px 0px 0px; width: 200px; height: 150px;\"\n",
    "                        border=\"0\"\n",
    "                    ></img>\n",
    "                </div>\n",
    "            </div>\n",
    "        </BODY>\n",
    "    </HTML>\n",
    "\"\"\"\n",
    "\n",
    "hover = HoverTool(\n",
    "    tooltips = tooltips\n",
    ")"
   ]
  },
  {
   "cell_type": "code",
   "execution_count": 61,
   "metadata": {
    "scrolled": false
   },
   "outputs": [
    {
     "data": {
      "text/html": [
       "\n",
       "    <div class=\"bk-root\">\n",
       "        <a href=\"https://bokeh.pydata.org\" target=\"_blank\" class=\"bk-logo bk-logo-small bk-logo-notebook\"></a>\n",
       "        <span id=\"1113\">Loading BokehJS ...</span>\n",
       "    </div>"
      ]
     },
     "metadata": {},
     "output_type": "display_data"
    },
    {
     "data": {
      "application/javascript": [
       "\n",
       "(function(root) {\n",
       "  function now() {\n",
       "    return new Date();\n",
       "  }\n",
       "\n",
       "  var force = true;\n",
       "\n",
       "  if (typeof root._bokeh_onload_callbacks === \"undefined\" || force === true) {\n",
       "    root._bokeh_onload_callbacks = [];\n",
       "    root._bokeh_is_loading = undefined;\n",
       "  }\n",
       "\n",
       "  var JS_MIME_TYPE = 'application/javascript';\n",
       "  var HTML_MIME_TYPE = 'text/html';\n",
       "  var EXEC_MIME_TYPE = 'application/vnd.bokehjs_exec.v0+json';\n",
       "  var CLASS_NAME = 'output_bokeh rendered_html';\n",
       "\n",
       "  /**\n",
       "   * Render data to the DOM node\n",
       "   */\n",
       "  function render(props, node) {\n",
       "    var script = document.createElement(\"script\");\n",
       "    node.appendChild(script);\n",
       "  }\n",
       "\n",
       "  /**\n",
       "   * Handle when an output is cleared or removed\n",
       "   */\n",
       "  function handleClearOutput(event, handle) {\n",
       "    var cell = handle.cell;\n",
       "\n",
       "    var id = cell.output_area._bokeh_element_id;\n",
       "    var server_id = cell.output_area._bokeh_server_id;\n",
       "    // Clean up Bokeh references\n",
       "    if (id != null && id in Bokeh.index) {\n",
       "      Bokeh.index[id].model.document.clear();\n",
       "      delete Bokeh.index[id];\n",
       "    }\n",
       "\n",
       "    if (server_id !== undefined) {\n",
       "      // Clean up Bokeh references\n",
       "      var cmd = \"from bokeh.io.state import curstate; print(curstate().uuid_to_server['\" + server_id + \"'].get_sessions()[0].document.roots[0]._id)\";\n",
       "      cell.notebook.kernel.execute(cmd, {\n",
       "        iopub: {\n",
       "          output: function(msg) {\n",
       "            var id = msg.content.text.trim();\n",
       "            if (id in Bokeh.index) {\n",
       "              Bokeh.index[id].model.document.clear();\n",
       "              delete Bokeh.index[id];\n",
       "            }\n",
       "          }\n",
       "        }\n",
       "      });\n",
       "      // Destroy server and session\n",
       "      var cmd = \"import bokeh.io.notebook as ion; ion.destroy_server('\" + server_id + \"')\";\n",
       "      cell.notebook.kernel.execute(cmd);\n",
       "    }\n",
       "  }\n",
       "\n",
       "  /**\n",
       "   * Handle when a new output is added\n",
       "   */\n",
       "  function handleAddOutput(event, handle) {\n",
       "    var output_area = handle.output_area;\n",
       "    var output = handle.output;\n",
       "\n",
       "    // limit handleAddOutput to display_data with EXEC_MIME_TYPE content only\n",
       "    if ((output.output_type != \"display_data\") || (!output.data.hasOwnProperty(EXEC_MIME_TYPE))) {\n",
       "      return\n",
       "    }\n",
       "\n",
       "    var toinsert = output_area.element.find(\".\" + CLASS_NAME.split(' ')[0]);\n",
       "\n",
       "    if (output.metadata[EXEC_MIME_TYPE][\"id\"] !== undefined) {\n",
       "      toinsert[toinsert.length - 1].firstChild.textContent = output.data[JS_MIME_TYPE];\n",
       "      // store reference to embed id on output_area\n",
       "      output_area._bokeh_element_id = output.metadata[EXEC_MIME_TYPE][\"id\"];\n",
       "    }\n",
       "    if (output.metadata[EXEC_MIME_TYPE][\"server_id\"] !== undefined) {\n",
       "      var bk_div = document.createElement(\"div\");\n",
       "      bk_div.innerHTML = output.data[HTML_MIME_TYPE];\n",
       "      var script_attrs = bk_div.children[0].attributes;\n",
       "      for (var i = 0; i < script_attrs.length; i++) {\n",
       "        toinsert[toinsert.length - 1].firstChild.setAttribute(script_attrs[i].name, script_attrs[i].value);\n",
       "      }\n",
       "      // store reference to server id on output_area\n",
       "      output_area._bokeh_server_id = output.metadata[EXEC_MIME_TYPE][\"server_id\"];\n",
       "    }\n",
       "  }\n",
       "\n",
       "  function register_renderer(events, OutputArea) {\n",
       "\n",
       "    function append_mime(data, metadata, element) {\n",
       "      // create a DOM node to render to\n",
       "      var toinsert = this.create_output_subarea(\n",
       "        metadata,\n",
       "        CLASS_NAME,\n",
       "        EXEC_MIME_TYPE\n",
       "      );\n",
       "      this.keyboard_manager.register_events(toinsert);\n",
       "      // Render to node\n",
       "      var props = {data: data, metadata: metadata[EXEC_MIME_TYPE]};\n",
       "      render(props, toinsert[toinsert.length - 1]);\n",
       "      element.append(toinsert);\n",
       "      return toinsert\n",
       "    }\n",
       "\n",
       "    /* Handle when an output is cleared or removed */\n",
       "    events.on('clear_output.CodeCell', handleClearOutput);\n",
       "    events.on('delete.Cell', handleClearOutput);\n",
       "\n",
       "    /* Handle when a new output is added */\n",
       "    events.on('output_added.OutputArea', handleAddOutput);\n",
       "\n",
       "    /**\n",
       "     * Register the mime type and append_mime function with output_area\n",
       "     */\n",
       "    OutputArea.prototype.register_mime_type(EXEC_MIME_TYPE, append_mime, {\n",
       "      /* Is output safe? */\n",
       "      safe: true,\n",
       "      /* Index of renderer in `output_area.display_order` */\n",
       "      index: 0\n",
       "    });\n",
       "  }\n",
       "\n",
       "  // register the mime type if in Jupyter Notebook environment and previously unregistered\n",
       "  if (root.Jupyter !== undefined) {\n",
       "    var events = require('base/js/events');\n",
       "    var OutputArea = require('notebook/js/outputarea').OutputArea;\n",
       "\n",
       "    if (OutputArea.prototype.mime_types().indexOf(EXEC_MIME_TYPE) == -1) {\n",
       "      register_renderer(events, OutputArea);\n",
       "    }\n",
       "  }\n",
       "\n",
       "  \n",
       "  if (typeof (root._bokeh_timeout) === \"undefined\" || force === true) {\n",
       "    root._bokeh_timeout = Date.now() + 5000;\n",
       "    root._bokeh_failed_load = false;\n",
       "  }\n",
       "\n",
       "  var NB_LOAD_WARNING = {'data': {'text/html':\n",
       "     \"<div style='background-color: #fdd'>\\n\"+\n",
       "     \"<p>\\n\"+\n",
       "     \"BokehJS does not appear to have successfully loaded. If loading BokehJS from CDN, this \\n\"+\n",
       "     \"may be due to a slow or bad network connection. Possible fixes:\\n\"+\n",
       "     \"</p>\\n\"+\n",
       "     \"<ul>\\n\"+\n",
       "     \"<li>re-rerun `output_notebook()` to attempt to load from CDN again, or</li>\\n\"+\n",
       "     \"<li>use INLINE resources instead, as so:</li>\\n\"+\n",
       "     \"</ul>\\n\"+\n",
       "     \"<code>\\n\"+\n",
       "     \"from bokeh.resources import INLINE\\n\"+\n",
       "     \"output_notebook(resources=INLINE)\\n\"+\n",
       "     \"</code>\\n\"+\n",
       "     \"</div>\"}};\n",
       "\n",
       "  function display_loaded() {\n",
       "    var el = document.getElementById(\"1113\");\n",
       "    if (el != null) {\n",
       "      el.textContent = \"BokehJS is loading...\";\n",
       "    }\n",
       "    if (root.Bokeh !== undefined) {\n",
       "      if (el != null) {\n",
       "        el.textContent = \"BokehJS \" + root.Bokeh.version + \" successfully loaded.\";\n",
       "      }\n",
       "    } else if (Date.now() < root._bokeh_timeout) {\n",
       "      setTimeout(display_loaded, 100)\n",
       "    }\n",
       "  }\n",
       "\n",
       "\n",
       "  function run_callbacks() {\n",
       "    try {\n",
       "      root._bokeh_onload_callbacks.forEach(function(callback) {\n",
       "        if (callback != null)\n",
       "          callback();\n",
       "      });\n",
       "    } finally {\n",
       "      delete root._bokeh_onload_callbacks\n",
       "    }\n",
       "    console.debug(\"Bokeh: all callbacks have finished\");\n",
       "  }\n",
       "\n",
       "  function load_libs(css_urls, js_urls, callback) {\n",
       "    if (css_urls == null) css_urls = [];\n",
       "    if (js_urls == null) js_urls = [];\n",
       "\n",
       "    root._bokeh_onload_callbacks.push(callback);\n",
       "    if (root._bokeh_is_loading > 0) {\n",
       "      console.debug(\"Bokeh: BokehJS is being loaded, scheduling callback at\", now());\n",
       "      return null;\n",
       "    }\n",
       "    if (js_urls == null || js_urls.length === 0) {\n",
       "      run_callbacks();\n",
       "      return null;\n",
       "    }\n",
       "    console.debug(\"Bokeh: BokehJS not loaded, scheduling load and callback at\", now());\n",
       "    root._bokeh_is_loading = css_urls.length + js_urls.length;\n",
       "\n",
       "    function on_load() {\n",
       "      root._bokeh_is_loading--;\n",
       "      if (root._bokeh_is_loading === 0) {\n",
       "        console.debug(\"Bokeh: all BokehJS libraries/stylesheets loaded\");\n",
       "        run_callbacks()\n",
       "      }\n",
       "    }\n",
       "\n",
       "    function on_error() {\n",
       "      console.error(\"failed to load \" + url);\n",
       "    }\n",
       "\n",
       "    for (var i = 0; i < css_urls.length; i++) {\n",
       "      var url = css_urls[i];\n",
       "      const element = document.createElement(\"link\");\n",
       "      element.onload = on_load;\n",
       "      element.onerror = on_error;\n",
       "      element.rel = \"stylesheet\";\n",
       "      element.type = \"text/css\";\n",
       "      element.href = url;\n",
       "      console.debug(\"Bokeh: injecting link tag for BokehJS stylesheet: \", url);\n",
       "      document.body.appendChild(element);\n",
       "    }\n",
       "\n",
       "    for (var i = 0; i < js_urls.length; i++) {\n",
       "      var url = js_urls[i];\n",
       "      var element = document.createElement('script');\n",
       "      element.onload = on_load;\n",
       "      element.onerror = on_error;\n",
       "      element.async = false;\n",
       "      element.src = url;\n",
       "      console.debug(\"Bokeh: injecting script tag for BokehJS library: \", url);\n",
       "      document.head.appendChild(element);\n",
       "    }\n",
       "  };var element = document.getElementById(\"1113\");\n",
       "  if (element == null) {\n",
       "    console.error(\"Bokeh: ERROR: autoload.js configured with elementid '1113' but no matching script tag was found. \")\n",
       "    return false;\n",
       "  }\n",
       "\n",
       "  function inject_raw_css(css) {\n",
       "    const element = document.createElement(\"style\");\n",
       "    element.appendChild(document.createTextNode(css));\n",
       "    document.body.appendChild(element);\n",
       "  }\n",
       "\n",
       "  var js_urls = [\"https://cdn.pydata.org/bokeh/release/bokeh-1.3.0.min.js\", \"https://cdn.pydata.org/bokeh/release/bokeh-widgets-1.3.0.min.js\", \"https://cdn.pydata.org/bokeh/release/bokeh-tables-1.3.0.min.js\", \"https://cdn.pydata.org/bokeh/release/bokeh-gl-1.3.0.min.js\"];\n",
       "  var css_urls = [];\n",
       "\n",
       "  var inline_js = [\n",
       "    function(Bokeh) {\n",
       "      Bokeh.set_log_level(\"info\");\n",
       "    },\n",
       "    \n",
       "    function(Bokeh) {\n",
       "      \n",
       "    },\n",
       "    function(Bokeh) {} // ensure no trailing comma for IE\n",
       "  ];\n",
       "\n",
       "  function run_inline_js() {\n",
       "    \n",
       "    if ((root.Bokeh !== undefined) || (force === true)) {\n",
       "      for (var i = 0; i < inline_js.length; i++) {\n",
       "        inline_js[i].call(root, root.Bokeh);\n",
       "      }if (force === true) {\n",
       "        display_loaded();\n",
       "      }} else if (Date.now() < root._bokeh_timeout) {\n",
       "      setTimeout(run_inline_js, 100);\n",
       "    } else if (!root._bokeh_failed_load) {\n",
       "      console.log(\"Bokeh: BokehJS failed to load within specified timeout.\");\n",
       "      root._bokeh_failed_load = true;\n",
       "    } else if (force !== true) {\n",
       "      var cell = $(document.getElementById(\"1113\")).parents('.cell').data().cell;\n",
       "      cell.output_area.append_execute_result(NB_LOAD_WARNING)\n",
       "    }\n",
       "\n",
       "  }\n",
       "\n",
       "  if (root._bokeh_is_loading === 0) {\n",
       "    console.debug(\"Bokeh: BokehJS loaded, going straight to plotting\");\n",
       "    run_inline_js();\n",
       "  } else {\n",
       "    load_libs(css_urls, js_urls, function() {\n",
       "      console.debug(\"Bokeh: BokehJS plotting callback run at\", now());\n",
       "      run_inline_js();\n",
       "    });\n",
       "  }\n",
       "}(window));"
      ],
      "application/vnd.bokehjs_load.v0+json": "\n(function(root) {\n  function now() {\n    return new Date();\n  }\n\n  var force = true;\n\n  if (typeof root._bokeh_onload_callbacks === \"undefined\" || force === true) {\n    root._bokeh_onload_callbacks = [];\n    root._bokeh_is_loading = undefined;\n  }\n\n  \n\n  \n  if (typeof (root._bokeh_timeout) === \"undefined\" || force === true) {\n    root._bokeh_timeout = Date.now() + 5000;\n    root._bokeh_failed_load = false;\n  }\n\n  var NB_LOAD_WARNING = {'data': {'text/html':\n     \"<div style='background-color: #fdd'>\\n\"+\n     \"<p>\\n\"+\n     \"BokehJS does not appear to have successfully loaded. If loading BokehJS from CDN, this \\n\"+\n     \"may be due to a slow or bad network connection. Possible fixes:\\n\"+\n     \"</p>\\n\"+\n     \"<ul>\\n\"+\n     \"<li>re-rerun `output_notebook()` to attempt to load from CDN again, or</li>\\n\"+\n     \"<li>use INLINE resources instead, as so:</li>\\n\"+\n     \"</ul>\\n\"+\n     \"<code>\\n\"+\n     \"from bokeh.resources import INLINE\\n\"+\n     \"output_notebook(resources=INLINE)\\n\"+\n     \"</code>\\n\"+\n     \"</div>\"}};\n\n  function display_loaded() {\n    var el = document.getElementById(\"1113\");\n    if (el != null) {\n      el.textContent = \"BokehJS is loading...\";\n    }\n    if (root.Bokeh !== undefined) {\n      if (el != null) {\n        el.textContent = \"BokehJS \" + root.Bokeh.version + \" successfully loaded.\";\n      }\n    } else if (Date.now() < root._bokeh_timeout) {\n      setTimeout(display_loaded, 100)\n    }\n  }\n\n\n  function run_callbacks() {\n    try {\n      root._bokeh_onload_callbacks.forEach(function(callback) {\n        if (callback != null)\n          callback();\n      });\n    } finally {\n      delete root._bokeh_onload_callbacks\n    }\n    console.debug(\"Bokeh: all callbacks have finished\");\n  }\n\n  function load_libs(css_urls, js_urls, callback) {\n    if (css_urls == null) css_urls = [];\n    if (js_urls == null) js_urls = [];\n\n    root._bokeh_onload_callbacks.push(callback);\n    if (root._bokeh_is_loading > 0) {\n      console.debug(\"Bokeh: BokehJS is being loaded, scheduling callback at\", now());\n      return null;\n    }\n    if (js_urls == null || js_urls.length === 0) {\n      run_callbacks();\n      return null;\n    }\n    console.debug(\"Bokeh: BokehJS not loaded, scheduling load and callback at\", now());\n    root._bokeh_is_loading = css_urls.length + js_urls.length;\n\n    function on_load() {\n      root._bokeh_is_loading--;\n      if (root._bokeh_is_loading === 0) {\n        console.debug(\"Bokeh: all BokehJS libraries/stylesheets loaded\");\n        run_callbacks()\n      }\n    }\n\n    function on_error() {\n      console.error(\"failed to load \" + url);\n    }\n\n    for (var i = 0; i < css_urls.length; i++) {\n      var url = css_urls[i];\n      const element = document.createElement(\"link\");\n      element.onload = on_load;\n      element.onerror = on_error;\n      element.rel = \"stylesheet\";\n      element.type = \"text/css\";\n      element.href = url;\n      console.debug(\"Bokeh: injecting link tag for BokehJS stylesheet: \", url);\n      document.body.appendChild(element);\n    }\n\n    for (var i = 0; i < js_urls.length; i++) {\n      var url = js_urls[i];\n      var element = document.createElement('script');\n      element.onload = on_load;\n      element.onerror = on_error;\n      element.async = false;\n      element.src = url;\n      console.debug(\"Bokeh: injecting script tag for BokehJS library: \", url);\n      document.head.appendChild(element);\n    }\n  };var element = document.getElementById(\"1113\");\n  if (element == null) {\n    console.error(\"Bokeh: ERROR: autoload.js configured with elementid '1113' but no matching script tag was found. \")\n    return false;\n  }\n\n  function inject_raw_css(css) {\n    const element = document.createElement(\"style\");\n    element.appendChild(document.createTextNode(css));\n    document.body.appendChild(element);\n  }\n\n  var js_urls = [\"https://cdn.pydata.org/bokeh/release/bokeh-1.3.0.min.js\", \"https://cdn.pydata.org/bokeh/release/bokeh-widgets-1.3.0.min.js\", \"https://cdn.pydata.org/bokeh/release/bokeh-tables-1.3.0.min.js\", \"https://cdn.pydata.org/bokeh/release/bokeh-gl-1.3.0.min.js\"];\n  var css_urls = [];\n\n  var inline_js = [\n    function(Bokeh) {\n      Bokeh.set_log_level(\"info\");\n    },\n    \n    function(Bokeh) {\n      \n    },\n    function(Bokeh) {} // ensure no trailing comma for IE\n  ];\n\n  function run_inline_js() {\n    \n    if ((root.Bokeh !== undefined) || (force === true)) {\n      for (var i = 0; i < inline_js.length; i++) {\n        inline_js[i].call(root, root.Bokeh);\n      }if (force === true) {\n        display_loaded();\n      }} else if (Date.now() < root._bokeh_timeout) {\n      setTimeout(run_inline_js, 100);\n    } else if (!root._bokeh_failed_load) {\n      console.log(\"Bokeh: BokehJS failed to load within specified timeout.\");\n      root._bokeh_failed_load = true;\n    } else if (force !== true) {\n      var cell = $(document.getElementById(\"1113\")).parents('.cell').data().cell;\n      cell.output_area.append_execute_result(NB_LOAD_WARNING)\n    }\n\n  }\n\n  if (root._bokeh_is_loading === 0) {\n    console.debug(\"Bokeh: BokehJS loaded, going straight to plotting\");\n    run_inline_js();\n  } else {\n    load_libs(css_urls, js_urls, function() {\n      console.debug(\"Bokeh: BokehJS plotting callback run at\", now());\n      run_inline_js();\n    });\n  }\n}(window));"
     },
     "metadata": {},
     "output_type": "display_data"
    },
    {
     "data": {
      "text/html": [
       "\n",
       "\n",
       "\n",
       "\n",
       "\n",
       "\n",
       "  <div class=\"bk-root\" id=\"ddaae74b-b66b-4d75-8eaf-93e41470a4e3\" data-root-id=\"1084\"></div>\n"
      ]
     },
     "metadata": {},
     "output_type": "display_data"
    },
    {
     "data": {
      "application/javascript": [
       "(function(root) {\n",
       "  function embed_document(root) {\n",
       "    \n",
       "  var docs_json = {\"1179247d-8241-45af-96df-ec523826f1d5\":{\"roots\":{\"references\":[{\"attributes\":{\"below\":[{\"id\":\"1095\",\"type\":\"LinearAxis\"}],\"center\":[{\"id\":\"1099\",\"type\":\"Grid\"},{\"id\":\"1104\",\"type\":\"Grid\"}],\"left\":[{\"id\":\"1100\",\"type\":\"LinearAxis\"}],\"plot_width\":750,\"renderers\":[{\"id\":\"1111\",\"type\":\"GlyphRenderer\"}],\"title\":{\"id\":\"1085\",\"type\":\"Title\"},\"toolbar\":{\"id\":\"1105\",\"type\":\"Toolbar\"},\"toolbar_location\":null,\"x_range\":{\"id\":\"1087\",\"type\":\"DataRange1d\"},\"x_scale\":{\"id\":\"1091\",\"type\":\"LinearScale\"},\"y_range\":{\"id\":\"1089\",\"type\":\"DataRange1d\"},\"y_scale\":{\"id\":\"1093\",\"type\":\"LinearScale\"}},\"id\":\"1084\",\"subtype\":\"Figure\",\"type\":\"Plot\"},{\"attributes\":{\"callback\":null},\"id\":\"1087\",\"type\":\"DataRange1d\"},{\"attributes\":{\"grid_line_color\":null,\"ticker\":{\"id\":\"1096\",\"type\":\"BasicTicker\"}},\"id\":\"1099\",\"type\":\"Grid\"},{\"attributes\":{\"callback\":null},\"id\":\"1089\",\"type\":\"DataRange1d\"},{\"attributes\":{},\"id\":\"1096\",\"type\":\"BasicTicker\"},{\"attributes\":{},\"id\":\"1093\",\"type\":\"LinearScale\"},{\"attributes\":{},\"id\":\"1123\",\"type\":\"BasicTickFormatter\"},{\"attributes\":{\"formatter\":{\"id\":\"1125\",\"type\":\"BasicTickFormatter\"},\"ticker\":{\"id\":\"1096\",\"type\":\"BasicTicker\"},\"visible\":false},\"id\":\"1095\",\"type\":\"LinearAxis\"},{\"attributes\":{},\"id\":\"1101\",\"type\":\"BasicTicker\"},{\"attributes\":{\"callback\":null,\"geojson\":\"{\\\"type\\\": \\\"FeatureCollection\\\", \\\"features\\\": [{\\\"id\\\": \\\"0\\\", \\\"type\\\": \\\"Feature\\\", \\\"properties\\\": {\\\"cartodb_id\\\": 15, \\\"created_at\\\": \\\"2015-07-21\\\", \\\"district_number\\\": 14, \\\"ev\\\": 9.20319424334167, \\\"munich_r_1\\\": 81.6, \\\"munich_r_2\\\": 20, \\\"munich_ren\\\": 15.54, \\\"name\\\": \\\"BergamLaim\\\", \\\"other\\\": 58.893861612039835, \\\"rk\\\": 31.902944144618488, \\\"updated_at\\\": \\\"2015-07-21\\\"}, \\\"geometry\\\": {\\\"type\\\": \\\"Polygon\\\", \\\"coordinates\\\": [[[1293154.4754229523, 6097292.779394837], [1293299.5358514048, 6097317.823902185], [1293407.4934935763, 6097323.52794042], [1295495.3795989966, 6097281.604180339], [1295659.0637782589, 6097260.717211742], [1296636.6715464056, 6097012.389062116], [1296548.59556529, 6096751.380443723], [1296440.3373604934, 6096430.584972972], [1296292.4382850255, 6096018.101583896], [1296280.1820090893, 6095980.640365381], [1296126.3273408639, 6095544.186952817], [1296004.3545748016, 6095219.480170536], [1295970.5134496004, 6095100.191371611], [1295747.4291900508, 6094503.5896489145], [1295759.2513199728, 6094570.469598131], [1295644.1247025947, 6094617.3839609185], [1295613.2558077974, 6094562.473235436], [1295509.762077207, 6094601.524150873], [1295383.6148302401, 6094633.576292307], [1295086.9595192252, 6094696.633581413], [1294985.3025602328, 6094720.456823601], [1295004.2380056167, 6094777.280430396], [1294972.8013814166, 6094786.440737305], [1294954.166498658, 6094729.10170122], [1294811.031897396, 6094778.527295546], [1294603.9553806223, 6094850.662912459], [1294415.736385589, 6094912.80743156], [1294215.6396008881, 6094973.805263053], [1294106.6578194015, 6094999.624319106], [1293996.7966139377, 6095020.771730659], [1293739.1699163949, 6095049.916009152], [1293553.0548597374, 6095068.104217682], [1293353.1027903745, 6095087.772132363], [1293152.794498641, 6095108.171615254], [1292744.9978080182, 6095150.749666968], [1292590.7757854732, 6095168.173312368], [1292431.8115526203, 6095177.9990671], [1292285.6045334125, 6095175.7546043545], [1292088.0013053052, 6095158.813086204], [1291982.5594836262, 6095141.522464657], [1291752.1949293786, 6095477.615231252], [1291549.8494909636, 6095655.4347185325], [1291657.9518484727, 6095767.548535981], [1291676.8872938566, 6095787.184817434], [1291708.067883228, 6095819.5240929155], [1292104.5211177391, 6096213.158651276], [1292152.7224572527, 6096261.013247791], [1292166.392490722, 6096275.230005819], [1292307.6680564878, 6096422.270924344], [1292387.0165895252, 6096518.132399335], [1292568.8235818886, 6096832.346134704], [1292613.5851491368, 6096922.076112368], [1292655.9978751289, 6096961.836307516], [1292923.8437019265, 6097212.873608735], [1293028.87364149, 6097257.773749758], [1293088.4518329627, 6097272.2748830775], [1293154.4754229523, 6097292.779394837]]]}}, {\\\"id\\\": \\\"1\\\", \\\"type\\\": \\\"Feature\\\", \\\"properties\\\": {\\\"cartodb_id\\\": 8, \\\"created_at\\\": \\\"2015-07-21\\\", \\\"district_number\\\": 8, \\\"ev\\\": 9.798544100220077, \\\"munich_r_1\\\": 66.0, \\\"munich_r_2\\\": 8, \\\"munich_ren\\\": -99.0, \\\"name\\\": \\\"Schwanthalerh\\\\u00f6he\\\", \\\"other\\\": 61.144404943287626, \\\"rk\\\": 29.057050956492297, \\\"updated_at\\\": \\\"2015-07-21\\\"}, \\\"geometry\\\": {\\\"type\\\": \\\"Polygon\\\", \\\"coordinates\\\": [[[1284074.5453091117, 6096729.5968304025], [1283804.740259276, 6096992.251070176], [1283753.767064442, 6097064.9376393175], [1283422.6138432298, 6097429.843267102], [1283221.114432945, 6097645.005748698], [1283135.4763486777, 6097780.528648953], [1283114.5482844086, 6097844.856633925], [1283098.5739374799, 6097930.805436755], [1283089.74630186, 6097987.567381448], [1283105.5202737052, 6098189.205908595], [1283313.7656451322, 6098544.596327289], [1283547.4029924092, 6098755.678802124], [1283630.5363881337, 6098796.162795368], [1283903.9259255729, 6098774.839649136], [1284026.9673587466, 6098767.720857177], [1284095.684880413, 6098758.007374973], [1284147.6822145628, 6098750.755535922], [1284237.7619465129, 6098736.617794112], [1284363.129957044, 6098731.761069422], [1284442.6343373687, 6098732.45963924], [1284572.3994677865, 6098704.284035492], [1284801.9068619548, 6098594.509848088], [1284993.4543097627, 6098518.916176372], [1285136.6557027195, 6098512.662472628], [1285330.696707121, 6098493.635274683], [1285555.762453607, 6098458.724469105], [1285539.331696766, 6098392.113254184], [1285500.904208544, 6098340.72068908], [1285454.6954879158, 6098274.093768558], [1285411.5925810807, 6098212.523374896], [1285716.3964788218, 6098163.510201452], [1285711.676532412, 6097935.778120519], [1285709.138448022, 6097811.761255015], [1285552.656639814, 6097642.810525026], [1285497.9765059364, 6097592.836079091], [1285451.3113753956, 6097503.398354269], [1285426.921274963, 6097414.776443434], [1285420.5092722932, 6097315.645392969], [1285415.689138342, 6097202.91246149], [1285406.727919333, 6097156.83191409], [1285396.0635121148, 6097123.73921771], [1285333.8470487106, 6097022.366615046], [1285227.681650341, 6096927.297641384], [1285193.150344297, 6096590.482340392], [1285163.9846377093, 6096306.024749295], [1285144.3033517369, 6096206.923273749], [1285124.833572797, 6096146.5816835845], [1285093.3524208006, 6096092.126634919], [1285069.3742024838, 6096105.927423368], [1284497.3367351447, 6096496.78171866], [1284074.5453091117, 6096729.5968304025]]]}}, {\\\"id\\\": \\\"2\\\", \\\"type\\\": \\\"Feature\\\", \\\"properties\\\": {\\\"cartodb_id\\\": 12, \\\"created_at\\\": \\\"2015-07-21\\\", \\\"district_number\\\": 1, \\\"ev\\\": 12.572875848227087, \\\"munich_r_1\\\": 84.6, \\\"munich_r_2\\\": 33, \\\"munich_ren\\\": 18.71, \\\"name\\\": \\\"Altstadt-Lehel\\\", \\\"other\\\": 56.193252413265796, \\\"rk\\\": 31.233871738507123, \\\"updated_at\\\": \\\"2015-07-21\\\"}, \\\"geometry\\\": {\\\"type\\\": \\\"Polygon\\\", \\\"coordinates\\\": [[[1289314.5652477837, 6097293.560995211], [1289137.2666947972, 6097315.296166353], [1289083.888998962, 6097321.033462586], [1289013.0675389192, 6097328.633307339], [1288854.65990352, 6097270.7948350785], [1288661.5094550448, 6097190.6564416075], [1288378.190219027, 6097081.018234119], [1288134.03317987, 6096890.281393546], [1287796.957761748, 6096886.689529031], [1287760.4227048694, 6096923.739019349], [1287694.4436426763, 6097007.383660814], [1287627.2623299826, 6097184.802826413], [1287601.4250761694, 6097241.909006127], [1287591.5733012343, 6097263.095263695], [1287485.3745070177, 6097520.594005799], [1287407.9851970181, 6097716.483872122], [1287405.8033349987, 6097857.712310882], [1287424.7944401281, 6097993.305132113], [1287428.3232679858, 6098018.484756254], [1287429.3919350975, 6098032.471620691], [1287432.1637904185, 6098094.705962833], [1287434.635083114, 6098143.735370413], [1287434.9022498918, 6098183.833919375], [1287453.570528498, 6098220.855808844], [1287478.4059068938, 6098259.158499676], [1288392.695148677, 6098908.850358747], [1288586.5357779956, 6098846.244124056], [1288698.6790330205, 6098809.219506514], [1288733.1546793194, 6098798.2585208975], [1288801.3935271755, 6098772.111887025], [1288897.562435272, 6099032.550591987], [1289509.285301079, 6098832.7216372015], [1289538.6736466486, 6098919.96118404], [1289552.3548120672, 6098964.537695232], [1289559.067377362, 6098999.583646599], [1289566.2252206202, 6099044.526506988], [1289570.7447919461, 6099116.265918299], [1289585.2497215965, 6099346.391679258], [1289620.3264931457, 6099902.927598092], [1289758.3070019835, 6099974.324930138], [1289839.4477788229, 6100110.117925559], [1289920.5885556622, 6100306.583277992], [1290042.2941549462, 6100479.945687132], [1290098.799928473, 6100524.047945604], [1290108.1952934961, 6100577.466718027], [1290145.943732824, 6100630.885826733], [1290207.102661066, 6100736.876589213], [1290237.7823127287, 6100830.025112623], [1290226.4388566166, 6100932.358237681], [1290231.8155880221, 6101095.235322828], [1290305.3421116911, 6101092.1241582045], [1290380.5384277217, 6101073.756664101], [1290565.6182131146, 6100476.202578803], [1290652.6477910168, 6100271.265758639], [1290775.3663976674, 6100123.3929178575], [1290927.9742875958, 6100012.386008717], [1291055.96943811, 6099926.732187015], [1291061.3795653626, 6099922.889513005], [1291207.4863970287, 6099827.588427257], [1291114.2897193367, 6099735.582058231], [1290964.0751984601, 6099300.282859215], [1290773.64094556, 6098614.2857294185], [1290683.2161231888, 6098392.778532148], [1290503.1123190343, 6097951.57763676], [1290363.2616427508, 6097674.691215474], [1290291.872453305, 6097596.178786592], [1290107.5830362968, 6097382.94661911], [1290033.4553873774, 6097251.454456287], [1289867.5782141467, 6096950.927594699], [1289808.9907661418, 6096969.951334679], [1289787.962514331, 6096978.43221152], [1289745.0154547829, 6096998.071294151], [1289626.582648528, 6097061.262554192], [1289473.585140382, 6097183.206386608], [1289393.7801974323, 6097330.612261464], [1289368.4104854804, 6097317.424785952], [1289314.5652477837, 6097293.560995211]]]}}, {\\\"id\\\": \\\"3\\\", \\\"type\\\": \\\"Feature\\\", \\\"properties\\\": {\\\"cartodb_id\\\": 4, \\\"created_at\\\": \\\"2015-07-21\\\", \\\"district_number\\\": 23, \\\"ev\\\": 11.990084769103651, \\\"munich_r_1\\\": 85.1, \\\"munich_r_2\\\": 12, \\\"munich_ren\\\": 11.9, \\\"name\\\": \\\"Allach-Untermenzing\\\", \\\"other\\\": 49.73834807356857, \\\"rk\\\": 38.27156715732779, \\\"updated_at\\\": \\\"2015-07-21\\\"}, \\\"geometry\\\": {\\\"type\\\": \\\"Polygon\\\", \\\"coordinates\\\": [[[1275698.7332384367, 6110272.445110203], [1275730.1587306878, 6110280.156498322], [1275745.0978063524, 6110289.666664818], [1275750.0181278454, 6110292.564686151], [1275768.2856562845, 6110325.408997162], [1275778.326674354, 6110360.851682411], [1275780.2079737484, 6110386.800885206], [1275763.6770293654, 6110440.848099802], [1275758.834631516, 6110461.717578723], [1275764.177967074, 6110468.496422915], [1275767.3060447655, 6110474.175999248], [1275771.4248659248, 6110490.0988200465], [1275777.458382326, 6110502.090922398], [1275781.1096616238, 6110511.434780572], [1275811.7781813373, 6110563.967108959], [1275854.9144840199, 6110630.374167454], [1275865.1447452235, 6110655.04168235], [1275904.1733586958, 6110712.271925819], [1275933.517176469, 6110746.70020077], [1275974.950290942, 6110788.657247362], [1276018.5096076895, 6110829.0321480315], [1276025.5004717114, 6110835.494815], [1276081.7947382056, 6110875.770000074], [1276250.9892322621, 6110981.705643555], [1276366.6390512472, 6111062.374191966], [1276441.1451864352, 6111114.343599352], [1276570.2535318574, 6111217.85028488], [1276768.624864451, 6111352.440848745], [1276858.0255475072, 6111413.090587134], [1276861.1424932494, 6111414.673049724], [1276930.4611401663, 6111454.301340839], [1276943.1738260149, 6111461.564049001], [1276995.4717227896, 6111491.797637218], [1277043.8734373865, 6111516.567605002], [1277145.7530353605, 6111552.531661505], [1277179.0375631077, 6111561.326970428], [1277523.4823315202, 6111588.11274018], [1277577.884166671, 6111591.227757457], [1277603.587837095, 6111600.589474017], [1277967.7138914797, 6111119.973637613], [1278321.1421427995, 6110631.20696557], [1278429.5339309846, 6110462.83350602], [1278511.2647011252, 6110277.141894356], [1278521.5617540234, 6110007.830495203], [1278583.3663353121, 6109715.711414044], [1278713.8550424199, 6109439.556552315], [1279136.3236419293, 6108723.064727552], [1279415.1344385701, 6108270.2864362225], [1279529.192388837, 6108107.088361299], [1279564.1021811496, 6108091.336524766], [1279395.6869235288, 6108130.749473068], [1278843.1637629252, 6108142.738238927], [1278703.4244061327, 6108173.709295846], [1278218.527836186, 6108336.842047126], [1277392.0474087407, 6108752.40598128], [1276921.4887892082, 6108925.075154962], [1276698.1484948297, 6109034.61674299], [1276663.517001244, 6108969.138080285], [1277112.579827104, 6108666.680514776], [1277419.5210590684, 6108266.573191355], [1277544.9224654469, 6108148.699326037], [1277942.5779504587, 6107848.56879123], [1278102.3882114415, 6107797.202160963], [1278500.8340648378, 6107669.128274517], [1278615.815966878, 6107651.312637529], [1278787.8602398993, 6107588.208953384], [1278948.0155913034, 6107497.650159594], [1278971.782302588, 6107484.3802723335], [1279090.5601992642, 6106658.158401067], [1279104.0521215484, 6106552.493182989], [1279071.034760579, 6106504.680395778], [1279068.8195027125, 6106460.979877225], [1279057.5984980403, 6106365.006004867], [1279043.7392214367, 6106287.362022379], [1279055.7505944932, 6106135.239144746], [1279042.793005765, 6106047.958668623], [1279057.4203868553, 6106020.27481433], [1279068.8862944068, 6105979.60651396], [1279067.1497103504, 6105789.501859068], [1279061.895430385, 6105750.748998665], [1279062.1959930102, 6105663.589002558], [1279062.4297639409, 6105578.860223948], [1279044.1065757563, 6105308.016793721], [1279036.2808155536, 6104974.131064459], [1278993.7567700704, 6104818.503092562], [1278981.6340775231, 6104649.179773538], [1278959.3590474154, 6104402.798993627], [1278927.176582627, 6104184.535867382], [1278987.1889201137, 6104194.23892048], [1278993.7567700704, 6104025.693639604], [1279134.6315856695, 6104016.523354525], [1279131.2920009454, 6103858.749403319], [1279195.456555439, 6103773.189883279], [1278901.895926268, 6103721.964425294], [1278878.1737427795, 6103724.593924702], [1278875.3128318666, 6103743.832565424], [1278564.3529662846, 6103731.750161397], [1278519.9364894577, 6103726.824007118], [1278467.5050092943, 6103721.5816501295], [1278448.5473000123, 6103718.902224478], [1278379.0950697064, 6103693.539255866], [1278365.3137167462, 6103683.237651819], [1278292.1768112946, 6103628.56779769], [1278158.7158737828, 6103463.162430191], [1278015.6703281135, 6103627.0699984245], [1277853.9787677366, 6103746.977987478], [1277785.8401074214, 6103818.191320575], [1277658.490609954, 6103955.593635912], [1277639.9670466862, 6103977.112877421], [1277618.7384197921, 6104000.0301807225], [1277555.3864975814, 6104070.613201006], [1277388.8302754567, 6104251.858308351], [1277359.998527341, 6104299.79154622], [1277219.3797465712, 6104337.838746598], [1277105.822734013, 6104383.908376003], [1276848.2294323172, 6104215.2261796435], [1276372.483324514, 6104140.298074692], [1276341.4363185319, 6104093.863619467], [1276204.0903307912, 6104071.245638175], [1276180.4460709468, 6104115.849220527], [1276090.8784086541, 6104121.807478015], [1275960.6902641715, 6104090.834570647], [1275811.032340749, 6104072.294152532], [1275786.0633789643, 6104070.280339358], [1275782.389835768, 6104125.369119966], [1275387.1611156557, 6104027.174866252], [1275374.0254157418, 6104239.142730985], [1274931.007238232, 6104115.749361498], [1274770.4177408135, 6104030.18724934], [1274577.5344591162, 6103977.795236318], [1274481.9889401682, 6103921.226205644], [1274332.6983710653, 6104099.838504653], [1274237.7539773677, 6104176.047785435], [1274142.7984517212, 6104237.961048713], [1274065.7653640923, 6104264.756982878], [1273869.2975947913, 6104287.97464645], [1273801.8268514213, 6104277.855398888], [1273699.1123572665, 6104237.961048713], [1273670.3140049982, 6104232.3022908345], [1273304.2732553717, 6104567.057599776], [1273111.3009180813, 6104756.435792003], [1272674.1826735837, 6105197.025254001], [1272569.3642410527, 6106001.480475268], [1272434.0553999934, 6106449.409682394], [1272481.2993918862, 6107226.429110832], [1272487.8004501483, 6107336.414943603], [1272600.1440802568, 6109181.179539581], [1272617.27614989, 6109185.376125546], [1272654.868741931, 6109194.218938489], [1272660.6684874012, 6109195.284739542], [1272693.1626467637, 6109204.860301885], [1272687.719123664, 6109279.45013945], [1273035.2474419714, 6109286.244691756], [1273317.4312191836, 6109289.991689842], [1273341.7656598708, 6109290.358063077], [1273341.3092499585, 6109353.790831386], [1273586.37910894, 6109366.430812255], [1273634.3466775226, 6109368.895527452], [1273795.581827988, 6109377.938373806], [1273895.3018278403, 6109383.533952071], [1273926.3488338224, 6109428.531861538], [1273961.1027788483, 6109479.691876987], [1274152.1270250494, 6109524.440489942], [1274336.1270113816, 6109567.523951546], [1274652.7864348926, 6109634.322901791], [1274863.235932237, 6109679.305488169], [1275189.324116618, 6109740.342959415], [1275447.7523144942, 6109792.087757366], [1275453.8303586915, 6109793.320176746], [1275461.745174487, 6109794.918991343], [1275482.0498496075, 6109798.316473362], [1275513.5977932985, 6109862.202712279], [1275520.4439419822, 6109879.323506687], [1275538.8339218616, 6109925.356631192], [1275546.0251609667, 6109943.343592904], [1275549.2979539959, 6109963.379114624], [1275560.7638615477, 6109986.895514733], [1275565.7732386335, 6109995.539307085], [1275589.6735333067, 6110082.460706975], [1275603.7888447393, 6110148.24775845], [1275619.6963999737, 6110219.03186496], [1275626.4534930647, 6110249.677402621], [1275629.4257234691, 6110253.358205629], [1275640.513144752, 6110258.221531511], [1275663.9904253602, 6110263.851001255], [1275698.7332384367, 6110272.445110203]]]}}, {\\\"id\\\": \\\"4\\\", \\\"type\\\": \\\"Feature\\\", \\\"properties\\\": {\\\"cartodb_id\\\": 2, \\\"created_at\\\": \\\"2015-07-21\\\", \\\"district_number\\\": 20, \\\"ev\\\": 11.296497803570709, \\\"munich_r_1\\\": 67.3, \\\"munich_r_2\\\": 10, \\\"munich_ren\\\": 14.28, \\\"name\\\": \\\"Hadern\\\", \\\"other\\\": 54.441220328053845, \\\"rk\\\": 34.262281868375446, \\\"updated_at\\\": \\\"2015-07-21\\\"}, \\\"geometry\\\": {\\\"type\\\": \\\"Polygon\\\", \\\"coordinates\\\": [[[1277081.588480867, 6096687.260288376], [1277492.6245686722, 6096869.495161623], [1278274.4770122587, 6096704.071827904], [1278421.1404413788, 6096706.732410901], [1278573.124942159, 6096702.29256349], [1278721.9813652479, 6096696.505799565], [1278842.551505726, 6096690.951840199], [1278941.2696301616, 6096678.513644977], [1279166.4800919853, 6096642.862020621], [1279309.1694152844, 6096597.848733033], [1279750.629119923, 6096237.734397164], [1279867.4811894088, 6096091.461537247], [1279954.666614598, 6095909.725550858], [1280127.3676726148, 6095951.95845229], [1280218.204377102, 6095964.960907552], [1280437.7486768446, 6095983.234212736], [1280503.5941556487, 6095927.499923533], [1280461.1702977074, 6094280.57717011], [1280434.1307933938, 6093711.27772778], [1280433.607591787, 6093701.769502764], [1280433.3515569582, 6093686.7591622155], [1280439.9528027622, 6092630.533331478], [1280440.2199695404, 6092597.275446361], [1280412.8910345503, 6092461.004242835], [1280360.4929502339, 6092140.7364655165], [1280376.3003179268, 6092066.130932157], [1280190.3745044037, 6092012.965125562], [1280113.7199030435, 6091959.766413099], [1280109.5008943423, 6091958.353768295], [1280094.138804613, 6091964.104065086], [1279536.5060793823, 6091556.939493201], [1279231.6465218957, 6091376.879263896], [1278869.8247809703, 6091108.898214738], [1278758.638873566, 6091023.3175576115], [1278030.5537440327, 6090997.577058754], [1277558.1472209534, 6092129.900423997], [1277524.7068459191, 6092219.663816973], [1277476.026832595, 6092251.341330456], [1277441.5623182454, 6092270.637082572], [1277368.102586271, 6092262.244006712], [1277346.9964108164, 6092282.8361422755], [1277332.1463907447, 6092291.212618485], [1277325.0108113848, 6092297.129340789], [1277285.2808851206, 6092323.638301719], [1277350.4250511327, 6092449.735664546], [1277301.73390586, 6092464.810299941], [1277084.5384473733, 6092514.505263251], [1277055.472928327, 6092522.8487270735], [1276997.8316959946, 6092539.120167154], [1276972.6512271771, 6092539.203269583], [1276962.721528598, 6092545.901328097], [1276944.7990905805, 6092555.807151368], [1276772.832741203, 6092650.827187438], [1276775.7159160145, 6092588.83218591], [1276777.4858959182, 6092566.726839066], [1276754.3648376805, 6092570.433220274], [1276670.541261113, 6092570.798872317], [1276526.9279860405, 6092571.480314808], [1276303.8325945416, 6092573.707468696], [1276146.927772269, 6092579.159012016], [1276129.8179665338, 6092580.355692725], [1276065.2415299243, 6092580.704724629], [1276065.597752295, 6092595.846074906], [1276066.0764261056, 6092604.871063819], [1276070.9410878532, 6092644.8935980005], [1276078.3660978891, 6092701.420762684], [1276084.5999893735, 6092736.125071381], [1276091.524061701, 6092784.9240902085], [1276097.7913490327, 6092856.8433188675], [1276102.7228024746, 6092907.687439676], [1276109.3129163298, 6092989.11512448], [1276095.2755285404, 6093024.06993049], [1276100.0956624919, 6093039.162206945], [1276107.3425613425, 6093061.90040098], [1276110.2368681033, 6093111.548993867], [1276112.2406189376, 6093154.050547551], [1276112.4075981737, 6093157.674076636], [1276088.707678584, 6093219.191198558], [1276063.9613557803, 6093283.484630157], [1276084.4441420862, 6093411.973220631], [1276079.7019317788, 6093496.962925863], [1276078.8225078015, 6093523.6418568], [1276078.1100630604, 6093545.384000824], [1276087.204865458, 6093584.928914665], [1276109.2349926862, 6093680.641998928], [1276116.8603778053, 6093718.192807206], [1276121.424476928, 6093781.642248406], [1276087.1269418146, 6093907.811133917], [1276104.34806704, 6093994.567875668], [1276103.0567609472, 6094025.952790009], [1276102.1662050209, 6094047.546609356], [1276100.6077321495, 6094080.095364615], [1276100.4296209645, 6094090.61804814], [1276099.9732110521, 6094101.0742505295], [1276099.51680114, 6094111.181370961], [1276099.4054816489, 6094128.120798795], [1276157.458596098, 6094135.086088544], [1276176.594416565, 6094137.03105114], [1276257.267651543, 6094141.037343022], [1276258.6814090763, 6094150.629178154], [1276260.0951666092, 6094158.375798146], [1276262.5107995593, 6094254.228337589], [1276263.323431842, 6094257.65285], [1276270.058261035, 6094271.965996921], [1276274.9451866806, 6094283.453104415], [1276278.3404311503, 6094290.318778107], [1276282.4926481566, 6094306.826340723], [1276287.5354210895, 6094339.259721876], [1276319.9071290123, 6094536.788503917], [1276323.5361444124, 6094553.1469258815], [1276327.4545904882, 6094571.018205414], [1276332.5196273194, 6094604.08432785], [1276337.6514558448, 6094642.736444168], [1276341.9706520876, 6094682.386217294], [1276342.2712147129, 6094703.316717275], [1276341.4363185319, 6094715.585771439], [1276342.5383814906, 6094744.862000758], [1276341.3583948882, 6094811.677350831], [1276336.9390111037, 6094883.29787206], [1276330.21531386, 6094979.042219139], [1276323.914630681, 6095039.192632071], [1276320.5861779063, 6095063.183089773], [1276314.0517237966, 6095092.726525496], [1276307.8623601084, 6095125.994186474], [1276294.604208755, 6095172.628983157], [1276263.4013554857, 6095285.667473108], [1276248.3398283813, 6095337.091423085], [1276243.6198819717, 6095357.275367009], [1276239.6569080995, 6095379.288223818], [1276235.6048786344, 6095410.229352433], [1276231.9090715402, 6095467.6394937765], [1276231.1854948502, 6095510.751390045], [1276222.8254010917, 6095528.940585882], [1276215.9124607132, 6095579.617819676], [1276214.732474111, 6095618.673413936], [1276215.3892591067, 6095662.0354761975], [1276216.9477319776, 6095673.7738639675], [1276218.806767474, 6095686.493240141], [1276224.9849992131, 6095728.9910587445], [1276224.5842490462, 6095752.983465782], [1276227.3227085199, 6095787.700249651], [1276242.1282007953, 6095916.991590195], [1276256.0542690933, 6096085.592052552], [1276265.137939542, 6096184.891643168], [1276265.8281203848, 6096193.471501562], [1276265.8726481816, 6096245.948498597], [1276264.970960306, 6096286.287500747], [1276263.7687098053, 6096311.644968313], [1276256.69992214, 6096357.6710439455], [1276254.306553088, 6096369.327253712], [1276249.4752871874, 6096392.041112163], [1276245.4455216208, 6096409.367537], [1276225.2187701436, 6096527.627150749], [1276224.127839134, 6096532.881693747], [1276222.4691787213, 6096533.663224153], [1276190.765387743, 6096544.055922587], [1276545.8077716792, 6096616.888310217], [1277081.588480867, 6096687.260288376]]]}}, {\\\"id\\\": \\\"5\\\", \\\"type\\\": \\\"Feature\\\", \\\"properties\\\": {\\\"cartodb_id\\\": 14, \\\"created_at\\\": \\\"2015-07-21\\\", \\\"district_number\\\": 5, \\\"ev\\\": 12.394768367330194, \\\"munich_r_1\\\": 83.8, \\\"munich_r_2\\\": 39, \\\"munich_ren\\\": 15.82, \\\"name\\\": \\\"Au-Haidhausen\\\", \\\"other\\\": 56.47471979257266, \\\"rk\\\": 31.13051184009715, \\\"updated_at\\\": \\\"2015-07-21\\\"}, \\\"geometry\\\": {\\\"type\\\": \\\"Polygon\\\", \\\"coordinates\\\": [[[1287736.7116533306, 6095469.40187321], [1288110.834197989, 6095782.21339218], [1288718.0486244187, 6096253.248081235], [1288860.3149336525, 6096363.607228658], [1288934.8433327386, 6096337.883791543], [1289230.2296015583, 6096387.684569449], [1289374.0877795108, 6096401.186533534], [1289463.9894002755, 6096449.707315716], [1289596.147899745, 6096529.572661542], [1289835.2955618163, 6096819.325721937], [1289867.5782141467, 6096950.927594699], [1290033.4553873774, 6097251.454456287], [1290107.5830362968, 6097382.94661911], [1290291.872453305, 6097596.178786592], [1290363.2616427508, 6097674.691215474], [1290503.1123190343, 6097951.57763676], [1290683.2161231888, 6098392.778532148], [1290773.64094556, 6098614.2857294185], [1290817.3895054418, 6098599.765670758], [1290829.601253582, 6098591.881937971], [1290837.1375831086, 6098580.738277539], [1290838.3175697112, 6098560.330447782], [1290811.0776903138, 6098448.113209348], [1290814.662177917, 6098425.959336759], [1290833.3081926254, 6098406.084102376], [1290847.3789762615, 6098395.32322084], [1290876.1328007334, 6098389.81804561], [1290910.007321782, 6098390.317003942], [1290927.6180652254, 6098411.323176378], [1290968.238547416, 6098508.171783952], [1290981.2629278386, 6098520.180223433], [1290996.346718841, 6098524.255113267], [1291102.2115545857, 6098494.88268583], [1291164.2387748554, 6098480.030189021], [1291309.822404915, 6098418.308613413], [1291787.6613191452, 6098314.874837049], [1291994.214634312, 6098280.31403306], [1292036.43811717, 6098272.497123859], [1292094.424439924, 6098212.806112041], [1292127.942738602, 6098178.312249788], [1292320.8482841977, 6098138.546355937], [1292594.0597104514, 6098084.810306033], [1292752.9014918646, 6098058.366506656], [1292937.4692075998, 6098042.782998057], [1293203.5339225447, 6098029.1453726], [1293929.6486970913, 6098053.959214771], [1293729.4294609502, 6097946.305584385], [1292995.466662303, 6097831.186064783], [1293154.4754229523, 6097292.779394837], [1293088.4518329627, 6097272.2748830775], [1293028.87364149, 6097257.773749758], [1292923.8437019265, 6097212.873608735], [1292655.9978751289, 6096961.836307516], [1292613.5851491368, 6096922.076112368], [1292568.8235818886, 6096832.346134704], [1292387.0165895252, 6096518.132399335], [1292307.6680564878, 6096422.270924344], [1292166.392490722, 6096275.230005819], [1292152.7224572527, 6096261.013247791], [1292104.5211177391, 6096213.158651276], [1291708.067883228, 6095819.5240929155], [1291676.8872938566, 6095787.184817434], [1291657.9518484727, 6095767.548535981], [1291549.8494909636, 6095655.4347185325], [1291526.895411962, 6095676.168098025], [1291406.058104706, 6095785.339237821], [1291360.5061690733, 6095743.423073702], [1291085.2353322394, 6095490.051667059], [1290857.0860358586, 6095400.652720243], [1290621.200034868, 6095327.764262576], [1289323.8270294177, 6094996.249383301], [1288761.3853021846, 6094802.816265205], [1288556.8134739536, 6094926.506552067], [1288300.0216725918, 6095071.64543649], [1288276.6891073217, 6095088.221020211], [1287853.942209085, 6095330.058643354], [1287796.390032345, 6095393.137731713], [1287760.478364615, 6095439.491351059], [1287736.7116533306, 6095469.40187321]], [[1291085.2353322394, 6095490.051667059], [1291006.4879244524, 6095608.49799276], [1291047.0304829993, 6095544.552732948], [1291085.2353322394, 6095490.051667059]]]}}, {\\\"id\\\": \\\"6\\\", \\\"type\\\": \\\"Feature\\\", \\\"properties\\\": {\\\"cartodb_id\\\": 19, \\\"created_at\\\": \\\"2015-07-21\\\", \\\"district_number\\\": 21, \\\"ev\\\": 13.594159086615024, \\\"munich_r_1\\\": 79.4, \\\"munich_r_2\\\": 19, \\\"munich_ren\\\": 12.77, \\\"name\\\": \\\"Obermenzing\\\", \\\"other\\\": 51.855650624848174, \\\"rk\\\": 34.550190288536804, \\\"updated_at\\\": \\\"2015-07-21\\\"}, \\\"geometry\\\": {\\\"type\\\": \\\"Polygon\\\", \\\"coordinates\\\": [[[1279226.9822352314, 6103044.379578921], [1279202.658926493, 6103012.944656789], [1279231.3236953723, 6102972.1576445075], [1279249.235001441, 6102586.346504245], [1279268.4932733483, 6102564.997191528], [1279265.1982164206, 6102520.268641954], [1279216.7742379257, 6102480.033116909], [1279041.5016996718, 6102343.736277806], [1278965.604070849, 6102203.714397168], [1278900.9942383922, 6102098.088012046], [1278844.789027491, 6102115.6257612575], [1278820.1651561274, 6102101.1829063315], [1278778.4314790291, 6102082.064464525], [1278710.8716800667, 6102058.669806708], [1278662.915243433, 6102050.499994744], [1278634.8961276, 6102047.687983892], [1278610.5394230147, 6102046.37349393], [1278535.5880098634, 6102050.2337688245], [1278480.3958063282, 6102058.586611027], [1278416.1755920895, 6102075.625103486], [1278360.4601869476, 6102091.831670058], [1278320.496489753, 6102111.299557892], [1278149.4874879962, 6101747.490387053], [1278085.2450098593, 6101365.8610985745], [1278095.8982851282, 6101233.092671551], [1278108.8892697038, 6101123.485415307], [1278143.6654786277, 6100983.333937195], [1278159.0164364083, 6100920.595937966], [1278051.949350163, 6100919.664271361], [1277934.0174816167, 6100950.176405929], [1277927.739062336, 6100919.664271361], [1277918.1767180767, 6100901.796256582], [1277826.2156867324, 6100880.367997972], [1277802.3265240083, 6100845.830018026], [1277719.9278369232, 6100866.076976696], [1277713.9499802673, 6100848.209074757], [1277138.283497528, 6100849.406921754], [1277135.901260425, 6100841.071906565], [1276910.1675969947, 6100838.692851834], [1276849.2535716326, 6100789.864148596], [1276500.5118708755, 6100801.775997136], [1276415.7198147383, 6100795.820070777], [1276408.5508395312, 6100781.5291918935], [1276376.301583048, 6100781.5291918935], [1276158.048589399, 6100800.744523558], [1276153.272983244, 6100747.740259665], [1276081.6500228676, 6100753.513149931], [1276086.4256290225, 6100820.19281264], [1276011.151389348, 6100826.930681957], [1276006.9880403925, 6100759.718595431], [1275873.8387974547, 6100765.424947442], [1275877.4232850582, 6100797.583556917], [1275692.298971869, 6100799.96260012], [1275584.808871559, 6100739.222342298], [1275525.0970966972, 6100634.446003515], [1275420.0003654396, 6100730.887435339], [1275047.9260994121, 6100775.140727628], [1274899.8266488607, 6100772.162773273], [1274900.461169958, 6100836.862810189], [1274721.3147134245, 6100839.258501152], [1274721.6264079988, 6100903.509854133], [1274428.4108692496, 6100902.0125358645], [1274220.254553415, 6101068.066741929], [1274140.2381034328, 6100973.983932822], [1274047.6759468382, 6101050.198414647], [1272647.577315284, 6102176.558906039], [1272812.1186546253, 6102344.967615348], [1272932.1544615477, 6102610.691109556], [1273149.516899271, 6102848.849265028], [1273479.1561754078, 6103194.167168212], [1273561.4324110532, 6103277.207977808], [1273276.3654590298, 6103552.529855766], [1273431.1440790286, 6103711.729356243], [1273401.3883791398, 6103810.668874351], [1273360.779028898, 6103855.920150387], [1273301.067254037, 6103896.395199809], [1273255.6822976405, 6103953.563207591], [1273246.1199533811, 6103998.815245877], [1273222.241922606, 6104148.85269381], [1273487.3826857773, 6104160.752616076], [1273589.0953045152, 6104194.788150233], [1273670.3140049982, 6104232.3022908345], [1273699.1123572665, 6104237.961048713], [1273801.8268514213, 6104277.855398888], [1273869.2975947913, 6104287.97464645], [1274065.7653640923, 6104264.756982878], [1274142.7984517212, 6104237.961048713], [1274237.7539773677, 6104176.047785435], [1274332.6983710653, 6104099.838504653], [1274481.9889401682, 6103921.226205644], [1274577.5344591162, 6103977.795236318], [1274770.4177408135, 6104030.18724934], [1274931.007238232, 6104115.749361498], [1275374.0254157418, 6104239.142730985], [1275387.1611156557, 6104027.174866252], [1275782.389835768, 6104125.369119966], [1275786.0633789643, 6104070.280339358], [1275811.032340749, 6104072.294152532], [1275960.6902641715, 6104090.834570647], [1276090.8784086541, 6104121.807478015], [1276180.4460709468, 6104115.849220527], [1276204.0903307912, 6104071.245638175], [1276341.4363185319, 6104093.863619467], [1276372.483324514, 6104140.298074692], [1276848.2294323172, 6104215.2261796435], [1277105.822734013, 6104383.908376003], [1277219.3797465712, 6104337.838746598], [1277359.998527341, 6104299.79154622], [1277388.8302754567, 6104251.858308351], [1277555.3864975814, 6104070.613201006], [1277618.7384197921, 6104000.0301807225], [1277639.9670466862, 6103977.112877421], [1277658.490609954, 6103955.593635912], [1277785.8401074214, 6103818.191320575], [1277853.9787677366, 6103746.977987478], [1278015.6703281135, 6103627.0699984245], [1278158.7158737828, 6103463.162430191], [1278292.1768112946, 6103628.56779769], [1278365.3137167462, 6103683.237651819], [1278379.0950697064, 6103693.539255866], [1278448.5473000123, 6103718.902224478], [1278467.5050092943, 6103721.5816501295], [1278519.9364894577, 6103726.824007118], [1278564.3529662846, 6103731.750161397], [1278875.3128318666, 6103743.832565424], [1278878.1737427795, 6103724.593924702], [1278901.895926268, 6103721.964425294], [1279195.456555439, 6103773.189883279], [1279202.658926493, 6103618.14977717], [1279185.6381763509, 6103599.693602905], [1279183.545369924, 6103582.419059587], [1279203.5494824194, 6103567.241455177], [1279228.32920107, 6103046.875739721], [1279226.9822352314, 6103044.379578921]]]}}, {\\\"id\\\": \\\"7\\\", \\\"type\\\": \\\"Feature\\\", \\\"properties\\\": {\\\"cartodb_id\\\": 23, \\\"created_at\\\": \\\"2015-07-21\\\", \\\"district_number\\\": 21, \\\"ev\\\": 13.594159086615024, \\\"munich_r_1\\\": 69.5, \\\"munich_r_2\\\": 34, \\\"munich_ren\\\": 13.43, \\\"name\\\": \\\"Pasing\\\", \\\"other\\\": 51.855650624848174, \\\"rk\\\": 34.550190288536804, \\\"updated_at\\\": \\\"2015-07-21\\\"}, \\\"geometry\\\": {\\\"type\\\": \\\"Polygon\\\", \\\"coordinates\\\": [[[1273214.8391764683, 6098090.51485972], [1273860.0692090043, 6099674.5999015635], [1273967.8821358378, 6099836.454759954], [1274165.5855514866, 6100020.520588299], [1274116.9945937553, 6100423.6661481075], [1274047.6759468382, 6101050.198414647], [1274140.2381034328, 6100973.983932822], [1274220.254553415, 6101068.066741929], [1274428.4108692496, 6100902.0125358645], [1274721.6264079988, 6100903.509854133], [1274721.3147134245, 6100839.258501152], [1274900.461169958, 6100836.862810189], [1274899.8266488607, 6100772.162773273], [1275047.9260994121, 6100775.140727628], [1275420.0003654396, 6100730.887435339], [1275525.0970966972, 6100634.446003515], [1275584.808871559, 6100739.222342298], [1275692.298971869, 6100799.96260012], [1275877.4232850582, 6100797.583556917], [1275873.8387974547, 6100765.424947442], [1276006.9880403925, 6100759.718595431], [1276011.151389348, 6100826.930681957], [1276086.4256290225, 6100820.19281264], [1276081.6500228676, 6100753.513149931], [1276153.272983244, 6100747.740259665], [1276158.048589399, 6100800.744523558], [1276376.301583048, 6100781.5291918935], [1276408.5508395312, 6100781.5291918935], [1276415.7198147383, 6100795.820070777], [1276500.5118708755, 6100801.775997136], [1276849.2535716326, 6100789.864148596], [1276910.1675969947, 6100838.692851834], [1277135.901260425, 6100841.071906565], [1277138.283497528, 6100849.406921754], [1277713.9499802673, 6100848.209074757], [1277719.9278369232, 6100866.076976696], [1277802.3265240083, 6100845.830018026], [1277826.2156867324, 6100880.367997972], [1277918.1767180767, 6100901.796256582], [1277927.739062336, 6100919.664271361], [1277934.0174816167, 6100950.176405929], [1278051.949350163, 6100919.664271361], [1278159.0164364083, 6100920.595937966], [1278150.9346413764, 6100914.440285494], [1278215.5667377312, 6100712.470813662], [1278270.4583786412, 6100535.7265149], [1278781.8601193454, 6099652.160042043], [1279057.1866159246, 6099230.770793416], [1279047.7244592072, 6099195.524285081], [1278507.2015397113, 6097782.657385225], [1278471.8687333334, 6097696.044859136], [1278439.4858934616, 6097600.80203595], [1278404.4870455563, 6097497.927017906], [1278368.352738845, 6097394.487826886], [1278336.660079816, 6097295.490051761], [1278277.3713190195, 6097087.287512527], [1278252.5470725724, 6096965.128879077], [1278255.7753378055, 6096852.284200111], [1278274.4770122587, 6096704.071827904], [1277492.6245686722, 6096869.495161623], [1277081.588480867, 6096687.260288376], [1276545.8077716792, 6096616.888310217], [1276190.765387743, 6096544.055922587], [1276175.1027353886, 6096549.194077391], [1276143.2876249198, 6096564.076452708], [1276114.3111614662, 6096582.766757662], [1276093.3051735535, 6096591.446788727], [1276091.969339664, 6096644.890700451], [1276035.1407396141, 6096644.358587662], [1275982.7315233487, 6096644.973843079], [1275956.6716305537, 6096650.328229931], [1275944.6936533444, 6096657.395360607], [1275941.8661382785, 6096660.371871522], [1275936.745441702, 6096669.434439116], [1275933.1720860472, 6096684.899026344], [1275932.9160512185, 6096689.022921028], [1275935.9996011136, 6096711.62123433], [1275737.0939349642, 6096767.942678741], [1275720.6075183777, 6096772.000098674], [1275667.3634059313, 6096785.436158849], [1275639.6225888254, 6096793.933480163], [1275729.3794942524, 6097009.927934196], [1275461.8787578759, 6097080.053730158], [1275461.6449869452, 6097037.416112899], [1275127.2746324497, 6097116.671698769], [1275111.166702132, 6097120.47984354], [1275125.103902379, 6097174.7419347325], [1275086.899053139, 6097179.16539969], [1274879.8670641615, 6097203.062128058], [1274851.7811566344, 6097206.304904315], [1274796.6557447936, 6097204.991164043], [1274766.554954483, 6097204.242831064], [1274739.5377140676, 6097203.4446092965], [1274734.4726772364, 6097203.760572071], [1274731.5561065776, 6097180.312840222], [1274721.7377274898, 6097127.979731899], [1274716.9287254876, 6097108.889120014], [1274678.0893551498, 6097126.017454481], [1274603.5275602164, 6097164.365093657], [1274600.3549547286, 6097166.393898124], [1274585.649649995, 6097157.580242888], [1274561.3820010019, 6097118.25149661], [1274549.9828851447, 6097102.353754906], [1274547.4559327036, 6097096.866047633], [1274536.557754555, 6097073.135911866], [1274518.0675871342, 6097038.081284693], [1274498.5755442965, 6097015.565248525], [1274488.1783038564, 6097001.36387977], [1274476.7680560502, 6096986.131524699], [1274456.552436522, 6096952.341070416], [1274430.0695296621, 6096892.875518861], [1274424.4367634282, 6096876.628990682], [1274420.06190744, 6096866.801269692], [1274416.2881767019, 6096863.990975932], [1274413.5608491774, 6096859.767222567], [1274405.890936262, 6096857.538944079], [1274404.8556649974, 6096857.239623133], [1274397.7423495357, 6096855.177634678], [1274388.3135886656, 6096852.56689195], [1274383.6381700523, 6096862.012130592], [1274373.0294225798, 6096889.28365325], [1274370.0460602264, 6096902.17114109], [1274364.524613483, 6096925.701250006], [1274364.4800856868, 6096927.680110195], [1274372.4839570748, 6096966.758536181], [1274372.1722625007, 6096976.154014361], [1274361.2963482502, 6097001.247475204], [1274336.2049350252, 6097036.019252309], [1274322.9913114682, 6097054.361380543], [1274309.5995767256, 6097084.876251054], [1274281.725176231, 6097169.802955906], [1274281.279898268, 6097173.32842198], [1274285.4655111218, 6097201.3326478945], [1274286.5007823862, 6097204.043275615], [1274298.022349683, 6097221.737210351], [1274300.1819478048, 6097223.865806489], [1274335.3700388444, 6097245.600799168], [1274329.1584112581, 6097258.8380522765], [1274265.6617737098, 6097253.832505647], [1274223.5607422919, 6097272.8236649865], [1274154.843220625, 6097303.8215855155], [1274137.9115260753, 6097311.4713043505], [1274122.7052836327, 6097321.066722286], [1274112.8312447998, 6097326.088938426], [1274086.6489005648, 6097341.255384007], [1274029.8759602602, 6097354.393006796], [1274001.077607992, 6097351.682331063], [1273971.8005819137, 6097348.888506671], [1273906.1332142947, 6097342.668924722], [1273867.73912192, 6097362.308850092], [1273849.8389478005, 6097365.967435623], [1273832.7625379127, 6097366.93197207], [1273808.517152818, 6097364.869859798], [1273794.8137235013, 6097361.543873317], [1273777.1250564142, 6097356.55489604], [1273757.2211314605, 6097362.541669126], [1273745.3544737417, 6097363.040567072], [1273742.1262085089, 6097362.541669126], [1273731.9182112033, 6097358.883085071], [1273714.9976486026, 6097347.824192859], [1273710.299966091, 6097344.764291394], [1273680.6110578966, 6097348.057011494], [1273647.5157732838, 6097364.470741351], [1273603.0770325589, 6097385.424485164], [1273592.6575282207, 6097390.712819158], [1273542.9422436326, 6097396.217346406], [1273341.2869860604, 6097440.503144152], [1273280.1169258696, 6097450.231748775], [1273295.9688213584, 6097475.9419268025], [1273315.2270932656, 6097504.71214073], [1273329.464856138, 6097525.233844239], [1273359.7103617867, 6097567.857281626], [1273337.413067781, 6097584.903390439], [1273316.362552072, 6097603.695725681], [1273200.4455663087, 6097704.260371867], [1273105.300797528, 6097777.23576108], [1273088.4024988255, 6097787.347259212], [1273214.8391764683, 6098090.51485972]]]}}, {\\\"id\\\": \\\"8\\\", \\\"type\\\": \\\"Feature\\\", \\\"properties\\\": {\\\"cartodb_id\\\": 22, \\\"created_at\\\": \\\"2015-07-21\\\", \\\"district_number\\\": 9, \\\"ev\\\": 12.60353227771011, \\\"munich_r_1\\\": 73.8, \\\"munich_r_2\\\": 30, \\\"munich_ren\\\": 15.61, \\\"name\\\": \\\"Neuhausen\\\", \\\"other\\\": 55.24259033698741, \\\"rk\\\": 32.15387738530248, \\\"updated_at\\\": \\\"2015-07-21\\\"}, \\\"geometry\\\": {\\\"type\\\": \\\"Polygon\\\", \\\"coordinates\\\": [[[1284205.5794817246, 6102950.441261416], [1284412.3331719746, 6103011.862991344], [1284721.1890991807, 6103115.9531209525], [1284883.0587707434, 6103189.208043379], [1284990.0590652938, 6103234.206382945], [1285083.0553679024, 6103269.819143367], [1285161.8695673842, 6103303.285289528], [1285312.2065397003, 6103330.9269946385], [1285449.4078121032, 6103373.130277435], [1285542.8271287768, 6103418.246085194], [1285608.5056283448, 6103303.285289528], [1285674.0171486766, 6103154.444326863], [1285729.0089771284, 6103068.708857482], [1285759.7442885367, 6103052.9830162395], [1285815.4596936787, 6103026.140986303], [1285901.086645997, 6103036.275381924], [1286065.872888218, 6103058.075190213], [1286139.0765853636, 6103044.945375305], [1286173.908454033, 6103008.784405838], [1286245.0193447515, 6102945.831737446], [1286141.258447383, 6102833.70625427], [1286118.0372016039, 6102726.640947125], [1286080.7674360862, 6102563.9987838315], [1286070.8600014057, 6102312.786500969], [1286061.49803223, 6101906.872324634], [1285909.235232723, 6101902.845726659], [1285823.2075302377, 6101883.7776481435], [1285671.8575505554, 6101758.305435852], [1286345.3070740073, 6100993.18306326], [1286084.530034875, 6100810.85962472], [1285430.9065127333, 6100285.772041781], [1285621.296237837, 6100172.550494972], [1285478.5067269963, 6099949.072962589], [1285354.0849321368, 6099979.431891869], [1285289.6866067129, 6099851.625692171], [1285252.6394801766, 6099785.519218817], [1285181.528589458, 6099682.883867665], [1285105.185682672, 6099611.189569458], [1285058.698663317, 6099529.964487317], [1284971.1792796552, 6099465.474022455], [1284930.4920057703, 6099498.3596070865], [1284865.748589925, 6099417.534819828], [1284833.4214097986, 6099445.679523593], [1284755.2751272614, 6099342.682338511], [1284814.0963461967, 6099295.409178226], [1284784.7191325764, 6099235.145429248], [1284834.879695128, 6099205.704007235], [1284786.333265193, 6099176.678524496], [1284738.7441828789, 6099113.987147242], [1284442.6343373687, 6098732.45963924], [1284363.129957044, 6098731.761069422], [1284237.7619465129, 6098736.617794112], [1284147.6822145628, 6098750.755535922], [1284095.684880413, 6098758.007374973], [1284026.9673587466, 6098767.720857177], [1283903.9259255729, 6098774.839649136], [1283630.5363881337, 6098796.162795368], [1283547.4029924092, 6098755.678802124], [1283313.7656451322, 6098544.596327289], [1283223.4966700478, 6098541.2366140075], [1282289.1253921255, 6098669.4721583845], [1282421.9963363365, 6099257.950126325], [1282443.3028868742, 6099411.030944706], [1282459.010067025, 6099616.945052244], [1282431.9149029662, 6100019.7720070295], [1282407.8253651583, 6100580.477876531], [1282574.4261150798, 6100554.492112905], [1282677.2964565216, 6100943.005878073], [1282681.983007084, 6100998.756475815], [1282683.6416674969, 6101020.467864097], [1282687.6046413693, 6101065.571163232], [1282668.223918022, 6101481.3446992235], [1282664.572638724, 6101534.286993473], [1282645.7930406274, 6101826.523753676], [1282593.4840119034, 6102034.576371629], [1282560.0881646655, 6102110.301203583], [1282336.3916479165, 6102452.327624368], [1282126.8883662436, 6102801.0240682205], [1282036.7418425991, 6102893.3964984445], [1282035.9960020108, 6102957.779895002], [1282622.5606628987, 6103099.01238615], [1282861.6749291224, 6103126.087623859], [1283172.7572461443, 6103144.459561474], [1283194.843033118, 6103148.386901123], [1283209.6819212406, 6103185.397174252], [1283621.3970579393, 6103222.274477492], [1283844.7596162162, 6103296.1959805135], [1284205.5794817246, 6102950.441261416]]]}}, {\\\"id\\\": \\\"9\\\", \\\"type\\\": \\\"Feature\\\", \\\"properties\\\": {\\\"cartodb_id\\\": 18, \\\"created_at\\\": \\\"2015-07-21\\\", \\\"district_number\\\": 9, \\\"ev\\\": 12.60353227771011, \\\"munich_r_1\\\": 83.4, \\\"munich_r_2\\\": 25, \\\"munich_ren\\\": 15.62, \\\"name\\\": \\\"Nymphenburg\\\", \\\"other\\\": 55.24259033698741, \\\"rk\\\": 32.15387738530248, \\\"updated_at\\\": \\\"2015-07-21\\\"}, \\\"geometry\\\": {\\\"type\\\": \\\"Polygon\\\", \\\"coordinates\\\": [[[1282035.9960020108, 6102957.779895002], [1282036.7418425991, 6102893.3964984445], [1282126.8883662436, 6102801.0240682205], [1282336.3916479165, 6102452.327624368], [1282560.0881646655, 6102110.301203583], [1282593.4840119034, 6102034.576371629], [1282645.7930406274, 6101826.523753676], [1282664.572638724, 6101534.286993473], [1282668.223918022, 6101481.3446992235], [1282687.6046413693, 6101065.571163232], [1282683.6416674969, 6101020.467864097], [1282681.983007084, 6100998.756475815], [1282677.2964565216, 6100943.005878073], [1282574.4261150798, 6100554.492112905], [1282407.8253651583, 6100580.477876531], [1282431.9149029662, 6100019.7720070295], [1282459.010067025, 6099616.945052244], [1282443.3028868742, 6099411.030944706], [1282421.9963363365, 6099257.950126325], [1282289.1253921255, 6098669.4721583845], [1281970.094863461, 6098823.8064546995], [1281688.3118364164, 6098810.832884955], [1281572.2723992132, 6098832.355715348], [1280980.308743022, 6098929.674851602], [1280523.1863860283, 6099001.0639960915], [1279927.4712629972, 6099104.472868854], [1279323.4962337492, 6099189.586119463], [1279057.1866159246, 6099230.770793416], [1278781.8601193454, 6099652.160042043], [1278270.4583786412, 6100535.7265149], [1278215.5667377312, 6100712.470813662], [1278150.9346413764, 6100914.440285494], [1278159.0164364083, 6100920.595937966], [1278143.6654786277, 6100983.333937195], [1278108.8892697038, 6101123.485415307], [1278095.8982851282, 6101233.092671551], [1278085.2450098593, 6101365.8610985745], [1278149.4874879962, 6101747.490387053], [1278320.496489753, 6102111.299557892], [1278360.4601869476, 6102091.831670058], [1278416.1755920895, 6102075.625103486], [1278480.3958063282, 6102058.586611027], [1278535.5880098634, 6102050.2337688245], [1278610.5394230147, 6102046.37349393], [1278634.8961276, 6102047.687983892], [1278662.915243433, 6102050.499994744], [1278710.8716800667, 6102058.669806708], [1278778.4314790291, 6102082.064464525], [1278820.1651561274, 6102101.1829063315], [1278844.789027491, 6102115.6257612575], [1278900.9942383922, 6102098.088012046], [1278965.604070849, 6102203.714397168], [1279041.5016996718, 6102343.736277806], [1279216.7742379257, 6102480.033116909], [1279265.1982164206, 6102520.268641954], [1279268.4932733483, 6102564.997191528], [1279357.003400478, 6102620.858289392], [1279410.1361934335, 6102635.73467595], [1279480.089361448, 6102636.084121587], [1279660.4158045843, 6102562.484532382], [1279673.4847128035, 6102557.143054149], [1279844.5716382037, 6102520.235361872], [1279850.7164740954, 6102554.563836891], [1279857.7407339646, 6102593.801304192], [1279768.173071672, 6102612.255290277], [1279797.884243765, 6102747.2085637], [1279810.8195685952, 6102805.982966148], [1279815.3502718701, 6102826.584056357], [1279929.998215438, 6102808.7286659125], [1279936.421350057, 6102844.456125059], [1279959.854102869, 6102974.83683432], [1280110.3469224721, 6102926.611547158], [1280370.1109542386, 6102889.702247557], [1280930.248368012, 6102898.6383436825], [1281219.879419158, 6102926.012476991], [1281253.3197941922, 6102909.937443323], [1281369.7599815622, 6103321.358061847], [1281585.9424326827, 6103153.445849796], [1281967.5233832237, 6102964.719153006], [1282035.9960020108, 6102957.779895002]]]}}, {\\\"id\\\": \\\"10\\\", \\\"type\\\": \\\"Feature\\\", \\\"properties\\\": {\\\"cartodb_id\\\": 9, \\\"created_at\\\": \\\"2015-07-21\\\", \\\"district_number\\\": 2, \\\"ev\\\": 11.684614192748683, \\\"munich_r_1\\\": 85.2, \\\"munich_r_2\\\": 42, \\\"munich_ren\\\": 16.49, \\\"name\\\": \\\"Ludwigsvorstadt-Isarvorstadt\\\", \\\"other\\\": 59.517353579175705, \\\"rk\\\": 28.798032228075613, \\\"updated_at\\\": \\\"2015-07-21\\\"}, \\\"geometry\\\": {\\\"type\\\": \\\"Polygon\\\", \\\"coordinates\\\": [[[1289314.5652477837, 6097293.560995211], [1289368.4104854804, 6097317.424785952], [1289393.7801974323, 6097330.612261464], [1289473.585140382, 6097183.206386608], [1289626.582648528, 6097061.262554192], [1289745.0154547829, 6096998.071294151], [1289787.962514331, 6096978.43221152], [1289808.9907661418, 6096969.951334679], [1289867.5782141467, 6096950.927594699], [1289835.2955618163, 6096819.325721937], [1289596.147899745, 6096529.572661542], [1289463.9894002755, 6096449.707315716], [1289374.0877795108, 6096401.186533534], [1289230.2296015583, 6096387.684569449], [1288934.8433327386, 6096337.883791543], [1288860.3149336525, 6096363.607228658], [1288718.0486244187, 6096253.248081235], [1288110.834197989, 6095782.21339218], [1287736.7116533306, 6095469.40187321], [1287129.4193032573, 6094932.092607551], [1286997.9843804776, 6094773.223963706], [1286659.0944546557, 6095014.703482174], [1286545.927060315, 6095098.8114552405], [1286484.44530555, 6095144.498444127], [1286181.355727967, 6095364.108657085], [1285633.6415693657, 6095738.817462577], [1285608.6503436828, 6095756.059420308], [1285577.6144696495, 6095775.745555655], [1285212.3195606116, 6096008.60740236], [1285093.3524208006, 6096092.126634919], [1285124.833572797, 6096146.5816835845], [1285144.3033517369, 6096206.923273749], [1285163.9846377093, 6096306.024749295], [1285193.150344297, 6096590.482340392], [1285227.681650341, 6096927.297641384], [1285333.8470487106, 6097022.366615046], [1285396.0635121148, 6097123.73921771], [1285406.727919333, 6097156.83191409], [1285415.689138342, 6097202.91246149], [1285420.5092722932, 6097315.645392969], [1285426.921274963, 6097414.776443434], [1285451.3113753956, 6097503.398354269], [1285497.9765059364, 6097592.836079091], [1285552.656639814, 6097642.810525026], [1285709.138448022, 6097811.761255015], [1285711.676532412, 6097935.778120519], [1285716.3964788218, 6098163.510201452], [1285411.5925810807, 6098212.523374896], [1285454.6954879158, 6098274.093768558], [1285500.904208544, 6098340.72068908], [1285539.331696766, 6098392.113254184], [1285555.762453607, 6098458.724469105], [1285604.4202030327, 6098929.608319595], [1286419.3679312323, 6098678.520238846], [1286887.8003484902, 6098563.723433191], [1286983.3681313363, 6098522.575260486], [1287432.1415265205, 6098303.116164652], [1287478.4059068938, 6098259.158499676], [1287453.570528498, 6098220.855808844], [1287434.9022498918, 6098183.833919375], [1287434.635083114, 6098143.735370413], [1287432.1637904185, 6098094.705962833], [1287429.3919350975, 6098032.471620691], [1287428.3232679858, 6098018.484756254], [1287424.7944401281, 6097993.305132113], [1287405.8033349987, 6097857.712310882], [1287407.9851970181, 6097716.483872122], [1287485.3745070177, 6097520.594005799], [1287591.5733012343, 6097263.095263695], [1287601.4250761694, 6097241.909006127], [1287627.2623299826, 6097184.802826413], [1287694.4436426763, 6097007.383660814], [1287760.4227048694, 6096923.739019349], [1287796.957761748, 6096886.689529031], [1288134.03317987, 6096890.281393546], [1288378.190219027, 6097081.018234119], [1288661.5094550448, 6097190.6564416075], [1288854.65990352, 6097270.7948350785], [1289013.0675389192, 6097328.633307339], [1289083.888998962, 6097321.033462586], [1289137.2666947972, 6097315.296166353], [1289314.5652477837, 6097293.560995211]]]}}, {\\\"id\\\": \\\"11\\\", \\\"type\\\": \\\"Feature\\\", \\\"properties\\\": {\\\"cartodb_id\\\": 11, \\\"created_at\\\": \\\"2015-07-21\\\", \\\"district_number\\\": 3, \\\"ev\\\": 13.650094521642533, \\\"munich_r_1\\\": 80.9, \\\"munich_r_2\\\": 36, \\\"munich_ren\\\": 15.68, \\\"name\\\": \\\"Maxvorstadt\\\", \\\"other\\\": 54.491239695192064, \\\"rk\\\": 31.858665783165403, \\\"updated_at\\\": \\\"2015-07-21\\\"}, \\\"geometry\\\": {\\\"type\\\": \\\"Polygon\\\", \\\"coordinates\\\": [[[1285289.6866067129, 6099851.625692171], [1285354.0849321368, 6099979.431891869], [1285478.5067269963, 6099949.072962589], [1285621.296237837, 6100172.550494972], [1285430.9065127333, 6100285.772041781], [1286084.530034875, 6100810.85962472], [1286345.3070740073, 6100993.18306326], [1286402.647743715, 6100896.272818284], [1286936.4135701198, 6101338.8413906675], [1286916.7768119436, 6101256.335315094], [1287104.0384593564, 6101194.41053193], [1287292.5580170145, 6101155.196172967], [1287349.7539713841, 6101145.080661322], [1287509.4974406725, 6101133.118418872], [1287663.3966366942, 6101125.8645498855], [1287817.6965828827, 6101114.734198747], [1287921.4018205057, 6101107.264060954], [1288032.2871652849, 6101088.663612798], [1288322.8755640516, 6100959.476473125], [1288339.5846196197, 6100951.274445532], [1288583.8195824202, 6100843.53414573], [1288912.7352818672, 6100789.597962228], [1289014.592615943, 6100769.683918209], [1289150.2910752199, 6100744.961953648], [1289387.190083577, 6100686.601100944], [1289396.8414834288, 6100684.2220895225], [1289344.1539684364, 6100498.078990856], [1289350.0316375503, 6100373.775139633], [1289385.9878330764, 6100339.056228133], [1289589.9028763117, 6100306.882720613], [1289657.6853142558, 6100293.058464001], [1289670.0195138357, 6100329.923198345], [1289688.164590835, 6100361.4646324795], [1289730.5327890308, 6100408.011752083], [1289905.1930700855, 6100524.91302426], [1290024.4273766743, 6100495.6833962165], [1290098.799928473, 6100524.047945604], [1290042.2941549462, 6100479.945687132], [1289920.5885556622, 6100306.583277992], [1289839.4477788229, 6100110.117925559], [1289758.3070019835, 6099974.324930138], [1289620.3264931457, 6099902.927598092], [1289585.2497215965, 6099346.391679258], [1289570.7447919461, 6099116.265918299], [1289566.2252206202, 6099044.526506988], [1289559.067377362, 6098999.583646599], [1289552.3548120672, 6098964.537695232], [1289538.6736466486, 6098919.96118404], [1289509.285301079, 6098832.7216372015], [1288897.562435272, 6099032.550591987], [1288801.3935271755, 6098772.111887025], [1288733.1546793194, 6098798.2585208975], [1288698.6790330205, 6098809.219506514], [1288586.5357779956, 6098846.244124056], [1288392.695148677, 6098908.850358747], [1287478.4059068938, 6098259.158499676], [1287432.1415265205, 6098303.116164652], [1286983.3681313363, 6098522.575260486], [1286887.8003484902, 6098563.723433191], [1286419.3679312323, 6098678.520238846], [1285604.4202030327, 6098929.608319595], [1285555.762453607, 6098458.724469105], [1285330.696707121, 6098493.635274683], [1285136.6557027195, 6098512.662472628], [1284993.4543097627, 6098518.916176372], [1284801.9068619548, 6098594.509848088], [1284572.3994677865, 6098704.284035492], [1284442.6343373687, 6098732.45963924], [1284738.7441828789, 6099113.987147242], [1284786.333265193, 6099176.678524496], [1284834.879695128, 6099205.704007235], [1284784.7191325764, 6099235.145429248], [1284814.0963461967, 6099295.409178226], [1284755.2751272614, 6099342.682338511], [1284833.4214097986, 6099445.679523593], [1284865.748589925, 6099417.534819828], [1284930.4920057703, 6099498.3596070865], [1284971.1792796552, 6099465.474022455], [1285058.698663317, 6099529.964487317], [1285105.185682672, 6099611.189569458], [1285181.528589458, 6099682.883867665], [1285252.6394801766, 6099785.519218817], [1285289.6866067129, 6099851.625692171]], [[1287326.90242549, 6100190.632414184], [1287325.7059798657, 6100191.161353641], [1287325.753489169, 6100188.736791648], [1287326.90242549, 6100190.632414184]], [[1287126.9209336936, 6100279.043159587], [1287096.9329935545, 6100292.300746571], [1287122.7290018601, 6100273.561476107], [1287126.9209336936, 6100279.043159587]]]}}, {\\\"id\\\": \\\"12\\\", \\\"type\\\": \\\"Feature\\\", \\\"properties\\\": {\\\"cartodb_id\\\": 21, \\\"created_at\\\": \\\"2015-07-21\\\", \\\"district_number\\\": 4, \\\"ev\\\": 13.996923753021315, \\\"munich_r_1\\\": 91.3, \\\"munich_r_2\\\": 66, \\\"munich_ren\\\": 15.47, \\\"name\\\": \\\"Schwabing-SchwabingWest\\\", \\\"other\\\": 55.46180326668132, \\\"rk\\\": 30.54127298029737, \\\"updated_at\\\": \\\"2015-07-21\\\"}, \\\"geometry\\\": {\\\"type\\\": \\\"Polygon\\\", \\\"coordinates\\\": [[[1289670.6206390858, 6104405.561854004], [1289678.3239478488, 6104246.182897773], [1289699.0739009327, 6104025.32749373], [1289739.0487300763, 6104041.121709644], [1289787.2055417937, 6104041.754144612], [1289867.3444432155, 6103862.92671379], [1289950.989908598, 6103805.859172185], [1289917.6942489014, 6103718.619303808], [1289952.448193927, 6103255.191267141], [1290128.0101628574, 6103272.2654459495], [1290124.581522541, 6103506.065333765], [1290239.0290910255, 6103608.930006109], [1290395.6333506736, 6103571.851316802], [1290702.2517561144, 6103445.655178888], [1291031.2453792049, 6103320.409489966], [1291178.8216281496, 6103289.472791523], [1291338.1866111693, 6103306.097716576], [1291428.7338849802, 6103244.341027118], [1291551.352304089, 6103172.683195315], [1291664.831393004, 6103357.037754852], [1291742.3431544432, 6103308.926786146], [1291858.9614529982, 6103532.925524261], [1291883.3404214818, 6103368.770149376], [1291980.6447883844, 6103327.848293345], [1292019.3728392313, 6103257.055113447], [1291955.7092224467, 6103126.786555542], [1291671.3324512662, 6102769.972779982], [1291318.0600472337, 6102303.734544567], [1291339.0771670954, 6102117.422800225], [1291299.870442438, 6101987.937133354], [1291173.0330146283, 6101948.635912204], [1291317.915331896, 6101818.087946607], [1291379.3859547116, 6101760.917688167], [1291536.435492323, 6101495.470376473], [1291591.7835431455, 6101390.751250467], [1291694.453509504, 6101278.346839367], [1291906.506007516, 6101135.713841394], [1291890.9769385504, 6101110.574878451], [1291654.8460346796, 6100703.703384506], [1291260.095988378, 6099879.522312658], [1291207.4863970287, 6099827.588427257], [1291061.3795653626, 6099922.889513005], [1291055.96943811, 6099926.732187015], [1290927.9742875958, 6100012.386008717], [1290775.3663976674, 6100123.3929178575], [1290652.6477910168, 6100271.265758639], [1290565.6182131146, 6100476.202578803], [1290380.5384277217, 6101073.756664101], [1290305.3421116911, 6101092.1241582045], [1290231.8155880221, 6101095.235322828], [1290226.4388566166, 6100932.358237681], [1290237.7823127287, 6100830.025112623], [1290207.102661066, 6100736.876589213], [1290145.943732824, 6100630.885826733], [1290108.1952934961, 6100577.466718027], [1290098.799928473, 6100524.047945604], [1290024.4273766743, 6100495.6833962165], [1289905.1930700855, 6100524.91302426], [1289730.5327890308, 6100408.011752083], [1289688.164590835, 6100361.4646324795], [1289670.0195138357, 6100329.923198345], [1289657.6853142558, 6100293.058464001], [1289589.9028763117, 6100306.882720613], [1289385.9878330764, 6100339.056228133], [1289350.0316375503, 6100373.775139633], [1289344.1539684364, 6100498.078990856], [1289396.8414834288, 6100684.2220895225], [1289387.190083577, 6100686.601100944], [1289150.2910752199, 6100744.961953648], [1289014.592615943, 6100769.683918209], [1288912.7352818672, 6100789.597962228], [1288583.8195824202, 6100843.53414573], [1288339.5846196197, 6100951.274445532], [1288322.8755640516, 6100959.476473125], [1288032.2871652849, 6101088.663612798], [1287921.4018205057, 6101107.264060954], [1287817.6965828827, 6101114.734198747], [1287663.3966366942, 6101125.8645498855], [1287509.4974406725, 6101133.118418872], [1287349.7539713841, 6101145.080661322], [1287292.5580170145, 6101155.196172967], [1287104.0384593564, 6101194.41053193], [1286916.7768119436, 6101256.335315094], [1286936.4135701198, 6101338.8413906675], [1286402.647743715, 6100896.272818284], [1286345.3070740073, 6100993.18306326], [1285671.8575505554, 6101758.305435852], [1285823.2075302377, 6101883.7776481435], [1285909.235232723, 6101902.845726659], [1286061.49803223, 6101906.872324634], [1286070.8600014057, 6102312.786500969], [1286080.7674360862, 6102563.9987838315], [1286118.0372016039, 6102726.640947125], [1286141.258447383, 6102833.70625427], [1286245.0193447515, 6102945.831737446], [1286377.0887886288, 6103035.1271493], [1286556.0460020278, 6103085.483120271], [1286824.459558229, 6103096.998804006], [1287023.0646617531, 6103056.644056043], [1286953.445452211, 6103483.631980861], [1286841.8921904871, 6104021.216675232], [1286651.5358612305, 6104343.847090871], [1287293.2704617556, 6104325.256189005], [1287440.112002061, 6104338.055113492], [1287715.5275542326, 6104449.584660333], [1287946.3485183925, 6104532.221660432], [1288068.087513524, 6104575.812378169], [1288458.4404399397, 6104648.480716413], [1288875.1426898262, 6104635.315151329], [1289667.971235205, 6104584.43401287], [1289670.6206390858, 6104405.561854004]]]}}, {\\\"id\\\": \\\"13\\\", \\\"type\\\": \\\"Feature\\\", \\\"properties\\\": {\\\"cartodb_id\\\": 6, \\\"created_at\\\": \\\"2015-07-21\\\", \\\"district_number\\\": 10, \\\"ev\\\": 9.65487682158697, \\\"munich_r_1\\\": 51.0, \\\"munich_r_2\\\": 21, \\\"munich_ren\\\": 14.53, \\\"name\\\": \\\"Moosach\\\", \\\"other\\\": 58.676530878461485, \\\"rk\\\": 31.66859229995155, \\\"updated_at\\\": \\\"2015-07-21\\\"}, \\\"geometry\\\": {\\\"type\\\": \\\"Polygon\\\", \\\"coordinates\\\": [[[1279226.9822352314, 6103044.379578921], [1279228.32920107, 6103046.875739721], [1279203.5494824194, 6103567.241455177], [1279183.545369924, 6103582.419059587], [1279185.6381763509, 6103599.693602905], [1279202.658926493, 6103618.14977717], [1279195.456555439, 6103773.189883279], [1279131.2920009454, 6103858.749403319], [1279134.6315856695, 6104016.523354525], [1278993.7567700704, 6104025.693639604], [1278987.1889201137, 6104194.23892048], [1278927.176582627, 6104184.535867382], [1278959.3590474154, 6104402.798993627], [1278981.6340775231, 6104649.179773538], [1278993.7567700704, 6104818.503092562], [1279036.2808155536, 6104974.131064459], [1279044.1065757563, 6105308.016793721], [1279062.4297639409, 6105578.860223948], [1279062.1959930102, 6105663.589002558], [1279061.895430385, 6105750.748998665], [1279067.1497103504, 6105789.501859068], [1279068.8862944068, 6105979.60651396], [1279057.4203868553, 6106020.27481433], [1279042.793005765, 6106047.958668623], [1279055.7505944932, 6106135.239144746], [1279043.7392214367, 6106287.362022379], [1279057.5984980403, 6106365.006004867], [1279068.8195027125, 6106460.979877225], [1279071.034760579, 6106504.680395778], [1279104.0521215484, 6106552.493182989], [1279090.5601992642, 6106658.158401067], [1278971.782302588, 6107484.3802723335], [1278948.0155913034, 6107497.650159594], [1278787.8602398993, 6107588.208953384], [1278615.815966878, 6107651.312637529], [1278500.8340648378, 6107669.128274517], [1278102.3882114415, 6107797.202160963], [1277942.5779504587, 6107848.56879123], [1277544.9224654469, 6108148.699326037], [1277419.5210590684, 6108266.573191355], [1277112.579827104, 6108666.680514776], [1276663.517001244, 6108969.138080285], [1276698.1484948297, 6109034.61674299], [1276921.4887892082, 6108925.075154962], [1277392.0474087407, 6108752.40598128], [1278218.527836186, 6108336.842047126], [1278703.4244061327, 6108173.709295846], [1278843.1637629252, 6108142.738238927], [1279395.6869235288, 6108130.749473068], [1279564.1021811496, 6108091.336524766], [1280746.2149858326, 6107689.657928788], [1281455.353538033, 6107284.60188191], [1282620.534648166, 6106896.946332453], [1284054.4521410235, 6106417.3128792215], [1284356.194752768, 6106412.48505108], [1284565.030117496, 6106518.53142618], [1284586.225348543, 6106529.302615697], [1284732.3989719036, 6106816.234160644], [1284770.3811821623, 6106111.067540164], [1284625.7771636215, 6105172.723161073], [1284614.4559714082, 6105082.306670613], [1284615.0904925056, 6105056.490209666], [1284629.9182486795, 6104449.651235638], [1284546.23938745, 6103983.686825195], [1284462.6050540172, 6103517.980996377], [1284433.0942570076, 6103279.238244253], [1284412.3331719746, 6103011.862991344], [1284205.5794817246, 6102950.441261416], [1283844.7596162162, 6103296.1959805135], [1283621.3970579393, 6103222.274477492], [1283209.6819212406, 6103185.397174252], [1283194.843033118, 6103148.386901123], [1283172.7572461443, 6103144.459561474], [1282861.6749291224, 6103126.087623859], [1282622.5606628987, 6103099.01238615], [1282035.9960020108, 6102957.779895002], [1281967.5233832237, 6102964.719153006], [1281585.9424326827, 6103153.445849796], [1281369.7599815622, 6103321.358061847], [1281253.3197941922, 6102909.937443323], [1281219.879419158, 6102926.012476991], [1280930.248368012, 6102898.6383436825], [1280370.1109542386, 6102889.702247557], [1280110.3469224721, 6102926.611547158], [1279959.854102869, 6102974.83683432], [1279936.421350057, 6102844.456125059], [1279929.998215438, 6102808.7286659125], [1279815.3502718701, 6102826.584056357], [1279810.8195685952, 6102805.982966148], [1279797.884243765, 6102747.2085637], [1279768.173071672, 6102612.255290277], [1279857.7407339646, 6102593.801304192], [1279850.7164740954, 6102554.563836891], [1279844.5716382037, 6102520.235361872], [1279673.4847128035, 6102557.143054149], [1279660.4158045843, 6102562.484532382], [1279480.089361448, 6102636.084121587], [1279410.1361934335, 6102635.73467595], [1279357.003400478, 6102620.858289392], [1279268.4932733483, 6102564.997191528], [1279249.235001441, 6102586.346504245], [1279231.3236953723, 6102972.1576445075], [1279202.658926493, 6103012.944656789], [1279226.9822352314, 6103044.379578921]]]}}, {\\\"id\\\": \\\"14\\\", \\\"type\\\": \\\"Feature\\\", \\\"properties\\\": {\\\"cartodb_id\\\": 1, \\\"created_at\\\": \\\"2015-07-21\\\", \\\"district_number\\\": 15, \\\"ev\\\": 11.65875065966725, \\\"munich_r_1\\\": 91.3, \\\"munich_r_2\\\": 24, \\\"munich_ren\\\": 12.38, \\\"name\\\": \\\"Trudering-Riem\\\", \\\"other\\\": 55.48287642696442, \\\"rk\\\": 32.85837291336833, \\\"updated_at\\\": \\\"2015-07-21\\\"}, \\\"geometry\\\": {\\\"type\\\": \\\"Polygon\\\", \\\"coordinates\\\": [[[1295747.4291900508, 6094503.5896489145], [1295970.5134496004, 6095100.191371611], [1296004.3545748016, 6095219.480170536], [1296126.3273408639, 6095544.186952817], [1296280.1820090893, 6095980.640365381], [1296292.4382850255, 6096018.101583896], [1296440.3373604934, 6096430.584972972], [1296548.59556529, 6096751.380443723], [1296636.6715464056, 6097012.389062116], [1297099.9053434434, 6097279.259382738], [1297262.1201054277, 6097401.572207155], [1297297.363856213, 6097428.429711868], [1297580.2600781657, 6097647.566843701], [1297711.0716117967, 6097738.170234261], [1298111.031410268, 6098034.799995131], [1298574.1538878153, 6098390.749434521], [1298531.596446485, 6098741.757276353], [1298521.2103379942, 6098827.382506258], [1298871.3324004372, 6101287.364426647], [1299551.127134864, 6101059.265670996], [1299593.8515554308, 6101018.2717671245], [1299615.224897663, 6101001.235397797], [1299678.354180892, 6100953.071237917], [1299685.1224059323, 6100947.348122756], [1299824.5166723037, 6100829.625831184], [1300147.3988553493, 6100574.206017207], [1300172.468004676, 6100547.754459908], [1300177.4105900673, 6100533.763449424], [1300135.0201279733, 6100262.132801811], [1300117.6320235112, 6100165.696697254], [1300109.015894924, 6100118.003068855], [1300013.770938601, 6099353.494322795], [1300005.7893311114, 6099308.283686287], [1300008.7059017702, 6099046.722093237], [1300008.7838254138, 6099039.852571482], [1300349.2210921575, 6099100.913333876], [1300547.2139384826, 6099128.341751779], [1300575.05494313, 6099133.880672883], [1300756.4277894795, 6099163.088977299], [1300776.0979435025, 6099167.596645991], [1300788.1649763044, 6099170.374435636], [1300977.107548028, 6099212.656831018], [1301193.3233949956, 6099257.733888939], [1301231.0495704254, 6099266.000814472], [1302317.950814633, 6099472.626667853], [1302950.4458974223, 6099590.330135653], [1303068.1217311395, 6099609.725747868], [1303137.1286834825, 6099623.216204117], [1303201.1262587395, 6099635.691984223], [1303230.5368682072, 6099640.898548542], [1303261.4836866476, 6099646.687320293], [1303331.0027086479, 6099659.096597175], [1303365.8568412154, 6099661.275707991], [1303564.495340587, 6099698.470388055], [1303572.9556218872, 6099695.343100985], [1303580.2915763306, 6099683.266460674], [1303602.4664188966, 6099646.75385792], [1303611.8506519704, 6099631.333776287], [1303758.2357823635, 6099465.9231418725], [1303865.369660303, 6099339.887858656], [1303946.209874517, 6099243.545401714], [1303932.139090881, 6099234.313749258], [1303917.968119703, 6099225.015572522], [1303717.9603905946, 6099111.508776495], [1303673.5439137681, 6099087.10767496], [1303860.8946167734, 6098869.03114327], [1303798.867396503, 6098822.2762377495], [1303748.5509866646, 6098784.935703117], [1303734.7696337043, 6098774.689954854], [1303664.9945768751, 6098724.808639596], [1303659.9963317385, 6098720.850081619], [1303607.7206988619, 6098681.198073329], [1303595.3085756386, 6098671.734177595], [1303581.4715629332, 6098659.675626264], [1303565.9313620182, 6098646.219966449], [1303650.244744345, 6098556.505024682], [1303759.7608593875, 6098425.726488556], [1303943.7163179233, 6098218.361067283], [1303950.5958624543, 6098205.305265072], [1303955.7276909798, 6098194.511374969], [1303956.4846635172, 6098193.4802182345], [1303975.4423727994, 6098167.701340608], [1303985.9398007812, 6098152.949205215], [1304007.1684276755, 6098126.75466497], [1304017.2651054906, 6098117.890118227], [1304028.1298877918, 6098112.800907959], [1304049.336250788, 6098108.659690091], [1304056.5720176897, 6098107.844751874], [1304063.518353915, 6098107.196127633], [1304075.7968937496, 6098105.582882944], [1304291.4895391108, 6098021.561531828], [1304424.5719903538, 6097971.601486968], [1304515.8762367028, 6098047.439753233], [1304641.0104763035, 6098151.319320352], [1304690.1691634376, 6098187.559385222], [1304702.6369464067, 6098168.216917392], [1304705.7538921488, 6098164.258619006], [1304845.125894622, 6097987.51748798], [1304859.1521504617, 6097969.722170113], [1304908.5112126796, 6097914.224301579], [1304984.776195822, 6097828.44197509], [1304755.1018224172, 6097679.979729694], [1304668.9071406962, 6097624.217668506], [1304628.7987281631, 6097596.162156202], [1304688.376919636, 6097457.715298381], [1304695.9911728061, 6097438.590684725], [1304713.1121104902, 6097395.668556519], [1304678.881367071, 6097378.772497395], [1304565.469069851, 6097329.315131816], [1304524.0359553779, 6097303.622027725], [1304459.6710258008, 6097272.341402095], [1304424.148976289, 6097257.673971402], [1304364.9381391362, 6097238.050917822], [1304350.6892443146, 6097233.32808797], [1304269.392620188, 6097182.075575259], [1304135.3194254767, 6097123.373369526], [1304116.7290705142, 6097134.448598799], [1304109.6380189508, 6097150.961692707], [1304094.8770544718, 6097184.6365305865], [1304086.7062038474, 6097203.294942723], [1304077.132727639, 6097225.1629200205], [1304071.2773224232, 6097238.583067828], [1304034.4305709708, 6097322.796226847], [1303973.4720178123, 6097297.751704826], [1303957.4642750365, 6097290.75056016], [1303819.8288566193, 6097230.517672861], [1303806.6374969603, 6097224.747178484], [1303803.3980997785, 6097223.333657405], [1303836.0035786317, 6097174.825082549], [1303881.1325001994, 6097111.666235974], [1303914.4281598956, 6097064.305724114], [1303929.5564786943, 6097028.985064958], [1303970.188092834, 6096972.39582184], [1303990.9937056631, 6096940.284961561], [1304010.931026464, 6096909.504546129], [1304026.883109495, 6096884.960113326], [1304009.6285884222, 6096872.70455251], [1303853.046592672, 6096761.357689862], [1303757.9797475347, 6096678.862845395], [1303748.1613684467, 6096670.365639269], [1303754.818273996, 6096665.144268297], [1303918.7584880874, 6096536.606435059], [1304007.7138931805, 6096599.012723426], [1304010.7640472283, 6096601.723158815], [1304047.49947919, 6096624.886608217], [1304058.5535046256, 6096612.315482107], [1304150.7817027478, 6096509.003480232], [1304167.2792512835, 6096487.652822521], [1304148.82247971, 6096466.219077631], [1304216.2598272325, 6096393.986591885], [1304215.0353128337, 6096390.677613824], [1304152.1175366372, 6096218.662414976], [1304121.749579549, 6096135.640763323], [1304102.379988151, 6096082.71550771], [1304094.1646097302, 6096061.565450715], [1304071.1214751364, 6095992.44570269], [1304028.4638462642, 6095880.993996271], [1303977.5129153281, 6095743.689101857], [1303968.9747103844, 6095726.912717598], [1303952.243390918, 6095706.5283745965], [1303926.5397204938, 6095683.616830531], [1303773.6535318384, 6095547.41246907], [1303651.8922728088, 6095694.341021613], [1303649.832862229, 6095696.153328113], [1303626.6561442458, 6095672.094575203], [1303574.5586225544, 6095614.450280137], [1303509.8374706074, 6095535.87377225], [1303428.3961311432, 6095441.536369505], [1303403.1488706311, 6095497.084579329], [1303337.180940387, 6095456.017774396], [1303291.9406993287, 6095428.385080615], [1303286.196613604, 6095433.60569096], [1303256.9195875253, 6095454.9038192965], [1303234.0545641163, 6095466.858061501], [1303222.0209271614, 6095469.385246988], [1303172.9178997725, 6095466.691799323], [1303170.8473572438, 6095466.575415802], [1303137.8077323765, 6095458.179180231], [1303095.3950063842, 6095439.541229553], [1303092.7678664015, 6095438.759799865], [1303090.1184625204, 6095437.230193024], [1303086.9458570331, 6095435.833595715], [1303084.8641825551, 6095434.17098017], [1303063.0121665124, 6095421.4353559], [1303022.6477191506, 6095393.636513932], [1302977.0512557216, 6095353.950167014], [1302913.376506988, 6095299.6830871785], [1302903.4022806128, 6095292.267943283], [1302883.2423208302, 6095277.138409677], [1302612.3686038828, 6095517.169145736], [1302437.08493368, 6095681.704766875], [1302363.6474656037, 6095749.591603708], [1302349.3206471386, 6095765.15427615], [1302336.2294750211, 6095779.187308668], [1302318.0287382766, 6095797.277318462], [1302276.9407142247, 6095838.079743108], [1302273.6011295007, 6095841.355251877], [1302196.6014377193, 6095914.846694642], [1302120.7594686418, 6095837.231768961], [1302050.4834741037, 6095765.303917371], [1302041.377539757, 6095755.992913173], [1302031.9376469378, 6095746.332757109], [1302028.1082564543, 6095742.408841435], [1301987.9553161252, 6095743.755608898], [1301979.606354316, 6095743.273432868], [1301947.5908687639, 6095713.361945793], [1301941.8245191409, 6095707.409589063], [1301775.413012354, 6095535.973530368], [1301790.9198174214, 6095522.157042111], [1301817.6142313136, 6095498.348176477], [1302160.7009019384, 6095220.012194021], [1302101.1561063128, 6095141.60559256], [1302000.8349812103, 6095009.566256024], [1301897.3189867213, 6095077.780227494], [1301855.3181428453, 6095011.26203907], [1301858.8803665503, 6094984.162801544], [1301802.920058529, 6094907.071762668], [1301796.652771197, 6094897.977826022], [1301814.5863411638, 6094880.720985819], [1301846.4682433272, 6094847.10516082], [1301958.6560261487, 6094810.9292287985], [1302045.7523957451, 6094784.429126412], [1302153.209100208, 6094740.340055282], [1302204.6164410564, 6094713.008936097], [1302241.730359287, 6094689.41846054], [1302256.3132125807, 6094677.7313077105], [1302269.5713639343, 6094667.706636096], [1302278.3433398085, 6094672.843655395], [1302317.26063379, 6094689.501584019], [1302380.5791601534, 6094662.70261705], [1302390.9318727972, 6094677.299066236], [1303271.9031909858, 6094394.684351419], [1303630.3408193912, 6094273.578513244], [1303430.388750028, 6094055.791838929], [1303529.841583103, 6093968.402786809], [1303597.624021047, 6093897.504777829], [1303631.6989171787, 6093857.094008749], [1303697.3662847977, 6093790.801481199], [1303761.2748044622, 6093725.589953694], [1303833.0424801768, 6093643.939111742], [1303885.4294325442, 6093598.459667281], [1303977.7021584625, 6093525.885882848], [1304014.6602294056, 6093503.2628029315], [1304028.1744155881, 6093490.563319384], [1304040.2971081354, 6093478.079945035], [1304044.3268737025, 6093474.05734363], [1304040.6755944043, 6093444.702384455], [1303997.550423671, 6093113.876019069], [1303926.6399080355, 6092872.782976155], [1303910.3538665327, 6092776.480643181], [1303905.9567466462, 6092703.58146742], [1303892.6985952929, 6092611.80186292], [1303867.061716563, 6092558.034301143], [1303849.373049476, 6092489.425059801], [1303836.5267802386, 6092474.832371137], [1303823.257496936, 6092460.356049872], [1303743.40802619, 6092383.42088286], [1303696.0527148065, 6092338.712713273], [1303691.321636448, 6092334.225289176], [1303690.7650389937, 6092332.9787829025], [1303683.9411542083, 6092322.192356261], [1303655.131669991, 6092289.517378587], [1303523.5854277206, 6092145.556181679], [1303502.857738535, 6092124.116775593], [1303453.9996140255, 6092078.795046456], [1303452.385481409, 6092077.299283943], [1303433.015890011, 6092063.255748733], [1303429.2755551203, 6092060.995489613], [1303414.9932644516, 6092052.369947477], [1303385.9166134566, 6092037.827868333], [1303207.5605253074, 6091944.127617242], [1303120.5086835069, 6091894.701899163], [1303101.9517243917, 6091884.713750994], [1303067.7543768203, 6091859.652026606], [1303054.5964130084, 6091848.218054899], [1303041.2380741131, 6091836.651145701], [1303002.743794197, 6091809.17979949], [1302960.0193736304, 6091778.717122026], [1302948.9764801438, 6091772.518238136], [1302928.8721801064, 6091762.048283668], [1302915.491577313, 6091757.760591752], [1302903.1685096824, 6091754.353706309], [1302857.0377126974, 6091742.587497827], [1302834.3285365757, 6091737.119872597], [1302828.8404856795, 6091735.424743299], [1302818.6881481193, 6091731.801821037], [1302812.4542566347, 6091729.242509912], [1302803.1813430518, 6091725.4201635625], [1302778.679923128, 6091714.2356556505], [1302759.9003250313, 6091702.535978146], [1302718.9458843686, 6091672.106920786], [1302608.0271437422, 6091610.102444995], [1302601.7375925123, 6091607.327127931], [1302541.235449266, 6091584.825488934], [1302488.47001063, 6091552.734997613], [1302480.3882155984, 6091545.040609899], [1302475.824116476, 6091539.9719565725], [1302460.9073047095, 6091533.025413649], [1302438.7101982455, 6091529.485670279], [1302324.6411160296, 6091455.533622679], [1302260.5099573836, 6091414.253703574], [1302167.7808215527, 6091356.239470413], [1302115.3604733383, 6091314.4614912355], [1302085.704960991, 6091280.211678316], [1302064.242563166, 6091258.142973438], [1302014.0040769712, 6091233.282513135], [1301941.4237689737, 6091239.763508474], [1301864.3572854977, 6091224.558104141], [1301837.4847604202, 6091223.644118956], [1301807.1390672298, 6091212.260857163], [1301791.3428314864, 6091206.311654878], [1301732.7331195835, 6091156.740670504], [1301723.8720881166, 6091140.189377096], [1301722.847948801, 6091138.909810575], [1301711.8050553144, 6091129.055493049], [1301592.1143388138, 6091063.731461437], [1301554.7109899072, 6091044.720949828], [1301520.4023228444, 6091022.137713802], [1301479.1361876072, 6090998.058965375], [1301446.9425908702, 6090974.030137484], [1301418.3334817362, 6090957.429347963], [1301370.2211978154, 6090937.139538171], [1301341.7345401214, 6090914.822465113], [1301337.0368576099, 6090912.6123635275], [1300541.5143805537, 6091101.370405841], [1300328.2485000924, 6091143.86190026], [1300042.9143812908, 6091247.873068581], [1299899.2677103712, 6091304.041955656], [1299898.7333768154, 6091343.559815393], [1298472.764095601, 6091890.77976304], [1298041.1672978462, 6092094.666764932], [1298325.577464874, 6092910.097515072], [1297381.8330858268, 6093448.076703592], [1296850.6721355065, 6093453.861253803], [1296840.4530062517, 6093500.553356548], [1296826.8497644768, 6093536.590726391], [1296809.205625186, 6093572.727984237], [1296796.94934925, 6093592.841244044], [1296765.26782217, 6093632.851812441], [1296737.5604009116, 6093664.451484754], [1296176.9554452766, 6094184.85732287], [1295981.5006833419, 6094359.80702284], [1295891.5434028318, 6094421.997821733], [1295747.4291900508, 6094503.5896489145]]]}}, {\\\"id\\\": \\\"15\\\", \\\"type\\\": \\\"Feature\\\", \\\"properties\\\": {\\\"cartodb_id\\\": 7, \\\"created_at\\\": \\\"2015-07-21\\\", \\\"district_number\\\": 25, \\\"ev\\\": 11.284447682166274, \\\"munich_r_1\\\": 63.7, \\\"munich_r_2\\\": 37, \\\"munich_ren\\\": 13.34, \\\"name\\\": \\\"Laim\\\", \\\"other\\\": 55.464543984648465, \\\"rk\\\": 33.25100833318527, \\\"updated_at\\\": \\\"2015-07-21\\\"}, \\\"geometry\\\": {\\\"type\\\": \\\"Polygon\\\", \\\"coordinates\\\": [[[1279954.666614598, 6095909.725550858], [1279867.4811894088, 6096091.461537247], [1279750.629119923, 6096237.734397164], [1279309.1694152844, 6096597.848733033], [1279166.4800919853, 6096642.862020621], [1278941.2696301616, 6096678.513644977], [1278842.551505726, 6096690.951840199], [1278721.9813652479, 6096696.505799565], [1278573.124942159, 6096702.29256349], [1278421.1404413788, 6096706.732410901], [1278274.4770122587, 6096704.071827904], [1278255.7753378055, 6096852.284200111], [1278252.5470725724, 6096965.128879077], [1278277.3713190195, 6097087.287512527], [1278336.660079816, 6097295.490051761], [1278368.352738845, 6097394.487826886], [1278404.4870455563, 6097497.927017906], [1278439.4858934616, 6097600.80203595], [1278471.8687333334, 6097696.044859136], [1278507.2015397113, 6097782.657385225], [1279047.7244592072, 6099195.524285081], [1279057.1866159246, 6099230.770793416], [1279323.4962337492, 6099189.586119463], [1279927.4712629972, 6099104.472868854], [1280523.1863860283, 6099001.0639960915], [1280980.308743022, 6098929.674851602], [1281572.2723992132, 6098832.355715348], [1281688.3118364164, 6098810.832884955], [1281970.094863461, 6098823.8064546995], [1282289.1253921255, 6098669.4721583845], [1283223.4966700478, 6098541.2366140075], [1283313.7656451322, 6098544.596327289], [1283105.5202737052, 6098189.205908595], [1283089.74630186, 6097987.567381448], [1283098.5739374799, 6097930.805436755], [1283114.5482844086, 6097844.856633925], [1283135.4763486777, 6097780.528648953], [1282930.0807562151, 6097597.592369761], [1282712.8852977285, 6097405.929270255], [1282696.8552910541, 6097390.69618917], [1282595.1538042652, 6097286.543224219], [1282377.4351441718, 6097058.85130011], [1282315.118493226, 6096974.241659554], [1282118.7175156195, 6096709.758825072], [1282025.6544213162, 6096618.185331002], [1281843.63592192, 6096464.772426509], [1281821.472211303, 6096446.099009484], [1281687.6439194714, 6096363.989672076], [1281603.3416690936, 6096312.010781514], [1281339.703719048, 6096154.230359617], [1281267.9583072315, 6096110.483351226], [1281165.4553201091, 6096004.61685637], [1281140.5308861206, 6095886.314647192], [1280503.5941556487, 6095927.499923533], [1280437.7486768446, 6095983.234212736], [1280218.204377102, 6095964.960907552], [1280127.3676726148, 6095951.95845229], [1279954.666614598, 6095909.725550858]]]}}, {\\\"id\\\": \\\"16\\\", \\\"type\\\": \\\"Feature\\\", \\\"properties\\\": {\\\"cartodb_id\\\": 10, \\\"created_at\\\": \\\"2015-07-21\\\", \\\"district_number\\\": 11, \\\"ev\\\": 8.390092464974375, \\\"munich_r_1\\\": 48.3, \\\"munich_r_2\\\": 31, \\\"munich_ren\\\": 15.67, \\\"name\\\": \\\"Milbertshofen-AmHart\\\", \\\"other\\\": 64.0711351380284, \\\"rk\\\": 27.538772396997228, \\\"updated_at\\\": \\\"2015-07-21\\\"}, \\\"geometry\\\": {\\\"type\\\": \\\"Polygon\\\", \\\"coordinates\\\": [[[1287215.302290404, 6112849.621790222], [1287330.117213208, 6112851.870934068], [1287557.7989677277, 6112868.831163917], [1287671.0108898645, 6112876.678197266], [1287773.3580297, 6112884.408615141], [1287805.7074737244, 6112882.55931195], [1287836.8991950445, 6112882.042839958], [1287984.430916193, 6112894.588120125], [1288046.6919073935, 6112899.886132468], [1288449.3901653383, 6112943.003412649], [1288557.8821410653, 6112956.498433352], [1288582.7509153085, 6112959.763898379], [1288623.3936613973, 6112968.793915365], [1288642.5406138138, 6112975.857994402], [1289070.6642434555, 6113036.902545282], [1289262.8128165137, 6113063.543031567], [1289322.925341542, 6113071.540192008], [1289324.3836268713, 6113068.741184996], [1289343.096433274, 6113039.434970642], [1289359.9168083328, 6113013.11111236], [1289374.9004117935, 6112989.636297572], [1289431.061094899, 6112901.618816465], [1289497.207136328, 6112800.274058404], [1289497.607886495, 6112799.324425601], [1289500.1904986813, 6112795.69249761], [1289500.9363392696, 6112795.042749189], [1289507.2258904998, 6112786.9125680225], [1289553.8798890908, 6112726.602861053], [1289621.9962855072, 6112642.236631861], [1289706.59909851, 6112545.209842487], [1289764.3627822828, 6112480.1205497375], [1289825.7220856082, 6112410.750274498], [1289831.0876850644, 6112404.93612496], [1289841.9079395696, 6112396.356513292], [1289861.5446977455, 6112378.131114611], [1289864.9399422146, 6112352.209134263], [1289867.7563253317, 6112330.818562362], [1289880.6693862637, 6112172.956478145], [1289889.4524940874, 6112005.985039392], [1289898.7142757212, 6111908.615704606], [1289901.4304712967, 6111818.926959633], [1289896.543545651, 6111674.017673494], [1289899.1706856336, 6111342.829545801], [1289903.868368145, 6111095.188171737], [1289909.2450995503, 6110631.9398279805], [1289907.853605915, 6110605.956563029], [1289907.5864391376, 6110592.448627904], [1289844.92469777, 6110588.567807118], [1289409.064363518, 6110564.749933056], [1289378.8522537167, 6110455.688242744], [1289881.8827687132, 6110373.643063851], [1289853.0510205978, 6110128.245109804], [1289669.9861179884, 6108480.345514529], [1289682.2089980773, 6108484.192066977], [1289700.4987904148, 6108487.622327342], [1290258.5211338634, 6108552.680974758], [1290258.2984948817, 6108528.6023897845], [1290258.1426475944, 6108515.097763823], [1290244.8399684448, 6108456.799989095], [1290190.7720917666, 6108136.727202814], [1290232.7172758973, 6108123.456315463], [1290220.2606248776, 6108019.571128224], [1290145.665434097, 6108027.946501668], [1290101.9391381135, 6108032.209120353], [1290105.234195041, 6107392.107678151], [1290067.9087697782, 6107223.182502565], [1289847.3959904655, 6107189.933975606], [1289527.3079266385, 6107181.359639521], [1289547.7016573518, 6106773.048136652], [1289547.1116640507, 6106724.4849328855], [1289554.4364865448, 6106491.561892653], [1289565.0118381705, 6106301.795358991], [1289593.609815355, 6105802.785741141], [1289623.8330571053, 6105302.124284951], [1289666.5129498756, 6104608.2184521], [1289667.971235205, 6104584.43401287], [1288875.1426898262, 6104635.315151329], [1288458.4404399397, 6104648.480716413], [1288068.087513524, 6104575.812378169], [1287946.3485183925, 6104532.221660432], [1287715.5275542326, 6104449.584660333], [1287440.112002061, 6104338.055113492], [1287293.2704617556, 6104325.256189005], [1286651.5358612305, 6104343.847090871], [1286841.8921904871, 6104021.216675232], [1286953.445452211, 6103483.631980861], [1287023.0646617531, 6103056.644056043], [1286824.459558229, 6103096.998804006], [1286556.0460020278, 6103085.483120271], [1286377.0887886288, 6103035.1271493], [1286245.0193447515, 6102945.831737446], [1286173.908454033, 6103008.784405838], [1286139.0765853636, 6103044.945375305], [1286065.872888218, 6103058.075190213], [1285901.086645997, 6103036.275381924], [1285815.4596936787, 6103026.140986303], [1285759.7442885367, 6103052.9830162395], [1285729.0089771284, 6103068.708857482], [1285674.0171486766, 6103154.444326863], [1285608.5056283448, 6103303.285289528], [1285542.8271287768, 6103418.246085194], [1285449.4078121032, 6103373.130277435], [1285312.2065397003, 6103330.9269946385], [1285161.8695673842, 6103303.285289528], [1285083.0553679024, 6103269.819143367], [1284990.0590652938, 6103234.206382945], [1284883.0587707434, 6103189.208043379], [1284721.1890991807, 6103115.9531209525], [1284412.3331719746, 6103011.862991344], [1284433.0942570076, 6103279.238244253], [1284462.6050540172, 6103517.980996377], [1284546.23938745, 6103983.686825195], [1284629.9182486795, 6104449.651235638], [1284615.0904925056, 6105056.490209666], [1284614.4559714082, 6105082.306670613], [1284625.7771636215, 6105172.723161073], [1284770.3811821623, 6106111.067540164], [1284732.3989719036, 6106816.234160644], [1285294.061462701, 6106596.127580936], [1285791.770906038, 6106692.8199425945], [1285980.101220562, 6106690.938692951], [1286341.5667391168, 6106697.697875037], [1287248.8985127255, 6106704.323876499], [1287476.468947754, 6106731.610404409], [1287492.443294683, 6107222.1502478905], [1287461.440816497, 6107571.908632133], [1287434.9356457388, 6107824.608758685], [1287468.977146024, 6108099.72862008], [1287441.369912307, 6108570.698328569], [1287395.6509974382, 6109024.175426927], [1287312.8960879827, 6109024.608399906], [1287291.5338776992, 6109191.27133315], [1287347.8504080917, 6109213.8363605775], [1287346.4700464057, 6109304.979698748], [1287375.6134890954, 6109308.8765854025], [1287358.2476485316, 6109594.00365196], [1287252.182437704, 6109695.476628079], [1287258.4163291883, 6109791.92121422], [1287235.6960211175, 6110140.7530053025], [1287198.737950174, 6110136.422706503], [1287194.107059357, 6110172.181047865], [1287242.2638710742, 6110178.360077886], [1287223.005599167, 6110315.28254288], [1287374.7006692707, 6110326.45828506], [1287215.302290404, 6112849.621790222]]]}}, {\\\"id\\\": \\\"17\\\", \\\"type\\\": \\\"Feature\\\", \\\"properties\\\": {\\\"cartodb_id\\\": 5, \\\"created_at\\\": \\\"2015-07-21\\\", \\\"district_number\\\": 24, \\\"ev\\\": 9.384077593422283, \\\"munich_r_1\\\": 81.4, \\\"munich_r_2\\\": 5, \\\"munich_ren\\\": -99.0, \\\"name\\\": \\\"Feldmoching-Hasenbergl\\\", \\\"other\\\": 56.7147522688855, \\\"rk\\\": 33.90117013769222, \\\"updated_at\\\": \\\"2015-07-21\\\"}, \\\"geometry\\\": {\\\"type\\\": \\\"Polygon\\\", \\\"coordinates\\\": [[[1284732.3989719036, 6106816.234160644], [1284586.225348543, 6106529.302615697], [1284565.030117496, 6106518.53142618], [1284356.194752768, 6106412.48505108], [1284054.4521410235, 6106417.3128792215], [1282620.534648166, 6106896.946332453], [1281455.353538033, 6107284.60188191], [1280746.2149858326, 6107689.657928788], [1279564.1021811496, 6108091.336524766], [1279529.192388837, 6108107.088361299], [1279415.1344385701, 6108270.2864362225], [1279136.3236419293, 6108723.064727552], [1278713.8550424199, 6109439.556552315], [1278583.3663353121, 6109715.711414044], [1278521.5617540234, 6110007.830495203], [1278511.2647011252, 6110277.141894356], [1278429.5339309846, 6110462.83350602], [1278321.1421427995, 6110631.20696557], [1277967.7138914797, 6111119.973637613], [1277603.587837095, 6111600.589474017], [1277610.189082899, 6111602.971549451], [1277637.6627332268, 6111614.598752449], [1277632.9539187662, 6111620.728860164], [1277628.3786876947, 6111626.742366877], [1277624.3266582298, 6111632.139534426], [1277618.2708779306, 6111639.952107123], [1277682.5801477619, 6111662.057229218], [1277822.508747689, 6111710.165636903], [1277905.6087475661, 6111738.73429768], [1278149.5542796906, 6111822.575127439], [1278265.8942795186, 6111859.789860416], [1278414.7507026077, 6111911.814132054], [1278435.7010307745, 6111919.060573707], [1278476.455096354, 6111933.153671071], [1278563.5069381543, 6111960.806861656], [1278693.7618743319, 6112002.1868647365], [1278743.4548950219, 6112018.57899911], [1279016.2321752617, 6112100.873323475], [1279036.3030794517, 6112106.9371474], [1279210.79638127, 6112163.993944843], [1279173.871706174, 6112172.98979613], [1278938.1638163684, 6112231.263152921], [1278949.1733140077, 6112321.589313587], [1278913.5176811067, 6112451.7992833], [1278895.717694529, 6112516.78840056], [1278849.7984045767, 6112684.51960148], [1278847.2603201864, 6112698.164150874], [1278881.0569175913, 6113037.019170117], [1278864.3701259214, 6113036.935866662], [1278865.8729390472, 6113053.396645115], [1278867.4202799692, 6113070.307295948], [1278871.605892823, 6113124.638196558], [1278883.7285853704, 6113178.669547977], [1278887.3687327194, 6113209.242481895], [1278874.6115190745, 6113264.107429475], [1278816.9034950472, 6113475.889791665], [1278816.5695365747, 6113478.105778586], [1278816.5472726764, 6113480.521704838], [1278808.9886792519, 6113526.724344218], [1278800.5172660025, 6113586.239979682], [1278799.1257723677, 6113596.0870918], [1278789.919650479, 6113660.501816385], [1278789.107018196, 6113686.577755893], [1278809.1667904372, 6113740.912607081], [1278824.562276014, 6113777.219345457], [1278849.6314253404, 6113836.336845653], [1278861.5314789063, 6113867.661956526], [1278871.0158995218, 6113889.706239597], [1278875.0901928851, 6113894.67162646], [1278906.5490809833, 6113938.677078123], [1278921.5326844438, 6113980.43331433], [1278955.273622103, 6114040.651967768], [1278974.2647272327, 6114067.34559739], [1279013.2154170612, 6114113.5347730955], [1279044.5295898211, 6114149.209918403], [1279051.8432803664, 6114163.689971185], [1279064.7229454513, 6114203.431094727], [1279075.9439501232, 6114250.77076434], [1279072.559837603, 6114266.88397514], [1279036.5591142804, 6114409.837990378], [1279020.3509964207, 6114474.208909556], [1279011.9909026623, 6114507.369371958], [1278982.9253836162, 6114640.14582984], [1279012.5920279128, 6114645.51158886], [1279031.2603065185, 6114648.911015588], [1279154.2015521508, 6114658.3427655175], [1279236.0659056802, 6114705.418352752], [1279238.2143718526, 6114874.42603154], [1279238.8043651537, 6114894.089932244], [1279239.550205742, 6114918.936502538], [1279192.9741307942, 6114976.962110039], [1279190.2022754734, 6114982.011456535], [1279152.9547738538, 6115049.952955953], [1279146.9657852491, 6115065.117799621], [1279134.420078637, 6115094.764314139], [1279126.8726171611, 6115127.477255186], [1279128.3531663886, 6115161.523511836], [1279130.2455977323, 6115168.639413401], [1279136.5017531146, 6115189.503871172], [1279142.3794222286, 6115199.73614], [1279153.8898575767, 6115219.000836014], [1279176.0758320917, 6115244.098334403], [1279183.8681964474, 6115251.280965484], [1279214.8150148878, 6115279.811569479], [1279217.1415922453, 6115284.2778175855], [1279218.3995024913, 6115288.860723874], [1279218.1434676624, 6115295.743420515], [1279215.560855476, 6115312.275247396], [1279205.9094556244, 6115335.306535788], [1279178.0907148751, 6115387.585459611], [1279118.445731708, 6115505.99333165], [1279098.842369379, 6115542.824266784], [1279093.432242127, 6115559.989870428], [1279088.6566359717, 6115598.054303909], [1279088.5898442774, 6115606.720486041], [1279088.3894691938, 6115638.485452476], [1279088.3338094484, 6115645.835076051], [1279088.790219361, 6115652.701396801], [1279096.7161671051, 6115659.75104744], [1279107.8147203373, 6115669.633900881], [1279117.588571629, 6115678.333487984], [1279127.3178951244, 6115736.547621563], [1279129.388437653, 6115766.979789877], [1279138.516635898, 6115874.226555484], [1279142.0788596033, 6115896.059396666], [1279147.2440839761, 6115911.425750676], [1279150.9064952233, 6115920.025587859], [1279153.9121214747, 6115925.99214669], [1279166.5023558834, 6115941.041893357], [1279178.6250484309, 6115950.075087473], [1279246.5967295093, 6115967.524845807], [1279601.294023024, 6116061.874161552], [1279729.734451501, 6116102.2908565], [1279804.8862397356, 6116130.890992984], [1279850.66081435, 6116147.641117744], [1279928.584457905, 6116171.391351397], [1279971.8654759256, 6116183.874834232], [1280003.6917183434, 6116191.441600471], [1280021.436045176, 6116194.874981214], [1280051.5813632826, 6116197.158346845], [1280098.8587510225, 6116199.941720384], [1280129.6942499722, 6116210.841886632], [1280125.2637342387, 6116226.94215784], [1280121.7349063805, 6116240.175737003], [1280121.0113296905, 6116242.859122703], [1280121.0335935885, 6116245.325838258], [1280121.668114686, 6116247.6758855], [1280128.7591662495, 6116258.74278341], [1280126.833339059, 6116299.127083178], [1280129.081992773, 6116327.794552688], [1280130.5180142042, 6116344.428396324], [1280137.642461615, 6116343.978382086], [1280151.256835339, 6116345.678435991], [1280157.3571434342, 6116346.528463071], [1280172.5299900295, 6116348.645197541], [1280211.8035063813, 6116354.228712267], [1280293.834839147, 6116355.862099361], [1280363.3983889436, 6116339.5282426], [1280445.429721709, 6116325.961165107], [1280647.185166823, 6116274.859812693], [1280736.4300025918, 6116263.9595640935], [1280809.5112482978, 6116249.009245928], [1280915.7545703107, 6116205.991810929], [1281048.9149451975, 6116159.941230441], [1281119.2911272773, 6116132.141001152], [1281236.0096133742, 6116101.024186022], [1281289.0310868388, 6116092.090831175], [1281343.822540207, 6116070.574151356], [1281413.8758957635, 6116038.90756471], [1281420.8111000399, 6116035.990911365], [1281488.6937255256, 6116009.791076048], [1281523.1471079262, 6115996.174526962], [1281543.1846162688, 6115988.224605725], [1281614.1507916495, 6115958.391634479], [1281634.70036965, 6115949.7584255235], [1281663.5655136127, 6115937.758613014], [1281831.691340558, 6115850.227161379], [1281915.8043478013, 6115806.445108488], [1281981.282472286, 6115772.329596369], [1282003.1344883286, 6115760.813350448], [1282193.323838349, 6115657.417829085], [1282219.1276963146, 6115643.685185501], [1282281.0324651448, 6115610.753596902], [1282331.849812692, 6115583.838451261], [1282361.149102669, 6115567.006112608], [1282410.5304287847, 6115538.607866549], [1282603.1465437042, 6115428.53223117], [1282754.4519955907, 6115383.085826452], [1282844.208901017, 6115312.825197837], [1282927.5092759777, 6115247.631321552], [1282968.408056895, 6115215.634510543], [1282973.1057394068, 6115213.8513584845], [1283006.8912048624, 6115201.185990165], [1283022.7208364534, 6115194.6699988395], [1283030.7803675865, 6115190.220462885], [1283033.2405283332, 6115178.021747081], [1283043.281546403, 6115148.824892041], [1283077.4677620253, 6115041.620635821], [1283104.4293426955, 6114961.514128052], [1283126.114379502, 6114916.953440262], [1283140.975531523, 6114861.094599386], [1283157.384024466, 6114813.868169722], [1283168.9723834577, 6114789.055235747], [1283178.5569916149, 6114771.057988596], [1283186.3604879193, 6114741.562582859], [1283190.4681771297, 6114708.034596598], [1283201.9897444267, 6114653.376931208], [1283263.4603672428, 6114511.385296063], [1283290.1993089314, 6114433.849969065], [1283296.8005547354, 6114408.2049783375], [1283306.707989416, 6114345.167621391], [1283317.9067301897, 6114299.077162302], [1283325.2872124293, 6114278.014939066], [1283340.8496772423, 6114243.672296501], [1283363.803756244, 6114198.232245331], [1283396.5316865372, 6114130.247585199], [1283431.3190274101, 6114045.067574855], [1283463.1007420316, 6113963.404209917], [1283487.1234881447, 6113898.120739182], [1283532.8201391154, 6113752.4927568585], [1283544.263782769, 6113723.517419023], [1283545.6330125057, 6113720.068377357], [1283564.4014786535, 6113690.709924917], [1283576.4796434045, 6113674.64779534], [1283595.6822555664, 6113655.286638112], [1283634.7776607329, 6113616.731074645], [1283643.6275602512, 6113604.1014165385], [1283650.65182012, 6113594.07101546], [1283667.505591026, 6113567.2289208], [1283827.5607548887, 6113556.048905208], [1283967.0106810054, 6113562.83022438], [1283983.9646394532, 6113563.663310649], [1283980.85882566, 6113504.281126591], [1283970.58403666, 6113451.2140666675], [1283969.2259388724, 6113438.667962599], [1283965.6191873706, 6113422.273081689], [1283988.0611967144, 6113408.327460998], [1284053.6172448425, 6113397.647496989], [1284175.3562399743, 6113383.451996233], [1284252.945925057, 6113369.289841941], [1284298.2418258607, 6113353.578209045], [1284328.9437414214, 6113342.031926872], [1284364.0873046648, 6113334.600994571], [1284365.089180082, 6113334.101156311], [1284371.8462731733, 6113328.852856344], [1284387.4643977315, 6113319.889100737], [1284751.2342297458, 6113215.07384421], [1284816.7680139758, 6113201.761682969], [1284829.7812624495, 6113199.079260018], [1284809.632434616, 6113126.704143839], [1284809.198288602, 6113123.90511861], [1284833.4659375947, 6113121.522615719], [1284912.5473038543, 6113114.425093596], [1284951.1751671594, 6113110.7430480765], [1284969.4204317008, 6113109.393520481], [1285003.3283485963, 6113233.167753964], [1285010.2969487198, 6113255.243709062], [1285026.1488442088, 6113301.345153158], [1285034.2640350875, 6113274.587291321], [1285047.477658645, 6113237.449651702], [1285060.3350598314, 6113207.942921696], [1285095.1669285009, 6113209.325787042], [1285090.5805654803, 6113189.149304185], [1285081.8753813, 6113150.72914841], [1285088.331911766, 6113133.918302413], [1285092.7401636015, 6113122.572249777], [1285121.2602171428, 6113062.293475929], [1285165.5542425294, 6113001.78188206], [1285207.2433918314, 6112956.248525365], [1285232.6687635286, 6112933.040435841], [1285258.8511077631, 6112911.565095896], [1285301.3306254498, 6112883.892143038], [1285331.531603302, 6112867.664938776], [1285373.487919382, 6112848.522209004], [1285401.8743895344, 6112839.908827726], [1285415.6000827493, 6112835.443867569], [1285427.8229628382, 6112831.945206401], [1285471.7496339055, 6112821.682475311], [1285599.399693998, 6112799.724270979], [1285625.2146839127, 6112793.9764954755], [1285914.9570545496, 6112802.373247088], [1286073.6763845226, 6112808.670816257], [1286080.7340402391, 6112811.719641106], [1286088.6822518816, 6112816.7510375185], [1286136.026431316, 6112818.633646877], [1286185.8085075987, 6112819.966467914], [1286460.62293452, 6112827.330307929], [1286811.3795180607, 6112832.844861992], [1286915.0513598365, 6112835.443867569], [1287215.302290404, 6112849.621790222], [1287374.7006692707, 6110326.45828506], [1287223.005599167, 6110315.28254288], [1287242.2638710742, 6110178.360077886], [1287194.107059357, 6110172.181047865], [1287198.737950174, 6110136.422706503], [1287235.6960211175, 6110140.7530053025], [1287258.4163291883, 6109791.92121422], [1287252.182437704, 6109695.476628079], [1287358.2476485316, 6109594.00365196], [1287375.6134890954, 6109308.8765854025], [1287346.4700464057, 6109304.979698748], [1287347.8504080917, 6109213.8363605775], [1287291.5338776992, 6109191.27133315], [1287312.8960879827, 6109024.608399906], [1287395.6509974382, 6109024.175426927], [1287441.369912307, 6108570.698328569], [1287468.977146024, 6108099.72862008], [1287434.9356457388, 6107824.608758685], [1287461.440816497, 6107571.908632133], [1287492.443294683, 6107222.1502478905], [1287476.468947754, 6106731.610404409], [1287248.8985127255, 6106704.323876499], [1286341.5667391168, 6106697.697875037], [1285980.101220562, 6106690.938692951], [1285791.770906038, 6106692.8199425945], [1285294.061462701, 6106596.127580936], [1284732.3989719036, 6106816.234160644]]]}}, {\\\"id\\\": \\\"18\\\", \\\"type\\\": \\\"Feature\\\", \\\"properties\\\": {\\\"cartodb_id\\\": 3, \\\"created_at\\\": \\\"2015-07-21\\\", \\\"district_number\\\": 22, \\\"ev\\\": 10.184326829794115, \\\"munich_r_1\\\": 10.0, \\\"munich_r_2\\\": 10, \\\"munich_ren\\\": 10.0, \\\"name\\\": \\\"Aubing-Lochhausen-Langwied\\\", \\\"other\\\": 54.65559987064784, \\\"rk\\\": 35.16007329955805, \\\"updated_at\\\": \\\"2015-07-21\\\"}, \\\"geometry\\\": {\\\"type\\\": \\\"Polygon\\\", \\\"coordinates\\\": [[[1274047.6759468382, 6101050.198414647], [1274116.9945937553, 6100423.6661481075], [1274165.5855514866, 6100020.520588299], [1273967.8821358378, 6099836.454759954], [1273860.0692090043, 6099674.5999015635], [1273214.8391764683, 6098090.51485972], [1273088.4024988255, 6097787.347259212], [1273052.8693173644, 6097705.424513989], [1273047.069571894, 6097713.5901439395], [1273039.6668257562, 6097720.375439163], [1273022.2453254468, 6097736.357491747], [1272980.5116483488, 6097772.978291788], [1272932.6665312054, 6097809.166848858], [1272880.6135373106, 6097831.867929631], [1272865.2625795302, 6097832.965565845], [1272844.868848817, 6097826.911937586], [1272829.2618562076, 6097818.995660992], [1272810.0147162497, 6097829.755811862], [1272802.8234771444, 6097833.281552052], [1272774.270027756, 6097839.18550707], [1272756.3698536362, 6097840.765439389], [1272748.3548502992, 6097840.366298566], [1272728.1503627202, 6097836.973602315], [1272695.4669602232, 6097828.059465688], [1272685.7153728297, 6097825.614732091], [1272682.398052004, 6097826.878675906], [1272589.8024995625, 6097854.286345908], [1272386.432921832, 6097919.779061411], [1272355.2300685626, 6097924.718476648], [1272324.6172085947, 6097919.080558476], [1272285.677650715, 6097901.784313709], [1272188.3176240674, 6097854.369500382], [1272154.4876308155, 6097840.316405965], [1272088.686679807, 6097803.8782541435], [1272073.892319481, 6097798.789232153], [1272006.2323329768, 6097769.036808446], [1271952.1867201966, 6097729.888166107], [1271835.7131369796, 6097614.239408097], [1271834.1435321595, 6097612.676148363], [1271788.034999073, 6097552.025219031], [1271749.3514760223, 6097493.486756643], [1271721.131985106, 6097447.038769619], [1271718.9946508827, 6097435.9298723275], [1271690.3187500546, 6097323.611089695], [1271688.136888035, 6097309.126498496], [1271684.463344839, 6097290.8004495315], [1271666.5743026682, 6097245.052019019], [1271663.0788706574, 6097234.342498384], [1271652.1250327635, 6097217.629686502], [1271619.3303107757, 6097151.726650503], [1271601.74183123, 6097138.256751544], [1271542.519862128, 6097095.086700885], [1271534.0595808278, 6097068.130474744], [1271529.8850999232, 6097054.361380543], [1271522.3710342946, 6097029.683494648], [1271443.95758498, 6096968.853810059], [1271389.9898958432, 6096926.998317977], [1271341.276486672, 6096903.551350623], [1271310.507779417, 6096879.139966906], [1271216.3537541039, 6096813.306074254], [1271170.2674849154, 6096781.079414234], [1271168.664484248, 6096779.9486564575], [1271139.9663195217, 6096763.286625469], [1271126.4966611355, 6096749.318480981], [1271112.5817247864, 6096735.150815054], [1271098.63339259, 6096720.667227965], [1271060.6623142804, 6096681.623192074], [1271037.1961656213, 6096656.264619303], [1271005.6704858288, 6096626.815512812], [1270985.532789944, 6096608.008711701], [1270923.082555609, 6096560.15215903], [1270848.2424619487, 6096497.496732799], [1270835.8080748273, 6096486.123026676], [1270669.5412833781, 6096345.948338424], [1270608.7831053035, 6096307.704163465], [1270520.7961797803, 6096267.298548404], [1270514.9296426156, 6096265.9683256615], [1270499.979435002, 6096262.559630843], [1270478.517037177, 6096252.699365238], [1270466.4834002221, 6096240.095534819], [1270450.820747868, 6096247.245462707], [1270435.1692274623, 6096254.378768857], [1270420.4750546773, 6096233.062006981], [1270409.9442308485, 6096229.769719357], [1270122.361458333, 6096088.65150016], [1270017.387178515, 6096043.225467529], [1269988.3216594688, 6096036.8405688135], [1269947.0889200792, 6096028.177732134], [1269816.1215391608, 6095997.982577816], [1269715.099101266, 6095979.409950891], [1269629.6057323364, 6095961.253044238], [1269592.4138904626, 6095951.709044777], [1269490.300521558, 6095935.24816499], [1269452.7858531608, 6095929.195889943], [1269415.9724975554, 6095923.293263215], [1269396.435926921, 6095919.602045206], [1269376.8325645924, 6095915.678049444], [1269367.5262551622, 6095913.982085734], [1269299.0759002732, 6095901.412012334], [1269279.817628366, 6095898.36925927], [1269271.9918681632, 6095875.956008006], [1269264.644781771, 6095859.096227431], [1269240.2324174398, 6095860.808807164], [1268436.4500341672, 6095912.1531056445], [1268428.8135170985, 6095913.134104006], [1268424.0156470456, 6095915.162609458], [1268408.8761962974, 6095921.54741666], [1268392.4343075075, 6095923.476161446], [1268354.9641669064, 6096036.774059476], [1268260.4316553248, 6096326.643322486], [1268234.2381791412, 6096391.193082683], [1268223.6516955667, 6096420.94067732], [1267936.302693982, 6096344.518335737], [1267917.7123390196, 6096339.563212016], [1267885.2404435552, 6096352.715912543], [1267866.1714147823, 6096367.415035605], [1267857.9560363614, 6096377.47497047], [1267789.4611536765, 6096554.648173919], [1267786.010249462, 6096574.253019341], [1267793.7692179703, 6096624.404382137], [1267792.8118703493, 6096639.486431486], [1267831.4174697564, 6096815.218392808], [1267850.4308387842, 6096859.434643651], [1267861.1397737984, 6096901.106883288], [1267872.0936116925, 6096943.693928534], [1267875.4999881107, 6096959.441710819], [1267874.865467013, 6096963.532480584], [1267868.4534643437, 6096978.864570175], [1267859.3252660984, 6096999.917137445], [1267847.5254000744, 6097043.485807432], [1267834.6679988878, 6097101.40587794], [1267830.7161569644, 6097123.090668668], [1267826.3635648745, 6097154.104671924], [1267822.8236050673, 6097176.421520779], [1267798.811990903, 6097171.998057253], [1267782.5148174514, 6097167.2918937], [1267775.8022521562, 6097199.569908858], [1267760.3399748849, 6097258.139603732], [1267759.8390371767, 6097270.0797558], [1267759.2935716717, 6097283.233898205], [1267765.794629934, 6097309.459095033], [1267761.6535448763, 6097330.412703044], [1267736.8181664806, 6097428.013960374], [1267732.5768938812, 6097440.569664489], [1267775.4794256329, 6097457.099984054], [1267803.3426941787, 6097474.594884494], [1267826.2633773328, 6097488.38129057], [1267847.3138930418, 6097496.313889014], [1267863.0878648872, 6097502.267500264], [1267854.0932500311, 6097534.646570873], [1267949.8948038078, 6097575.590390163], [1267934.1764917078, 6097638.469970799], [1268109.6271411472, 6097715.519295952], [1268209.2024256615, 6097758.01064325], [1268202.4675964687, 6097774.059289647], [1268199.7959286897, 6097781.0109407175], [1268188.3188891888, 6097808.717817103], [1268177.1980720586, 6097836.541199949], [1268073.1477440144, 6098102.289868963], [1267888.7915353116, 6098520.047165838], [1267964.2327542221, 6098561.96041119], [1268088.0088960351, 6098631.965971845], [1268079.3371077024, 6098654.985270235], [1267972.1920978138, 6098884.516371533], [1267952.566471587, 6098924.285760692], [1268012.801448055, 6098957.318945815], [1267885.1402560135, 6099252.74379694], [1267912.3022117666, 6099281.303796469], [1267988.767569993, 6099325.4164598575], [1267980.9640736883, 6099341.368267513], [1267961.4720308504, 6099379.54294458], [1267920.5175901873, 6099460.7832210725], [1267845.5995728837, 6099590.529747217], [1267824.8050920034, 6099625.927605433], [1267617.48367235, 6099548.112395423], [1267608.5224533412, 6099567.4580083955], [1267492.4941480872, 6099818.05671407], [1267432.8491649204, 6099949.072962589], [1267290.772098821, 6099856.699310422], [1267249.1497412133, 6099829.601233677], [1267259.3800024171, 6099966.207029872], [1267217.7687767588, 6099962.048272497], [1267164.4244767705, 6099956.741701048], [1267162.8548719503, 6100098.057330262], [1267164.9476783772, 6100251.519286919], [1267163.8790112655, 6100261.317656779], [1267150.3091653378, 6100382.259418475], [1267133.9563321406, 6100521.7022520015], [1266962.0011147119, 6100570.296505118], [1266794.9216909804, 6100593.553969504], [1266765.2327827858, 6100587.84773307], [1266765.9786233741, 6100632.0004613595], [1266739.2508136346, 6100642.664361228], [1266669.431229009, 6100639.237271821], [1266635.8238747385, 6100641.915725074], [1266617.812381128, 6100637.989545439], [1266597.006768299, 6100638.255727052], [1266595.648670511, 6100537.074043162], [1266552.2006732547, 6100542.331069039], [1266481.40147711, 6100550.915333488], [1266327.9252951534, 6100560.830502455], [1266148.7009149764, 6100594.535509103], [1266137.0457642903, 6100595.899682971], [1266102.6814374824, 6100697.997073998], [1266121.4832994775, 6100696.682793114], [1266194.8094480631, 6100681.277439946], [1266163.5731989464, 6100828.877178535], [1266144.3037950902, 6100910.397521568], [1266268.9259650332, 6100910.380884683], [1266250.0239154964, 6100999.405321095], [1266057.3410088825, 6101003.198571426], [1265914.8409287177, 6101050.032043063], [1265720.6218131308, 6101144.864375844], [1265752.2031526691, 6101258.598023952], [1265763.6356643732, 6101280.9256687], [1265845.7115249352, 6101377.224708328], [1265847.3145256026, 6101380.152961624], [1265851.9899442159, 6101395.775875549], [1265841.7819469103, 6101400.401195305], [1265832.9654432395, 6101402.297909894], [1265802.6642778455, 6101408.853224976], [1265666.598464249, 6101440.48185952], [1265437.58087584, 6101456.287902028], [1265316.7213046856, 6101453.941950699], [1265307.370467459, 6101456.088246571], [1265291.5964956135, 6101459.682045522], [1265274.7761205547, 6101459.482389985], [1265266.282443407, 6101460.08135661], [1265241.1798982334, 6101459.881701064], [1265181.2343524408, 6101452.128414303], [1265154.40635516, 6101450.148498863], [1265109.8674268937, 6101448.567894432], [1265064.5603941407, 6101444.508238079], [1264974.0353842275, 6101431.630488578], [1264932.7358531433, 6101422.146887098], [1264890.6570856234, 6101413.3620867655], [1264798.3509638577, 6101390.767888295], [1264794.2432746473, 6101389.752980936], [1264772.0239042852, 6101385.360596402], [1264708.2600999586, 6101369.837528368], [1264703.851848123, 6101368.939087999], [1264692.1410376919, 6101366.892640852], [1264676.2668783048, 6101364.579989789], [1264708.438211144, 6101449.4829811705], [1264717.7222566763, 6101477.018819257], [1264721.4291957195, 6101483.956866269], [1264722.8206893543, 6101486.585672135], [1264724.2344468874, 6101489.231116837], [1264727.5851635605, 6101495.503652535], [1264738.9508835704, 6101508.032099786], [1264750.405659173, 6101515.1698290035], [1264773.3263423275, 6101570.242020881], [1264791.9055653408, 6101626.5624417905], [1264795.2451500646, 6101636.711804072], [1264796.0355184493, 6101639.107720875], [1264832.5260475313, 6101811.299374228], [1264885.7812919265, 6102102.730353897], [1264889.9557728313, 6102141.183684597], [1264887.4399523395, 6102164.4620945295], [1264990.2768979343, 6102203.514724122], [1265049.754901865, 6102230.886614687], [1265074.3899051778, 6102247.32643092], [1265080.9243592874, 6102250.854006974], [1265116.958478457, 6102275.696836482], [1265167.1079090594, 6102324.883523959], [1265198.8673597828, 6102371.291657995], [1265227.5432606111, 6102432.592716088], [1265233.988659128, 6102450.314195703], [1265238.5304943523, 6102462.810773067], [1265244.909101175, 6102485.740626011], [1265286.7095699676, 6102608.644362881], [1265325.059134546, 6102716.140832], [1265346.5994560146, 6102774.815175976], [1265373.4274532956, 6102846.170115003], [1265380.7188799425, 6102863.659488508], [1265395.5577680655, 6102901.733530011], [1265411.6768303323, 6102941.188934244], [1265424.2225369446, 6102966.94903568], [1265427.350614636, 6102971.275675376], [1265434.786756621, 6102981.543133024], [1265438.5716193079, 6102986.735109855], [1265446.5643587466, 6102997.734789217], [1265449.002255595, 6103005.589334493], [1265451.518076087, 6103013.726784196], [1265455.970855719, 6103028.121269555], [1265470.9544591797, 6103076.413698276], [1265515.459991599, 6103220.011244879], [1265531.5456580187, 6103286.693653077], [1265536.36579197, 6103334.538229472], [1265564.4739633952, 6103603.754290644], [1265584.2220410618, 6103772.224618379], [1265645.6147402343, 6103957.857064778], [1265665.3182901046, 6104025.593781636], [1265668.5242914397, 6104047.146486791], [1265667.856374495, 6104068.116738962], [1265667.6782633094, 6104070.147194703], [1265663.9935881642, 6104087.755593559], [1265660.8098507277, 6104096.343445956], [1265591.802898385, 6104399.570109747], [1265590.4448005971, 6104405.478635306], [1265679.8009558567, 6104524.9149526525], [1265721.2785981265, 6104580.356211581], [1265816.3231793658, 6104707.401447683], [1265841.5481759796, 6104728.156955301], [1265853.125403022, 6104733.050402346], [1265882.9256307073, 6104736.845322407], [1266049.1701582582, 6104736.9285443565], [1266107.256668554, 6104743.103615337], [1266166.9350475683, 6104762.9104771195], [1266238.747251079, 6104800.060951004], [1266248.576762116, 6104807.817298071], [1266283.2750473963, 6104807.750719956], [1266360.0521001965, 6104807.384540325], [1266482.5703317635, 6104794.65148568], [1266516.9123946733, 6104792.670790008], [1266546.7460182058, 6104795.234043319], [1266914.712595023, 6104850.860159834], [1266930.7648655954, 6104854.571909495], [1266932.802012277, 6104855.487363699], [1266940.2715501091, 6104857.984057481], [1267142.9064192001, 6104667.754741089], [1267161.096023996, 6104650.261647773], [1267163.1220387283, 6104648.830244966], [1267174.2094600112, 6104643.137924579], [1267182.4025745338, 6104638.943585684], [1267199.01144256, 6104632.235976601], [1267261.03866283, 6104622.399269156], [1267273.3394665625, 6104619.63633815], [1267317.5444363568, 6104609.9827308655], [1267355.8494731386, 6104604.839692847], [1267385.81668006, 6104588.029137265], [1267394.076586277, 6104593.022368118], [1267499.9080261742, 6104685.247870484], [1267575.5830160156, 6104752.491063391], [1267590.933973796, 6104766.12285486], [1267610.0920581613, 6104784.53163366], [1267631.9552061532, 6104807.251384099], [1267655.3545631177, 6104847.381436287], [1267686.4127010494, 6104920.118680096], [1267714.131254257, 6104982.070664284], [1267731.9201088857, 6105011.282463456], [1267756.688695587, 6105035.867058441], [1267782.615004993, 6105055.974214148], [1267865.9265119026, 6105109.354948995], [1267873.7967999016, 6105115.147453055], [1267918.2466725751, 6105147.821910685], [1267924.948105921, 6105152.832116285], [1267968.4628948723, 6105185.523364353], [1267993.3539330135, 6105204.232668917], [1267999.1202826367, 6105213.021395628], [1268006.1334105565, 6105223.707700601], [1268015.5955672741, 6105238.022709669], [1268024.0781124725, 6105249.707769862], [1268025.246967126, 6105251.755153861], [1268047.2436985064, 6105290.738771126], [1268079.9271010035, 6105350.995611459], [1268096.9923789422, 6105402.580467632], [1268135.8985409746, 6105467.682035953], [1268150.191963592, 6105492.034911611], [1268166.3778175535, 6105528.605971063], [1268178.4671142537, 6105556.737662557], [1268188.4190767307, 6105571.935473168], [1268212.0522046261, 6105610.537701637], [1268227.5924055409, 6105636.8219413515], [1268274.5247028593, 6105720.902092433], [1268230.6759554357, 6105757.390906753], [1268177.1424123133, 6105801.85353821], [1268064.1865250054, 6105895.557091574], [1268068.4277976046, 6105902.581986642], [1268073.1922718105, 6105909.15742687], [1268082.7880119167, 6105920.743531422], [1268101.7457211989, 6105943.699380146], [1268157.3052790537, 6106152.668712285], [1268183.4987552373, 6106342.781507594], [1268183.6212066773, 6106371.881460388], [1268188.4747364759, 6106406.175583271], [1268188.8532227445, 6106437.539844244], [1268194.074106863, 6106532.565606255], [1268196.5899273548, 6106578.164365887], [1268180.2482261064, 6106585.439546636], [1267993.5431761479, 6106701.277247042], [1268008.604703252, 6106753.053448287], [1267891.819425461, 6106779.9738681745], [1267769.3902494865, 6106817.216420496], [1267776.882051217, 6106868.227495169], [1267780.6335180565, 6106912.446220693], [1267791.6207517977, 6107043.688622525], [1267793.602238734, 6107072.341458099], [1267808.4188629587, 6107141.834559636], [1267855.4736117169, 6107360.989629814], [1267874.8765989621, 6107459.006041334], [1267890.9956612291, 6107544.386301783], [1267926.5511065884, 6107812.570491305], [1267945.5978714633, 6107956.364799396], [1267964.3329417638, 6108085.042458729], [1267986.7860830566, 6108157.224686952], [1267997.2612471406, 6108261.810915563], [1268004.5192779403, 6108359.155028349], [1268004.630597431, 6108383.133222876], [1268070.9770139437, 6108388.778099365], [1268166.3666856044, 6108398.402705699], [1268328.4367322503, 6108429.30808987], [1268391.8443142064, 6108440.2815265395], [1268749.5806298198, 6108465.525480288], [1269070.9711316884, 6108487.605675589], [1269202.4505822647, 6108498.595839477], [1269227.5865232856, 6108500.094499292], [1269261.984245941, 6108502.142668136], [1269285.9624642578, 6108525.155461016], [1269293.4987937845, 6108532.399008599], [1269301.2577622929, 6108539.509347535], [1269303.250381178, 6108541.324399881], [1269328.954051602, 6108564.753596692], [1269376.5208700183, 6108516.146827712], [1269556.2127920568, 6108567.567768967], [1269586.569617196, 6108576.243418359], [1269591.066924624, 6108577.525616817], [1269607.8316399374, 6108582.321373801], [1269736.1941447712, 6108608.864605597], [1269756.0758058268, 6108588.132902391], [1269776.0576544243, 6108567.41790178], [1269808.429362347, 6108574.3784027705], [1269870.4009228717, 6108588.382681645], [1269876.3008558834, 6108589.714837796], [1270041.1204939522, 6108622.469292997], [1270065.699837519, 6108645.582324819], [1270070.152617151, 6108650.028426781], [1270179.4349612626, 6108672.691926574], [1270447.492295093, 6108727.261086789], [1270539.264083303, 6108745.461986408], [1270727.9617521465, 6108787.442435421], [1270762.7602249687, 6108796.301485729], [1270815.3920802155, 6108809.756602398], [1270822.126909409, 6108809.123811778], [1270847.1849267862, 6108805.027326285], [1270900.9633727884, 6108793.653761077], [1271022.7691596146, 6108765.677853007], [1271118.437130002, 6108742.914191156], [1271133.1201708377, 6108743.014104679], [1271152.2893871525, 6108744.895809619], [1271170.3788044064, 6108751.390192707], [1271172.8055693056, 6108752.73902674], [1271185.20656058, 6108762.6304828795], [1271186.5869222658, 6108764.112537067], [1271196.7949195716, 6108778.983050156], [1271198.976781591, 6108782.513343769], [1271221.8306730508, 6108858.781366527], [1271234.754865932, 6108898.614196095], [1271237.0703113405, 6108903.010473031], [1271240.921965722, 6108905.325180364], [1271334.6529769702, 6108919.879541671], [1271417.4858100691, 6108932.785317733], [1271571.8636799012, 6108965.907457424], [1271676.3370220107, 6108988.338663214], [1271761.4964324678, 6109006.523470483], [1271784.9403172287, 6109012.068845292], [1271883.5025943771, 6109030.969774676], [1271903.1838803494, 6109029.221228779], [1271936.9025541104, 6109026.223722366], [1271959.2666398112, 6109041.061389465], [1271961.927175641, 6109046.540175463], [1272005.8872425552, 6109055.949041135], [1272136.1644426305, 6109083.742724777], [1272168.9702965675, 6109090.753608438], [1272201.865206097, 6109097.747844944], [1272440.9572084227, 6109148.772640122], [1272465.8037187678, 6109154.084965102], [1272600.1440802568, 6109181.179539581], [1272487.8004501483, 6107336.414943603], [1272481.2993918862, 6107226.429110832], [1272434.0553999934, 6106449.409682394], [1272569.3642410527, 6106001.480475268], [1272674.1826735837, 6105197.025254001], [1273111.3009180813, 6104756.435792003], [1273304.2732553717, 6104567.057599776], [1273670.3140049982, 6104232.3022908345], [1273589.0953045152, 6104194.788150233], [1273487.3826857773, 6104160.752616076], [1273222.241922606, 6104148.85269381], [1273246.1199533811, 6103998.815245877], [1273255.6822976405, 6103953.563207591], [1273301.067254037, 6103896.395199809], [1273360.779028898, 6103855.920150387], [1273401.3883791398, 6103810.668874351], [1273431.1440790286, 6103711.729356243], [1273276.3654590298, 6103552.529855766], [1273561.4324110532, 6103277.207977808], [1273479.1561754078, 6103194.167168212], [1273149.516899271, 6102848.849265028], [1272932.1544615477, 6102610.691109556], [1272812.1186546253, 6102344.967615348], [1272647.577315284, 6102176.558906039], [1274047.6759468382, 6101050.198414647]]]}}, {\\\"id\\\": \\\"19\\\", \\\"type\\\": \\\"Feature\\\", \\\"properties\\\": {\\\"cartodb_id\\\": 13, \\\"created_at\\\": \\\"2015-07-21\\\", \\\"district_number\\\": 13, \\\"ev\\\": 13.249816798687931, \\\"munich_r_1\\\": 106.3, \\\"munich_r_2\\\": 90, \\\"munich_ren\\\": 17.22, \\\"name\\\": \\\"Bogenhausen\\\", \\\"other\\\": 55.32795942817927, \\\"rk\\\": 31.422223773132803, \\\"updated_at\\\": \\\"2015-07-21\\\"}, \\\"geometry\\\": {\\\"type\\\": \\\"Polygon\\\", \\\"coordinates\\\": [[[1296636.6715464056, 6097012.389062116], [1295659.0637782589, 6097260.717211742], [1295495.3795989966, 6097281.604180339], [1293407.4934935763, 6097323.52794042], [1293299.5358514048, 6097317.823902185], [1293154.4754229523, 6097292.779394837], [1292995.466662303, 6097831.186064783], [1293729.4294609502, 6097946.305584385], [1293929.6486970913, 6098053.959214771], [1293203.5339225447, 6098029.1453726], [1292937.4692075998, 6098042.782998057], [1292752.9014918646, 6098058.366506656], [1292594.0597104514, 6098084.810306033], [1292320.8482841977, 6098138.546355937], [1292127.942738602, 6098178.312249788], [1292094.424439924, 6098212.806112041], [1292036.43811717, 6098272.497123859], [1291994.214634312, 6098280.31403306], [1291787.6613191452, 6098314.874837049], [1291309.822404915, 6098418.308613413], [1291164.2387748554, 6098480.030189021], [1291102.2115545857, 6098494.88268583], [1290996.346718841, 6098524.255113267], [1290981.2629278386, 6098520.180223433], [1290968.238547416, 6098508.171783952], [1290927.6180652254, 6098411.323176378], [1290910.007321782, 6098390.317003942], [1290876.1328007334, 6098389.81804561], [1290847.3789762615, 6098395.32322084], [1290833.3081926254, 6098406.084102376], [1290814.662177917, 6098425.959336759], [1290811.0776903138, 6098448.113209348], [1290838.3175697112, 6098560.330447782], [1290837.1375831086, 6098580.738277539], [1290829.601253582, 6098591.881937971], [1290817.3895054418, 6098599.765670758], [1290773.64094556, 6098614.2857294185], [1290964.0751984601, 6099300.282859215], [1291114.2897193367, 6099735.582058231], [1291207.4863970287, 6099827.588427257], [1291260.095988378, 6099879.522312658], [1291654.8460346796, 6100703.703384506], [1291890.9769385504, 6101110.574878451], [1291906.506007516, 6101135.713841394], [1293045.026099604, 6103112.208849542], [1294148.836774463, 6104811.146204568], [1294428.7273701648, 6104709.382123443], [1294416.7271290573, 6104544.45500076], [1294686.4431233, 6104518.174145818], [1294705.5678118183, 6104608.584623135], [1294798.8980728996, 6104586.364727632], [1294812.1562242531, 6104635.930986409], [1295149.3318299167, 6104506.490093326], [1295231.0292042098, 6104476.248111972], [1295392.4758617072, 6104414.066809366], [1295437.9944014929, 6104396.540951762], [1295431.7605100083, 6104373.289703683], [1295414.3835374953, 6104289.638997535], [1295404.6319501018, 6104272.462910049], [1295384.7725529445, 6104247.064999462], [1295367.2731289915, 6104229.839067995], [1295355.7515616945, 6104215.409256676], [1295344.9424391387, 6104201.029399919], [1295313.8397734112, 6104169.67340791], [1295308.5743614964, 6104165.079864675], [1295319.0161297328, 6104156.292223676], [1295323.7806039387, 6104152.281201171], [1295337.0276233433, 6104139.1829790585], [1295341.5805905168, 6104134.223301761], [1295347.4248637832, 6104130.262219289], [1295397.9416487054, 6104107.577568324], [1295419.0589561088, 6104098.157547672], [1295568.538768346, 6104037.743176265], [1295651.7166918667, 6104004.124346], [1295817.872163825, 6103934.8233756935], [1295851.6798931789, 6103920.793493124], [1295868.4668723904, 6103913.853453027], [1295911.6143070217, 6104002.243692598], [1295925.429055829, 6104000.862327976], [1296015.1080376124, 6103991.7586414525], [1296044.6188346217, 6103989.528489388], [1296164.6212456967, 6103981.290246176], [1296224.4332081, 6103977.212734817], [1296309.5258268623, 6103968.508502844], [1296321.6262555115, 6103966.910786281], [1296336.966081343, 6103964.797140875], [1296350.0127256638, 6103963.016353421], [1296389.4086934556, 6103958.040136258], [1296412.462959999, 6103954.578421692], [1296438.8679432152, 6103951.050137145], [1296422.4037905268, 6104002.9926253185], [1296671.1805885516, 6104015.3583462415], [1296674.909791493, 6104079.966618667], [1296957.9729926821, 6104082.4630841995], [1296955.0675539724, 6104176.497154266], [1298572.1612689302, 6104388.851555579], [1298598.7888911278, 6104400.319077549], [1298606.536727687, 6104436.868786572], [1298609.7761248692, 6104461.5848675845], [1298610.2436667306, 6104469.1911103735], [1298592.6551871852, 6104492.20960658], [1298572.1501369807, 6104509.053260159], [1298568.4209340394, 6104512.115746219], [1298557.5784156362, 6104521.003619638], [1298551.8788577074, 6104526.512774318], [1298538.1086366964, 6104538.379938393], [1298534.813579769, 6104540.393862694], [1298529.48137616, 6104542.208059378], [1298517.3698155617, 6104543.356496009], [1298505.2916508107, 6104543.306563979], [1298499.0688912752, 6104544.954321148], [1298493.536312583, 6104548.100040268], [1298491.5659575958, 6104550.064034808], [1298486.957330677, 6104552.394198412], [1298467.0979335194, 6104562.480485393], [1298235.353017586, 6104802.324605211], [1298123.7329641676, 6104918.021441909], [1298111.1761256063, 6104937.695553868], [1298103.3392334543, 6104966.174827228], [1298104.1073379407, 6105000.995903895], [1298104.4635603111, 6105036.78253221], [1298105.6769427608, 6105042.308666876], [1298111.9108342452, 6105060.202049313], [1298113.1019527968, 6105069.80623387], [1298113.6585502508, 6105081.740738326], [1298112.9795013568, 6105093.508808672], [1298105.7437344554, 6105123.087184875], [1298097.5506199328, 6105151.017788998], [1298091.9846453934, 6105169.960050808], [1298080.6189253833, 6105211.04060226], [1298077.6021671828, 6105224.290287708], [1298082.6004123196, 6105240.819132865], [1298086.4409347519, 6105253.486275677], [1298093.3204792826, 6105276.3570912955], [1298116.3190860806, 6105310.330520038], [1298163.229119501, 6105308.14995781], [1298190.6471100834, 6105363.563045093], [1298213.6791127287, 6105410.120971436], [1298223.7646585945, 6105469.496430977], [1298359.140291348, 6105457.361631272], [1298509.1989649376, 6105443.146126678], [1298572.1612689302, 6105440.283053692], [1298776.5215901285, 6105408.389817651], [1298853.8107125862, 6105399.783991103], [1298896.468341458, 6105391.261401654], [1299292.3315826682, 6105341.707374463], [1299348.8373561946, 6105333.900602487], [1299362.7968203402, 6105332.152818702], [1299878.0613473752, 6105267.618235253], [1300212.5652852599, 6105226.054694619], [1300334.6493708128, 6105215.434968006], [1300441.3045749418, 6105194.445233981], [1300832.6371128764, 6105102.730193452], [1300885.4136834617, 6105084.620335359], [1300962.3131877014, 6105048.334155165], [1301017.6946343712, 6105097.220664518], [1301202.0063152777, 6105264.155986205], [1301196.7520353121, 6105463.820205635], [1301248.7382375125, 6105457.178527431], [1301419.9587463015, 6105435.605593513], [1301502.8138432994, 6105425.1520619355], [1301514.4133342397, 6105413.000679955], [1301536.0872390973, 6105390.279306937], [1301560.432811734, 6105365.310835351], [1301695.9420278764, 6105216.733303773], [1301725.7088597147, 6105191.082886488], [1301756.0990807011, 6105164.8832541695], [1301845.455235961, 6105086.3347779885], [1301961.5837287565, 6104978.541952332], [1301760.5184644856, 6104855.22104974], [1301658.7501860026, 6104796.016335067], [1301421.5060872238, 6104675.4443901], [1301431.6472928352, 6104664.625621844], [1301696.6544726174, 6104395.958421503], [1301729.549382147, 6104362.121804035], [1301742.5069708754, 6104348.790247104], [1301757.5796299286, 6104333.311686692], [1301778.8305207212, 6104311.508601119], [1301929.234284732, 6104158.588992605], [1302004.9649343186, 6104080.64898584], [1301993.688269901, 6104055.251649541], [1301985.3615719897, 6104037.743176265], [1301970.934565983, 6103999.713964787], [1301796.797486535, 6103664.248782795], [1301750.5887659069, 6103576.943802232], [1301708.8105610122, 6103490.72144651], [1301673.9341645467, 6103421.957208057], [1301640.3936019707, 6103432.707824261], [1301381.0971120659, 6103515.917388805], [1301206.425699062, 6103570.503306463], [1300870.0070659358, 6103610.810572317], [1300871.4542193161, 6103597.34705883], [1300876.3077491147, 6103568.739243878], [1300883.1538977984, 6103540.331229905], [1300912.1748890483, 6103430.361326372], [1300923.8411716835, 6103380.336142839], [1300956.0459003698, 6103307.645383929], [1300956.736081213, 6103305.115863242], [1300960.1424576312, 6103273.330503076], [1300958.1164428985, 6103244.157971042], [1300946.1384656893, 6103164.146201823], [1300934.2384121234, 6103125.754799271], [1300906.8760812865, 6103082.20481432], [1300880.3375146815, 6103046.509636091], [1300869.6953713617, 6103026.839909751], [1300863.30563259, 6103007.41984397], [1300865.2648556277, 6102981.559773969], [1300863.2277089464, 6102950.108443718], [1300858.7749293149, 6102929.673462003], [1300857.9177692356, 6102927.3936666045], [1300841.8321028159, 6102898.189042537], [1300821.5496915935, 6102871.23101724], [1300806.7775951652, 6102856.337577039], [1300804.4287539097, 6102848.2169189835], [1300800.3767244446, 6102825.103039319], [1300795.7235697294, 6102818.064051757], [1300791.6938041626, 6102815.451473934], [1300773.5709910616, 6102804.834764694], [1300757.618908031, 6102772.701827556], [1300698.6975015542, 6102674.556510044], [1300686.1517949416, 6102652.790967807], [1300679.5839449847, 6102641.442289799], [1300597.4635566268, 6102516.275032925], [1300573.5632619532, 6102480.998234796], [1300436.7627397175, 6102299.275128421], [1300403.5338717154, 6102255.130362933], [1300385.9899199666, 6102223.365575776], [1300349.0541129215, 6102164.179225692], [1300284.7671069882, 6102061.115760088], [1299916.5778911896, 6101555.068015723], [1299720.5220040046, 6101294.535245512], [1299622.1155741431, 6101169.637417724], [1299603.3805038426, 6101173.6137555605], [1299597.36925134, 6101173.447381555], [1299590.467442911, 6101171.916740858], [1299588.0184141132, 6101171.600630314], [1299584.7344891347, 6101170.502562199], [1299582.5971549116, 6101169.337944656], [1299574.3149847966, 6101165.894005146], [1299572.4782131987, 6101165.411520976], [1299568.2146767012, 6101163.281936012], [1299563.9734041018, 6101124.150907428], [1299551.127134864, 6101059.265670996], [1298871.3324004372, 6101287.364426647], [1298521.2103379942, 6098827.382506258], [1298531.596446485, 6098741.757276353], [1298574.1538878153, 6098390.749434521], [1298111.031410268, 6098034.799995131], [1297711.0716117967, 6097738.170234261], [1297580.2600781657, 6097647.566843701], [1297297.363856213, 6097428.429711868], [1297262.1201054277, 6097401.572207155], [1297099.9053434434, 6097279.259382738], [1296636.6715464056, 6097012.389062116]]]}}, {\\\"id\\\": \\\"20\\\", \\\"type\\\": \\\"Feature\\\", \\\"properties\\\": {\\\"cartodb_id\\\": 27, \\\"created_at\\\": \\\"2015-07-21\\\", \\\"district_number\\\": 7, \\\"ev\\\": 10.77526689792207, \\\"munich_r_1\\\": 73.7, \\\"munich_r_2\\\": 39, \\\"munich_ren\\\": 14.06, \\\"name\\\": \\\"Sendling-Westpark\\\", \\\"other\\\": 56.76422052335567, \\\"rk\\\": 32.46051257872226, \\\"updated_at\\\": \\\"2015-07-21\\\"}, \\\"geometry\\\": {\\\"type\\\": \\\"Polygon\\\", \\\"coordinates\\\": [[[1286261.939907352, 6092455.137267318], [1285982.372138174, 6092703.631329841], [1285998.8474228114, 6092780.004285407], [1285999.2036451818, 6092818.581615036], [1285910.4152193256, 6092821.772853945], [1285904.626605804, 6092666.500526255], [1285897.3908389024, 6092596.444416415], [1285860.1878650791, 6092492.915342125], [1285628.2648379607, 6092584.311388493], [1285193.729205649, 6092743.604466832], [1285199.0614092583, 6092628.090094107], [1285208.7796008044, 6092584.94297034], [1285174.0145238298, 6092575.253180317], [1285108.6588507849, 6092573.890294787], [1285082.0757563834, 6092572.2781012105], [1285052.0417577676, 6092552.981663687], [1285039.4515233587, 6092540.350083199], [1285026.6163860704, 6092527.469214549], [1284989.6471831778, 6092473.768668162], [1284843.44016397, 6092274.343334552], [1284774.2105726455, 6092216.722102147], [1284764.72615203, 6091977.1170343375], [1284740.3694474443, 6092005.652568011], [1284669.9264736704, 6092318.8849647045], [1284629.9516445268, 6092310.824241935], [1284432.2259649797, 6092280.060605355], [1284298.13050637, 6092272.731197841], [1284244.797338331, 6092269.806084593], [1284189.939093268, 6092542.145096121], [1284100.7944450409, 6092517.064811041], [1284089.3619333364, 6092275.506732368], [1283872.0996831548, 6092212.966015771], [1283653.9802728947, 6092163.75478978], [1283526.319080853, 6092134.420979515], [1283284.1101327848, 6092114.527229306], [1283102.1472931344, 6092090.943971757], [1282886.3210643844, 6092070.950605978], [1282890.8628996087, 6092152.6528032115], [1282902.6182378363, 6092255.163913527], [1282224.8495181417, 6092226.54444207], [1282160.3398732268, 6092448.904649041], [1281801.4458349096, 6092202.013543302], [1280875.7574772688, 6091531.147521442], [1280694.473686512, 6091755.616746606], [1280463.1183887962, 6091939.873072024], [1280376.3003179268, 6092066.130932157], [1280360.4929502339, 6092140.7364655165], [1280412.8910345503, 6092461.004242835], [1280440.2199695404, 6092597.275446361], [1280439.9528027622, 6092630.533331478], [1280433.3515569582, 6093686.7591622155], [1280433.607591787, 6093701.769502764], [1280434.1307933938, 6093711.27772778], [1280461.1702977074, 6094280.57717011], [1280503.5941556487, 6095927.499923533], [1281140.5308861206, 6095886.314647192], [1281165.4553201091, 6096004.61685637], [1281267.9583072315, 6096110.483351226], [1281339.703719048, 6096154.230359617], [1281603.3416690936, 6096312.010781514], [1281687.6439194714, 6096363.989672076], [1281821.472211303, 6096446.099009484], [1281843.63592192, 6096464.772426509], [1282025.6544213162, 6096618.185331002], [1282118.7175156195, 6096709.758825072], [1282315.118493226, 6096974.241659554], [1282377.4351441718, 6097058.85130011], [1282595.1538042652, 6097286.543224219], [1282696.8552910541, 6097390.69618917], [1282712.8852977285, 6097405.929270255], [1282930.0807562151, 6097597.592369761], [1283135.4763486777, 6097780.528648953], [1283221.114432945, 6097645.005748698], [1283422.6138432298, 6097429.843267102], [1283753.767064442, 6097064.9376393175], [1283804.740259276, 6096992.251070176], [1284074.5453091117, 6096729.5968304025], [1284497.3367351447, 6096496.78171866], [1285069.3742024838, 6096105.927423368], [1285093.3524208006, 6096092.126634919], [1285212.3195606116, 6096008.60740236], [1285577.6144696495, 6095775.745555655], [1285608.6503436828, 6095756.059420308], [1285633.6415693657, 6095738.817462577], [1286181.355727967, 6095364.108657085], [1286484.44530555, 6095144.498444127], [1286545.927060315, 6095098.8114552405], [1286659.0944546557, 6095014.703482174], [1286997.9843804776, 6094773.223963706], [1286860.1931147734, 6094532.466161915], [1286801.316236093, 6093768.84261114], [1286906.8582453139, 6093356.804336679], [1286808.1623847766, 6093032.3806520915], [1286640.3148565586, 6092901.554216411], [1286607.687113807, 6092867.480834488], [1286458.5969197876, 6092678.035324309], [1286261.939907352, 6092455.137267318]]]}}, {\\\"id\\\": \\\"21\\\", \\\"type\\\": \\\"Feature\\\", \\\"properties\\\": {\\\"cartodb_id\\\": 16, \\\"created_at\\\": \\\"2015-07-21\\\", \\\"district_number\\\": 16, \\\"ev\\\": 9.143241496182672, \\\"munich_r_1\\\": 61.0, \\\"munich_r_2\\\": 25, \\\"munich_ren\\\": 12.9, \\\"name\\\": \\\"Ramersdorf-Perlach\\\", \\\"other\\\": 60.53652230122818, \\\"rk\\\": 30.320236202589143, \\\"updated_at\\\": \\\"2015-07-21\\\"}, \\\"geometry\\\": {\\\"type\\\": \\\"Polygon\\\", \\\"coordinates\\\": [[[1298325.577464874, 6092910.097515072], [1298041.1672978462, 6092094.666764932], [1298472.764095601, 6091890.77976304], [1299898.7333768154, 6091343.559815393], [1299899.2677103712, 6091304.041955656], [1300042.9143812908, 6091247.873068581], [1300328.2485000924, 6091143.86190026], [1300541.5143805537, 6091101.370405841], [1301337.0368576099, 6090912.6123635275], [1301312.468645992, 6090901.046728512], [1301282.02276526, 6090877.500074866], [1301257.9332274522, 6090865.917870457], [1301208.2958665073, 6090835.259170313], [1301206.9266367706, 6090772.230547948], [1301215.6206890016, 6090718.075825233], [1301217.1235021274, 6090688.713774122], [1301200.6593494387, 6090681.468824095], [1301004.4142191196, 6090619.538047069], [1300984.7663289944, 6090613.688960261], [1300996.4437435789, 6090600.412212828], [1301008.121158163, 6090587.11886948], [1301063.970146694, 6090519.140360172], [1301069.6363087753, 6090512.261118218], [1301136.951204858, 6090450.331574963], [1301160.6399924988, 6090416.65020184], [1301179.9873199987, 6090398.405488151], [1301165.0705082326, 6090393.470449379], [1301161.7977152031, 6090392.373774488], [1301157.8570052292, 6090391.077704342], [1301156.3764560013, 6090390.595832156], [1301035.650468236, 6090394.201566055], [1300858.2517277081, 6090440.743918398], [1300688.9459141605, 6090424.875290499], [1300641.6462625226, 6090412.163793202], [1300599.1778767847, 6090396.477997919], [1300559.1585198443, 6090371.719757111], [1300534.634836023, 6090350.334676998], [1300515.9331615695, 6090319.0298083415], [1300488.7712058162, 6090265.459536424], [1300487.7025387045, 6090262.4686503075], [1300484.6523846567, 6090222.8228927385], [1300482.7933491603, 6090200.042451044], [1300475.8247490367, 6090093.152981459], [1300471.4610249978, 6089947.417928478], [1300475.2681515827, 6089863.377576434], [1300472.3849767714, 6089831.659122727], [1300471.7281917755, 6089819.729425898], [1300464.9933625823, 6089772.808329606], [1300456.1768589118, 6089714.622542575], [1300450.9225789462, 6089695.598435393], [1300436.707079972, 6089611.577189552], [1300430.4175287422, 6089532.159018448], [1300413.3077230074, 6089497.5674865255], [1300398.8584531024, 6089407.251355404], [1300377.3849233284, 6089398.346064097], [1300364.0933761275, 6089328.350134926], [1300378.2532153563, 6089294.9888791265], [1300338.2561223146, 6089148.735876172], [1300342.8870131318, 6088911.609668545], [1300353.9410385673, 6088874.711412208], [1300356.6238382955, 6088858.76264323], [1300384.7097458225, 6088829.556537662], [1300480.5335634975, 6088744.380943155], [1300577.1143537094, 6088635.1839902345], [1300591.652679207, 6088621.013242555], [1300593.300207671, 6088612.042324237], [1300595.5711252831, 6088590.163290959], [1300603.1519826064, 6088527.998569972], [1300606.2689283483, 6088523.64605978], [1300618.1355860669, 6088500.504697626], [1300630.4029939524, 6088456.647586949], [1300630.8148760682, 6088452.511075695], [1300628.1766041366, 6088414.086471021], [1300636.6034895896, 6088383.901765118], [1300671.8583723237, 6088257.748464377], [1300672.170066898, 6088252.615323908], [1300671.4242263096, 6088247.565246992], [1300667.249745405, 6088236.3687055865], [1300678.8937641417, 6088219.075560099], [1300692.853228287, 6088187.031006037], [1300720.3380105642, 6088098.605940275], [1300753.1883922971, 6088047.8238228], [1300797.8942998, 6087989.301006658], [1300824.7445609793, 6087947.738922218], [1300769.129343379, 6087959.051363911], [1300697.7624178312, 6087970.546547698], [1300519.3840657843, 6087995.347625814], [1300268.7148364158, 6088044.66760046], [1300140.0740328552, 6088065.2993487585], [1300144.2039859637, 6088096.762030798], [1300063.463959291, 6088107.52648097], [1300059.1670269468, 6088081.279851685], [1299877.1262636525, 6088105.5164514305], [1299693.938909603, 6088135.068917124], [1299509.9277913217, 6088161.465219887], [1299481.630376762, 6088073.738113712], [1299284.9956282247, 6088047.292248429], [1299263.677945738, 6088037.790362162], [1299254.0599417335, 6088034.318521754], [1299242.8612009594, 6088029.351632918], [1299232.3415090798, 6088025.780126018], [1298940.7178390485, 6088010.979152969], [1298859.5993261074, 6088005.513929258], [1298856.437852569, 6088005.297978243], [1298850.4599959133, 6088007.042198149], [1298761.727229802, 6088032.740412947], [1298632.8081275143, 6088059.667972877], [1298618.737343878, 6088098.572716678], [1298533.8673640972, 6088118.54012235], [1298371.185060252, 6088197.695898634], [1298358.2052076256, 6088166.465409828], [1298310.4602780242, 6088182.030803994], [1298203.2039486447, 6088211.367579602], [1298101.903212023, 6088242.697905963], [1298059.969159841, 6088252.598711808], [1298014.5285436993, 6088275.074912876], [1297996.3834667003, 6088266.835293459], [1297900.3481419927, 6088291.736909622], [1297817.348329657, 6088314.479009773], [1297804.123574151, 6088317.303087817], [1297660.298792046, 6088347.221760523], [1297346.1774529256, 6088448.108766733], [1296890.7805480396, 6088583.8670572], [1296507.7190482707, 6088702.698873536], [1295968.8770530857, 6088859.061682373], [1295476.1101951404, 6088996.271919643], [1295186.0783938277, 6089056.8783821305], [1294992.382479847, 6089074.488893644], [1294998.0820377758, 6089342.073478384], [1294598.7122326058, 6089403.380210834], [1294602.1520048715, 6089446.7437765645], [1294267.1248653799, 6089490.42323956], [1294248.86846889, 6089536.611733078], [1293994.7594672563, 6089570.007167212], [1294006.5593332802, 6089700.915212149], [1293141.228403548, 6089773.921539583], [1292979.0247735127, 6090739.179342884], [1292376.0738835803, 6090771.582483866], [1292223.5661811936, 6090786.820311364], [1292150.273428455, 6090801.692590296], [1292076.3461546192, 6090827.548815445], [1292001.1275746904, 6090870.869800968], [1291966.7632478825, 6090895.430089605], [1291926.6214395023, 6090923.679494536], [1291885.05474164, 6090967.848458315], [1291837.7996177985, 6091026.82385497], [1291819.9551034241, 6091050.935920096], [1291770.1730271415, 6091139.275400989], [1291304.8909514728, 6092233.37521308], [1290826.5177036868, 6093724.526094028], [1290763.5887955416, 6094200.350632382], [1290829.1448436696, 6094746.757228621], [1290862.908045227, 6094998.6434262935], [1290920.9166318795, 6095280.097810833], [1291085.2353322394, 6095490.051667059], [1291360.5061690733, 6095743.423073702], [1291406.058104706, 6095785.339237821], [1291526.895411962, 6095676.168098025], [1291549.8494909636, 6095655.4347185325], [1291752.1949293786, 6095477.615231252], [1291982.5594836262, 6095141.522464657], [1292088.0013053052, 6095158.813086204], [1292285.6045334125, 6095175.7546043545], [1292431.8115526203, 6095177.9990671], [1292590.7757854732, 6095168.173312368], [1292744.9978080182, 6095150.749666968], [1293152.794498641, 6095108.171615254], [1293353.1027903745, 6095087.772132363], [1293553.0548597374, 6095068.104217682], [1293739.1699163949, 6095049.916009152], [1293996.7966139377, 6095020.771730659], [1294106.6578194015, 6094999.624319106], [1294215.6396008881, 6094973.805263053], [1294415.736385589, 6094912.80743156], [1294603.9553806223, 6094850.662912459], [1294811.031897396, 6094778.527295546], [1294954.166498658, 6094729.10170122], [1294972.8013814166, 6094786.440737305], [1295004.2380056167, 6094777.280430396], [1294985.3025602328, 6094720.456823601], [1295086.9595192252, 6094696.633581413], [1295383.6148302401, 6094633.576292307], [1295509.762077207, 6094601.524150873], [1295613.2558077974, 6094562.473235436], [1295644.1247025947, 6094617.3839609185], [1295759.2513199728, 6094570.469598131], [1295747.4291900508, 6094503.5896489145], [1295891.5434028318, 6094421.997821733], [1295981.5006833419, 6094359.80702284], [1296176.9554452766, 6094184.85732287], [1296737.5604009116, 6093664.451484754], [1296765.26782217, 6093632.851812441], [1296796.94934925, 6093592.841244044], [1296809.205625186, 6093572.727984237], [1296826.8497644768, 6093536.590726391], [1296840.4530062517, 6093500.553356548], [1296850.6721355065, 6093453.861253803], [1297381.8330858268, 6093448.076703592], [1298325.577464874, 6092910.097515072]]]}}, {\\\"id\\\": \\\"22\\\", \\\"type\\\": \\\"Feature\\\", \\\"properties\\\": {\\\"cartodb_id\\\": 17, \\\"created_at\\\": \\\"2015-07-21\\\", \\\"district_number\\\": 19, \\\"ev\\\": 12.287293048956611, \\\"munich_r_1\\\": 90.9, \\\"munich_r_2\\\": 25, \\\"munich_ren\\\": 13.65, \\\"name\\\": \\\"Solln\\\", \\\"other\\\": 55.80614103020282, \\\"rk\\\": 31.90656592084057, \\\"updated_at\\\": \\\"2015-07-21\\\"}, \\\"geometry\\\": {\\\"type\\\": \\\"Polygon\\\", \\\"coordinates\\\": [[[1280484.9926687372, 6089604.715297346], [1280970.2677249522, 6089816.771927048], [1281149.6590843655, 6089831.360049343], [1281215.9609730819, 6089850.2515387945], [1281289.3761772602, 6089618.854456594], [1281369.8935649511, 6089626.896010075], [1281440.9487959244, 6089616.495159292], [1281621.2752390604, 6089581.587604633], [1281800.9115013534, 6089500.807321432], [1282061.421373708, 6089385.104444843], [1282260.3493037557, 6089340.245913206], [1282835.8265433607, 6089311.918703221], [1283013.4479228703, 6089335.527474017], [1283224.2202467383, 6089344.964355015], [1283432.6214654525, 6089354.417860752], [1283180.271311773, 6088410.631089235], [1283336.9089672682, 6088372.671819353], [1283696.1480960073, 6088285.822976828], [1283706.7457115308, 6088235.371981548], [1283650.0506948698, 6088237.664447011], [1283650.0618268189, 6088177.578799334], [1283862.136588729, 6088169.123319298], [1283891.02399659, 6088111.729271545], [1283887.7957313568, 6088093.888190695], [1283887.1612102592, 6088087.509265854], [1283886.7604600925, 6088073.422490463], [1283886.259522384, 6088041.461544232], [1283896.6011030786, 6088016.627108217], [1283931.7112704748, 6087969.948531973], [1283820.0689531583, 6087920.994443024], [1283794.476602225, 6087912.090709626], [1283792.1388929184, 6087898.834795473], [1283792.094365122, 6087897.4394372925], [1283791.2594689408, 6087893.851374452], [1283790.6806075887, 6087892.60551965], [1283783.277861451, 6087867.406069133], [1283770.4315922137, 6087836.409352495], [1283764.6207147941, 6087825.063851581], [1283762.8952626868, 6087821.675154392], [1283754.9581829933, 6087810.52900798], [1283735.989341762, 6087784.848076523], [1283726.6051086881, 6087769.582410849], [1283720.4046130509, 6087760.080835183], [1283706.5898642438, 6087730.496451728], [1283693.598879668, 6087695.081704824], [1283681.3426037317, 6087652.142352764], [1283662.318102755, 6087549.587115015], [1283661.3607551344, 6087547.5938281985], [1283642.8483238155, 6087526.099581734], [1283634.521625904, 6087489.124289623], [1283632.15052075, 6087477.779252476], [1283626.2394557889, 6087467.447474869], [1283625.5938027422, 6087466.301345975], [1283608.3504136184, 6087436.203059881], [1283600.0793754526, 6087421.751933916], [1283572.394218092, 6087373.415587745], [1283557.5775938677, 6087347.436991601], [1283522.0110165593, 6087258.140325744], [1283520.1853769103, 6087253.638974763], [1283428.391324802, 6087027.710761744], [1283413.5301727813, 6086990.62137115], [1283370.4940576404, 6086782.355740301], [1283370.0376477283, 6086643.304442401], [1283343.89983129, 6086621.546740961], [1283316.1812780823, 6086589.6743002795], [1283318.9865292504, 6086530.912396321], [1283257.5715661799, 6086535.42997316], [1283251.5157858806, 6086535.878409227], [1283097.6945135025, 6086528.769869909], [1283095.6239709735, 6086507.244983385], [1283095.234352756, 6086503.142638513], [1283081.7201665738, 6086416.611857996], [1282991.5847748786, 6086429.516680486], [1282882.5362016973, 6086445.145327011], [1282825.5294904618, 6086433.934552146], [1282720.5774745422, 6086266.322775289], [1282727.7798455963, 6086125.220537189], [1282645.1362556315, 6086144.2532588625], [1282655.3999126826, 6086187.982177921], [1282664.706222113, 6086227.625718325], [1282607.8330942667, 6086231.8441872215], [1282607.5547955397, 6086245.811652332], [1282537.0561620204, 6086246.725102098], [1282509.5602477943, 6086246.542412138], [1282392.8417616978, 6086249.100071951], [1282357.6202748106, 6086251.259136028], [1282330.9369928676, 6086256.158552703], [1282293.700623197, 6086262.071072859], [1282275.9896922118, 6086261.805341527], [1282299.5337645148, 6086206.1182027785], [1282266.2715006657, 6086193.8448264105], [1282259.9930813848, 6086211.565661026], [1282204.5337110718, 6086194.077339464], [1282207.2721705453, 6086148.720806165], [1282128.892117078, 6086151.477732438], [1282087.6593776878, 6086157.722339837], [1282068.6682725586, 6086087.42094761], [1282056.1559617934, 6086045.436363326], [1282031.1424722122, 6085961.417994241], [1282022.4929477775, 6085934.513691113], [1281999.360757591, 6085937.718952388], [1281991.7465044204, 6085939.3132796865], [1281967.9797931362, 6085942.202998685], [1281965.2969934081, 6085934.148324622], [1281958.7402754, 6085918.288112446], [1281941.5525460218, 6085853.136996458], [1281930.3538052482, 6085805.955477964], [1281920.4908983638, 6085750.686506844], [1281913.64474968, 6085715.612153934], [1281896.0228742873, 6085625.236576502], [1281892.6832895635, 6085611.685304872], [1281460.4964985077, 6085761.663879048], [1281210.5619777786, 6085397.0433513895], [1281152.9875371405, 6085308.73034861], [1281116.4190844146, 6085310.955599162], [1281100.4336055368, 6085313.280488419], [1281083.457383191, 6085315.738229183], [1280752.5045370625, 6085394.220243831], [1280644.1016169281, 6085419.8109178], [1280630.1310208333, 6085522.855261647], [1280580.549319634, 6085948.447452283], [1280567.9702171746, 6085955.489075679], [1280513.5015903292, 6085985.930877923], [1280460.8808670314, 6086175.6423955895], [1280462.8734859165, 6086175.8583001075], [1280513.0674443154, 6086180.6414169585], [1280529.6763123416, 6086183.331921372], [1280527.1716237988, 6086205.00546021], [1280520.5258501985, 6086247.322996544], [1280506.3103512242, 6086303.392395991], [1280501.0672032079, 6086336.442955838], [1280501.0560712584, 6086381.069719783], [1280501.0449393096, 6086394.9543878585], [1280500.7889044809, 6086397.395833034], [1280502.670203875, 6086420.564684425], [1280509.1489982393, 6086450.1943326695], [1280513.9580002418, 6086465.324759044], [1280517.8541824194, 6086473.695500469], [1280527.7282212528, 6086488.726316782], [1280548.812132809, 6086517.027506074], [1280566.9349459102, 6086543.584869784], [1280580.5938474303, 6086565.840635639], [1280567.5026753133, 6086576.536711015], [1280564.2410142329, 6086579.210731961], [1280559.9886096846, 6086583.595463783], [1280539.8509138, 6086601.898421811], [1280531.1568615688, 6086609.687986689], [1280516.251181752, 6086620.732904355], [1280490.6922266658, 6086640.015870214], [1280478.1465200533, 6086654.2829678655], [1280460.3354015264, 6086670.277425966], [1280430.9804518041, 6086695.805507137], [1280378.5378396916, 6086734.072859011], [1280325.1044841108, 6086767.091875793], [1280288.4692396908, 6086792.354499928], [1280256.6096014257, 6086813.116081579], [1280244.0638948132, 6086826.121162171], [1280217.9706061713, 6086843.378253864], [1280080.235000213, 6086924.93052809], [1280021.4917049212, 6086963.547713115], [1279981.0938617124, 6087005.570053658], [1279872.6575457307, 6087060.631261083], [1279822.3633997901, 6087079.300662497], [1279782.9674319986, 6087106.341469669], [1279755.3156704856, 6087137.036544264], [1279752.432495674, 6087138.631096626], [1279501.663078764, 6087285.7464492265], [1279258.6748942605, 6087426.070658639], [1279241.6764080161, 6087430.372775068], [1279224.82263711, 6087440.106529157], [1279488.916997068, 6087698.869015923], [1279578.306548175, 6087860.063857008], [1279762.6627568777, 6088376.193635067], [1280052.8504054777, 6088307.119799045], [1280233.7557099657, 6088452.992837945], [1280335.8579469211, 6088658.176203232], [1280465.3893064084, 6088834.407601711], [1280512.8448053338, 6088877.070503496], [1280475.5305120195, 6089080.702422458], [1280484.9926687372, 6089604.715297346]]]}}, {\\\"id\\\": \\\"23\\\", \\\"type\\\": \\\"Feature\\\", \\\"properties\\\": {\\\"cartodb_id\\\": 26, \\\"created_at\\\": \\\"2015-07-21\\\", \\\"district_number\\\": 19, \\\"ev\\\": 12.287293048956611, \\\"munich_r_1\\\": 84.5, \\\"munich_r_2\\\": 15, \\\"munich_ren\\\": 13.77, \\\"name\\\": \\\"Thalkirchen,Obersendling\\\", \\\"other\\\": 55.80614103020282, \\\"rk\\\": 31.90656592084057, \\\"updated_at\\\": \\\"2015-07-21\\\"}, \\\"geometry\\\": {\\\"type\\\": \\\"Polygon\\\", \\\"coordinates\\\": [[[1280484.9926687372, 6089604.715297346], [1280508.525609091, 6089927.064069797], [1280512.8670692318, 6089999.490797918], [1280498.5959105121, 6090500.928659323], [1280627.826707374, 6090736.071971245], [1280923.8252333933, 6091076.809521664], [1281042.23577575, 6091233.448692441], [1281116.3077649241, 6091380.15305217], [1280984.238321047, 6091445.745411153], [1280875.7574772688, 6091531.147521442], [1281801.4458349096, 6092202.013543302], [1282160.3398732268, 6092448.904649041], [1282224.8495181417, 6092226.54444207], [1282902.6182378363, 6092255.163913527], [1282890.8628996087, 6092152.6528032115], [1282886.3210643844, 6092070.950605978], [1283102.1472931344, 6092090.943971757], [1283284.1101327848, 6092114.527229306], [1283526.319080853, 6092134.420979515], [1283653.9802728947, 6092163.75478978], [1283872.0996831548, 6092212.966015771], [1284089.3619333364, 6092275.506732368], [1284100.7944450409, 6092517.064811041], [1284189.939093268, 6092542.145096121], [1284244.797338331, 6092269.806084593], [1284298.13050637, 6092272.731197841], [1284432.2259649797, 6092280.060605355], [1284629.9516445268, 6092310.824241935], [1284669.9264736704, 6092318.8849647045], [1284740.3694474443, 6092005.652568011], [1284764.72615203, 6091977.1170343375], [1284774.2105726455, 6092216.722102147], [1284843.44016397, 6092274.343334552], [1284989.6471831778, 6092473.768668162], [1285026.6163860704, 6092527.469214549], [1285039.4515233587, 6092540.350083199], [1285052.0417577676, 6092552.981663687], [1285082.0757563834, 6092572.2781012105], [1285108.6588507849, 6092573.890294787], [1285174.0145238298, 6092575.253180317], [1285208.7796008044, 6092584.94297034], [1285199.0614092583, 6092628.090094107], [1285193.729205649, 6092743.604466832], [1285628.2648379607, 6092584.311388493], [1285860.1878650791, 6092492.915342125], [1285897.3908389024, 6092596.444416415], [1285904.626605804, 6092666.500526255], [1285910.4152193256, 6092821.772853945], [1285999.2036451818, 6092818.581615036], [1285998.8474228114, 6092780.004285407], [1285982.372138174, 6092703.631329841], [1286261.939907352, 6092455.137267318], [1285742.968441274, 6091968.790726045], [1285709.2163716657, 6091650.851516124], [1285718.8900354155, 6091502.613582093], [1285716.285159331, 6091370.880091697], [1285716.4076107708, 6091309.2766489675], [1285767.4364653502, 6090412.828446183], [1285628.3650255024, 6089942.250536063], [1285221.4700227547, 6089186.549088719], [1284887.1441960554, 6088024.949543236], [1284833.5883890346, 6088016.61049658], [1284812.9608873907, 6088018.171990748], [1284772.9971901958, 6088017.939427767], [1284725.8979136413, 6088019.88299001], [1284694.1384629179, 6088021.195310063], [1284652.449313616, 6088022.474407018], [1284638.6456967576, 6088022.939533234], [1284594.4741228106, 6088024.451193603], [1284495.121477278, 6088028.138981571], [1284464.708992393, 6088029.268574602], [1284451.4397090904, 6088029.766924518], [1284437.1351545234, 6088030.348332788], [1284417.4983963475, 6088031.162304433], [1284404.2513769432, 6088032.7071896065], [1284392.0730246506, 6088032.657354595], [1284367.2042504072, 6088034.102570007], [1284348.8365344263, 6088032.7071896065], [1284284.9948064564, 6088027.889806658], [1284253.8587448816, 6088025.5807861425], [1284165.9831388493, 6088002.125160092], [1284102.074619185, 6087995.779527346], [1284026.0100111258, 6087983.586623279], [1283973.5340031658, 6087977.689516556], [1283942.4981291327, 6087971.941917883], [1283938.0676133991, 6087971.1279519135], [1283931.7112704748, 6087969.948531973], [1283896.6011030786, 6088016.627108217], [1283886.259522384, 6088041.461544232], [1283886.7604600925, 6088073.422490463], [1283887.1612102592, 6088087.509265854], [1283887.7957313568, 6088093.888190695], [1283891.02399659, 6088111.729271545], [1283862.136588729, 6088169.123319298], [1283650.0618268189, 6088177.578799334], [1283650.0506948698, 6088237.664447011], [1283706.7457115308, 6088235.371981548], [1283696.1480960073, 6088285.822976828], [1283336.9089672682, 6088372.671819353], [1283180.271311773, 6088410.631089235], [1283432.6214654525, 6089354.417860752], [1283224.2202467383, 6089344.964355015], [1283013.4479228703, 6089335.527474017], [1282835.8265433607, 6089311.918703221], [1282260.3493037557, 6089340.245913206], [1282061.421373708, 6089385.104444843], [1281800.9115013534, 6089500.807321432], [1281621.2752390604, 6089581.587604633], [1281440.9487959244, 6089616.495159292], [1281369.8935649511, 6089626.896010075], [1281289.3761772602, 6089618.854456594], [1281215.9609730819, 6089850.2515387945], [1281149.6590843655, 6089831.360049343], [1280970.2677249522, 6089816.771927048], [1280484.9926687372, 6089604.715297346]]]}}, {\\\"id\\\": \\\"24\\\", \\\"type\\\": \\\"Feature\\\", \\\"properties\\\": {\\\"cartodb_id\\\": 28, \\\"created_at\\\": \\\"2015-07-21\\\", \\\"district_number\\\": 19, \\\"ev\\\": 12.287293048956611, \\\"munich_r_1\\\": 70.5, \\\"munich_r_2\\\": 16, \\\"munich_ren\\\": 13.87, \\\"name\\\": \\\"Forstenried-F\\\\u00fcrstenried\\\", \\\"other\\\": 55.80614103020282, \\\"rk\\\": 31.90656592084057, \\\"updated_at\\\": \\\"2015-07-21\\\"}, \\\"geometry\\\": {\\\"type\\\": \\\"Polygon\\\", \\\"coordinates\\\": [[[1280923.8252333933, 6091076.809521664], [1280627.826707374, 6090736.071971245], [1280498.5959105121, 6090500.928659323], [1280512.8670692318, 6089999.490797918], [1280508.525609091, 6089927.064069797], [1280484.9926687372, 6089604.715297346], [1280475.5305120195, 6089080.702422458], [1280512.8448053338, 6088877.070503496], [1280465.3893064084, 6088834.407601711], [1280335.8579469211, 6088658.176203232], [1280233.7557099657, 6088452.992837945], [1280052.8504054777, 6088307.119799045], [1279762.6627568777, 6088376.193635067], [1279578.306548175, 6087860.063857008], [1279488.916997068, 6087698.869015923], [1279224.82263711, 6087440.106529157], [1279046.6223962484, 6087546.680238564], [1279042.2030124639, 6087564.187955209], [1278942.5498043054, 6087620.963701989], [1278793.2592352028, 6087716.84215565], [1278726.6456519119, 6087598.289901553], [1278833.857453495, 6087543.806584534], [1278738.6458930194, 6087348.749207788], [1278624.2428523311, 6087405.390631314], [1278693.9956452623, 6087563.656411099], [1278638.8145736763, 6087590.49943024], [1278684.2997176142, 6087675.879399088], [1278720.333836784, 6087753.851661098], [1278652.1840445206, 6087800.562272452], [1278636.5993158096, 6087807.239983962], [1278628.3616734906, 6087812.887803763], [1278511.8324305282, 6087884.48255084], [1278318.993676627, 6088002.474003915], [1278271.2264831276, 6088016.31148709], [1278244.2982983047, 6088028.919729679], [1278020.946871977, 6088172.096856506], [1277880.6286538322, 6088254.326370387], [1277652.5350171966, 6088407.674080938], [1277361.8686947864, 6088595.280022622], [1277204.0955804852, 6088692.365606127], [1277179.7945356448, 6088659.937170088], [1277217.0865650608, 6088628.920948777], [1277164.9667794714, 6088557.718632364], [1277101.9599476822, 6088608.5536363395], [1277033.298085761, 6088672.762335935], [1277105.2104768136, 6088756.7742962465], [1276939.0550048554, 6088862.766445961], [1276942.9400550842, 6088889.347756755], [1276971.3153932875, 6088939.470367212], [1276985.0522184512, 6088961.200778797], [1276997.898487689, 6088990.673153671], [1277034.3222250764, 6089063.307875971], [1277098.8096060927, 6089176.730263833], [1277163.6086816837, 6089282.711039583], [1277249.8924189976, 6089446.129042477], [1277265.5884671996, 6089457.659467641], [1277315.8158214453, 6089471.034115863], [1277328.662090683, 6089476.317523073], [1277344.41379863, 6089484.29248358], [1277367.14523865, 6089498.215453407], [1277385.1678642095, 6089513.833131685], [1277399.7729814015, 6089530.796621155], [1277403.2238856163, 6089535.133032813], [1277469.3031353513, 6089638.891895324], [1277487.4927401468, 6089669.729040973], [1277495.118125266, 6089683.7852339465], [1277503.244448094, 6089698.8051159745], [1277532.4880783253, 6089752.753959937], [1277546.9930079756, 6089777.294400553], [1277552.1693642975, 6089798.462041355], [1277557.4681720594, 6089808.946190676], [1277544.9224654469, 6089810.923393026], [1277540.402894121, 6089811.98676255], [1277502.0755934406, 6089821.091869536], [1277480.0120703653, 6089825.212432111], [1277388.0844348683, 6089833.154489808], [1277362.236049106, 6089839.684262472], [1277306.5206439642, 6089858.525924716], [1277223.6321511194, 6089903.270886217], [1277218.2108919178, 6089906.627183216], [1277198.2179113713, 6089919.038847498], [1277212.3109589058, 6089948.929931354], [1277214.9158349906, 6089954.346559253], [1277217.4427874314, 6089959.829652364], [1277230.6675429377, 6089987.909790737], [1277145.9422784948, 6090038.653660856], [1277104.5091640214, 6090064.740182269], [1277092.4643951175, 6090072.366766404], [1277088.7017963289, 6090073.878791523], [1277073.0280120252, 6090080.292439526], [1277077.191360981, 6090094.99732434], [1277083.4809122107, 6090111.330576526], [1277087.5106777772, 6090119.754758547], [1277096.9060428005, 6090133.346454453], [1277118.2682530836, 6090180.73478681], [1277125.4594921886, 6090200.208610136], [1277133.2741204426, 6090240.219813866], [1277138.6508518478, 6090263.282835867], [1277139.2297132, 6090264.927823258], [1277148.6584740703, 6090285.066482601], [1277155.226324027, 6090303.809436176], [1277155.7940534302, 6090310.306338425], [1277155.0482128416, 6090324.097733071], [1277171.668212817, 6090330.877125638], [1277188.9561297374, 6090337.889150111], [1277193.6315483507, 6090354.638274652], [1277217.6208986167, 6090431.006725409], [1277224.5894987404, 6090458.473614166], [1277224.8566655181, 6090460.251570705], [1277226.103443815, 6090496.541905101], [1277239.9070606735, 6090548.05317713], [1277242.0332629476, 6090556.909824086], [1277242.946082772, 6090601.043647153], [1277249.5028007799, 6090612.559023502], [1277260.8462568917, 6090652.3395346515], [1277270.6089762342, 6090718.275228303], [1277301.6671141656, 6090909.072878725], [1277303.147663393, 6090930.974503191], [1277271.3102890262, 6090930.176870961], [1277272.1897130036, 6090952.111784608], [1277274.538554259, 6090973.465145113], [1277258.80911021, 6091000.102914454], [1277240.7642207523, 6091030.69573952], [1277186.5516287363, 6091122.641053048], [1277021.6540670241, 6091445.213624091], [1277017.123363749, 6091453.988114847], [1276978.2060697675, 6091530.200266239], [1276966.3839398453, 6091539.1077930285], [1276951.3001488426, 6091547.550009878], [1276967.0073289934, 6091575.735109587], [1276989.9391440968, 6091616.650202621], [1277079.4400146948, 6091775.227133222], [1277212.3109589058, 6092009.591376635], [1277368.102586271, 6092262.244006712], [1277441.5623182454, 6092270.637082572], [1277476.026832595, 6092251.341330456], [1277524.7068459191, 6092219.663816973], [1277558.1472209534, 6092129.900423997], [1278030.5537440327, 6090997.577058754], [1278758.638873566, 6091023.3175576115], [1278869.8247809703, 6091108.898214738], [1279231.6465218957, 6091376.879263896], [1279536.5060793823, 6091556.939493201], [1280094.138804613, 6091964.104065086], [1280109.5008943423, 6091958.353768295], [1280113.7199030435, 6091959.766413099], [1280190.3745044037, 6092012.965125562], [1280376.3003179268, 6092066.130932157], [1280463.1183887962, 6091939.873072024], [1280694.473686512, 6091755.616746606], [1280875.7574772688, 6091531.147521442], [1280984.238321047, 6091445.745411153], [1281116.3077649241, 6091380.15305217], [1281042.23577575, 6091233.448692441], [1280923.8252333933, 6091076.809521664]]]}}, {\\\"id\\\": \\\"25\\\", \\\"type\\\": \\\"Feature\\\", \\\"properties\\\": {\\\"cartodb_id\\\": 24, \\\"created_at\\\": \\\"2015-07-21\\\", \\\"district_number\\\": 18, \\\"ev\\\": 13.228136882129277, \\\"munich_r_1\\\": 108.3, \\\"munich_r_2\\\": 23, \\\"munich_ren\\\": 13.61, \\\"name\\\": \\\"Harlaching\\\", \\\"other\\\": 54.07414448669201, \\\"rk\\\": 32.69771863117871, \\\"updated_at\\\": \\\"2015-07-21\\\"}, \\\"geometry\\\": {\\\"type\\\": \\\"Polygon\\\", \\\"coordinates\\\": [[[1286534.0381386983, 6091025.810185918], [1286740.1573078511, 6090986.426744213], [1286893.811600993, 6090972.119134034], [1287046.2413797365, 6090974.046754908], [1287256.969175808, 6091004.921983333], [1287437.8188205506, 6091073.186880347], [1287671.623147064, 6091163.969408168], [1287942.2408291823, 6091252.841839767], [1288059.783079511, 6091313.364697415], [1288090.529522868, 6091372.558530026], [1288324.9349746315, 6091473.680896984], [1288504.1482228595, 6091611.415319851], [1288740.6242171514, 6091857.209011009], [1288844.9862397702, 6091998.5726887435], [1288962.8290527242, 6092151.0240698755], [1289108.6798495615, 6092309.860279724], [1289253.172548611, 6092409.481366878], [1289313.4743167737, 6092239.557813475], [1289287.3031044882, 6091412.97409576], [1289619.0685828994, 6091608.523671703], [1289657.6853142558, 6091631.291272832], [1289850.4572764623, 6091158.95083562], [1289983.573123553, 6090832.783215077], [1289997.9222059164, 6090797.638022282], [1289868.6134854106, 6090728.793746936], [1289821.525340805, 6090695.626392751], [1289848.420129781, 6090660.149431316], [1289841.1398350832, 6090655.480109256], [1289786.5264928997, 6090608.720562983], [1289764.1401433013, 6090595.726306923], [1289744.3920656345, 6090591.505670483], [1289722.6291051845, 6090588.963319626], [1289695.2667743475, 6090592.71868783], [1289675.4741688843, 6090605.197821525], [1289636.4789512595, 6090582.831770688], [1289566.8486097683, 6090526.651036494], [1289133.5040960084, 6090280.231206077], [1289125.1328703007, 6090275.512244698], [1288598.3356440195, 6089978.339271609], [1288456.4700849527, 6089912.010553447], [1288457.382904777, 6089836.06214877], [1288433.2711030713, 6089820.9921785295], [1288329.2541708744, 6089836.809832667], [1287977.0949617496, 6089638.443295432], [1287386.6675145312, 6089319.5612256415], [1287255.1101403118, 6089249.815156416], [1287216.7939715805, 6089231.805545055], [1287191.0457733604, 6089221.455020008], [1287164.1955121807, 6089212.915430989], [1287114.1685330183, 6088961.699183387], [1287006.622772963, 6088989.709568207], [1286910.1533022416, 6089025.096485352], [1286914.7396652624, 6089054.220194885], [1286233.3641940656, 6089185.435955717], [1286102.3411534019, 6088768.6194348], [1286008.7882533392, 6088465.236253296], [1285973.7560095864, 6088353.3350836225], [1285893.817483248, 6088099.237188658], [1285890.9788362328, 6088090.432939145], [1285812.6210466633, 6087847.871147721], [1285799.1513882773, 6087807.505763633], [1285788.9322590227, 6087776.924544777], [1285787.1066193737, 6087771.4594716355], [1285783.4887359228, 6087758.602444119], [1285764.6312141826, 6087701.06167049], [1285749.2134647076, 6087654.517715503], [1285729.220484161, 6087594.45280285], [1285701.268160023, 6087511.664913512], [1285696.403498275, 6087495.369880232], [1285686.8856818124, 6087463.494161361], [1285665.3676242419, 6087469.424132315], [1285661.5048379113, 6087455.820087447], [1285659.6680663135, 6087449.308757439], [1285657.107718025, 6087441.252654517], [1285640.96639186, 6087386.836786183], [1285570.946432151, 6087176.352313164], [1285528.967852173, 6087046.928212308], [1285497.653679413, 6086966.454390059], [1285491.8094061462, 6086969.012266591], [1285476.1133579444, 6086975.855420582], [1285459.3263787327, 6086984.143616898], [1285452.5804175907, 6086986.3360870145], [1285425.941663444, 6086990.471884456], [1285416.2902635923, 6086967.235040605], [1285385.543820235, 6086889.851327639], [1285323.227169289, 6086729.7877042685], [1285315.7131036604, 6086710.487925587], [1285254.754550502, 6086538.701896121], [1285251.7934520468, 6086522.67446827], [1285229.6742692261, 6086454.429520652], [1285212.686914931, 6086404.869649161], [1285060.9250531325, 6086438.053472155], [1285076.9884556541, 6086572.235026907], [1285054.769085292, 6086649.748718867], [1285087.2075849092, 6086753.040507897], [1285071.2443699292, 6086885.49965662], [1285053.0770290317, 6087036.314593354], [1284969.7098623768, 6087217.4289318705], [1285016.6755555423, 6087291.560024571], [1285003.7513626614, 6087329.680567177], [1284997.3170960934, 6087339.447426533], [1284970.9566406736, 6087367.568735649], [1284950.3291390296, 6087390.441245315], [1284933.2749930401, 6087418.662386036], [1284921.207960238, 6087434.774556678], [1284913.3042763919, 6087444.093052821], [1284909.1743232834, 6087444.425263211], [1284890.8288712006, 6087443.561516224], [1284887.255515546, 6087444.176105417], [1284883.8936669242, 6087445.52155759], [1284874.6318852904, 6087452.032884694], [1284861.5741090202, 6087449.7572417455], [1284846.267679036, 6087446.435136348], [1284840.634912802, 6087445.52155759], [1284831.4399228625, 6087443.976779188], [1284828.0892061896, 6087473.526943771], [1284825.2394272254, 6087505.817966272], [1284820.397029376, 6087614.900738435], [1284815.821798304, 6087707.357250002], [1284844.2973240488, 6087849.71500318], [1284832.6087775158, 6087993.835970622], [1284833.5883890346, 6088016.61049658], [1284887.1441960554, 6088024.949543236], [1285221.4700227547, 6089186.549088719], [1285628.3650255024, 6089942.250536063], [1285767.4364653502, 6090412.828446183], [1285943.6886151233, 6090345.416282351], [1285964.6389432908, 6090374.328507942], [1286026.0539063613, 6090487.934568172], [1286201.426632157, 6090678.078987217], [1286534.0381386983, 6091025.810185918]]]}}, {\\\"id\\\": \\\"26\\\", \\\"type\\\": \\\"Feature\\\", \\\"properties\\\": {\\\"cartodb_id\\\": 25, \\\"created_at\\\": \\\"2015-07-21\\\", \\\"district_number\\\": 18, \\\"ev\\\": 13.228136882129277, \\\"munich_r_1\\\": 91.3, \\\"munich_r_2\\\": 23, \\\"munich_ren\\\": 15.54, \\\"name\\\": \\\"Giesing\\\", \\\"other\\\": 54.07414448669201, \\\"rk\\\": 32.69771863117871, \\\"updated_at\\\": \\\"2015-07-21\\\"}, \\\"geometry\\\": {\\\"type\\\": \\\"Polygon\\\", \\\"coordinates\\\": [[[1288761.3853021846, 6094802.816265205], [1289323.8270294177, 6094996.249383301], [1290621.200034868, 6095327.764262576], [1290857.0860358586, 6095400.652720243], [1291085.2353322394, 6095490.051667059], [1290920.9166318795, 6095280.097810833], [1290862.908045227, 6094998.6434262935], [1290829.1448436696, 6094746.757228621], [1290763.5887955416, 6094200.350632382], [1290826.5177036868, 6093724.526094028], [1291304.8909514728, 6092233.37521308], [1291770.1730271415, 6091139.275400989], [1291819.9551034241, 6091050.935920096], [1291837.7996177985, 6091026.82385497], [1291885.05474164, 6090967.848458315], [1291926.6214395023, 6090923.679494536], [1291966.7632478825, 6090895.430089605], [1292001.1275746904, 6090870.869800968], [1292076.3461546192, 6090827.548815445], [1292150.273428455, 6090801.692590296], [1292223.5661811936, 6090786.820311364], [1292376.0738835803, 6090771.582483866], [1292979.0247735127, 6090739.179342884], [1293141.228403548, 6089773.921539583], [1293057.0040768136, 6089759.11752033], [1293057.3825630823, 6089681.957595247], [1293014.134940909, 6089683.685544553], [1292938.7159858968, 6089686.692841779], [1292928.7528914704, 6089687.639891402], [1292807.2476672698, 6089699.087569761], [1292796.9728782696, 6089620.7485408215], [1292641.2480425986, 6089641.417347008], [1292654.2946869198, 6089549.338534783], [1292653.5154504841, 6089543.091433914], [1292651.2556648212, 6089538.173506675], [1292647.1591075598, 6089532.275320667], [1292638.9325971904, 6089531.41136137], [1292266.6802199776, 6089495.042077608], [1292210.0853908584, 6089496.470927298], [1292133.1524907711, 6089518.020003507], [1292070.5686730472, 6089518.302451285], [1292036.2377420866, 6089511.04188495], [1291931.7643999772, 6089397.01691694], [1291690.9135496966, 6089249.649015917], [1291532.0272404873, 6089588.86484598], [1291375.3227932977, 6089537.6086098105], [1291322.6352783053, 6089509.147825187], [1291312.4606768466, 6089493.54677005], [1291307.2731885759, 6089480.471147404], [1291306.5941396821, 6089467.844135741], [1291307.8297860299, 6089459.968877446], [1291280.890469258, 6089455.43313073], [1291278.7753989326, 6089462.245058946], [1291266.2742201167, 6089473.775505987], [1291248.8304559093, 6089483.362071136], [1291232.8561089805, 6089484.84076239], [1291202.6662630774, 6089482.880250444], [1291073.5579176552, 6089442.2412657635], [1291081.528393196, 6089412.169206845], [1291079.012572704, 6089383.492856457], [1291070.852854029, 6089365.266976082], [1291046.0508714803, 6089350.380597788], [1290970.6875762132, 6089346.143965876], [1290929.5104965689, 6089345.9612092525], [1290844.5403292463, 6089331.839118448], [1290771.2030487116, 6089303.345794949], [1290698.9233033394, 6089271.928486066], [1290702.9975967028, 6089251.293807018], [1290657.4011332737, 6089229.645723376], [1290596.097489694, 6089206.186772536], [1290580.0340871722, 6089205.655125677], [1290566.664616328, 6089205.804651353], [1290550.1559358435, 6089207.881397126], [1290530.3855942786, 6089212.998500879], [1290501.2755474362, 6089226.007255793], [1290479.623906477, 6089245.1299955435], [1290461.823919899, 6089276.464134799], [1290449.8236787913, 6089316.55405839], [1290441.6194323201, 6089361.97735006], [1290438.636069967, 6089409.59398023], [1290434.316873724, 6089446.394873428], [1290429.6303231618, 6089472.712178804], [1290310.1956414897, 6089798.694653085], [1290035.1808394848, 6090479.044760231], [1289983.8402903308, 6090606.876108548], [1289951.4574504592, 6090600.943946994], [1289923.2936192886, 6090601.243047477], [1289901.775561718, 6090611.694954316], [1289848.420129781, 6090660.149431316], [1289821.525340805, 6090695.626392751], [1289868.6134854106, 6090728.793746936], [1289997.9222059164, 6090797.638022282], [1289983.573123553, 6090832.783215077], [1289850.4572764623, 6091158.95083562], [1289657.6853142558, 6091631.291272832], [1289619.0685828994, 6091608.523671703], [1289287.3031044882, 6091412.97409576], [1289313.4743167737, 6092239.557813475], [1289253.172548611, 6092409.481366878], [1289108.6798495615, 6092309.860279724], [1288962.8290527242, 6092151.0240698755], [1288844.9862397702, 6091998.5726887435], [1288740.6242171514, 6091857.209011009], [1288504.1482228595, 6091611.415319851], [1288324.9349746315, 6091473.680896984], [1288090.529522868, 6091372.558530026], [1288059.783079511, 6091313.364697415], [1287942.2408291823, 6091252.841839767], [1287671.623147064, 6091163.969408168], [1287437.8188205506, 6091073.186880347], [1287256.969175808, 6091004.921983333], [1287046.2413797365, 6090974.046754908], [1286893.811600993, 6090972.119134034], [1286740.1573078511, 6090986.426744213], [1286534.0381386983, 6091025.810185918], [1286201.426632157, 6090678.078987217], [1286026.0539063613, 6090487.934568172], [1285964.6389432908, 6090374.328507942], [1285943.6886151233, 6090345.416282351], [1285767.4364653502, 6090412.828446183], [1285716.4076107708, 6091309.2766489675], [1285716.285159331, 6091370.880091697], [1285718.8900354155, 6091502.613582093], [1285709.2163716657, 6091650.851516124], [1285742.968441274, 6091968.790726045], [1286261.939907352, 6092455.137267318], [1286458.5969197876, 6092678.035324309], [1286607.687113807, 6092867.480834488], [1286640.3148565586, 6092901.554216411], [1286808.1623847766, 6093032.3806520915], [1286906.8582453139, 6093356.804336679], [1286801.316236093, 6093768.84261114], [1286860.1931147734, 6094532.466161915], [1286997.9843804776, 6094773.223963706], [1287129.4193032573, 6094932.092607551], [1287736.7116533306, 6095469.40187321], [1287760.478364615, 6095439.491351059], [1287796.390032345, 6095393.137731713], [1287853.942209085, 6095330.058643354], [1288276.6891073217, 6095088.221020211], [1288300.0216725918, 6095071.64543649], [1288556.8134739536, 6094926.506552067], [1288761.3853021846, 6094802.816265205]], [[1288183.8931797964, 6093476.101888736], [1288232.161311004, 6093485.493504686], [1288261.0932466616, 6093521.347964115], [1288183.8931797964, 6093476.101888736]], [[1289326.3762457569, 6092445.863132983], [1289262.022448129, 6092581.186721096], [1289257.8590991735, 6092588.383430178], [1289326.3762457569, 6092445.863132983]]]}}, {\\\"id\\\": \\\"27\\\", \\\"type\\\": \\\"Feature\\\", \\\"properties\\\": {\\\"cartodb_id\\\": 20, \\\"created_at\\\": \\\"2015-07-21\\\", \\\"district_number\\\": 12, \\\"ev\\\": 12.027612947171244, \\\"munich_r_1\\\": 62.2, \\\"munich_r_2\\\": 7, \\\"munich_ren\\\": -99.0, \\\"name\\\": \\\"Freimann\\\", \\\"other\\\": 58.44434838422342, \\\"rk\\\": 29.528038668605337, \\\"updated_at\\\": \\\"2015-07-21\\\"}, \\\"geometry\\\": {\\\"type\\\": \\\"Polygon\\\", \\\"coordinates\\\": [[[1289867.3444432155, 6103862.92671379], [1289787.2055417937, 6104041.754144612], [1289739.0487300763, 6104041.121709644], [1289699.0739009327, 6104025.32749373], [1289678.3239478488, 6104246.182897773], [1289675.262661852, 6104311.824828676], [1289670.6206390858, 6104405.561854004], [1289667.971235205, 6104584.43401287], [1289666.5129498756, 6104608.2184521], [1289623.8330571053, 6105302.124284951], [1289593.609815355, 6105802.785741141], [1289565.0118381705, 6106301.795358991], [1289554.4364865448, 6106491.561892653], [1289547.1116640507, 6106724.4849328855], [1289547.7016573518, 6106773.048136652], [1289527.3079266385, 6107181.359639521], [1289847.3959904655, 6107189.933975606], [1290067.9087697782, 6107223.182502565], [1290105.234195041, 6107392.107678151], [1290101.9391381135, 6108032.209120353], [1290145.665434097, 6108027.946501668], [1290220.2606248776, 6108019.571128224], [1290232.7172758973, 6108123.456315463], [1290190.7720917666, 6108136.727202814], [1290244.8399684448, 6108456.799989095], [1290258.1426475944, 6108515.097763823], [1290258.2984948817, 6108528.6023897845], [1290258.5211338634, 6108552.680974758], [1289700.4987904148, 6108487.622327342], [1289682.2089980773, 6108484.192066977], [1289669.9861179884, 6108480.345514529], [1289853.0510205978, 6110128.245109804], [1289881.8827687132, 6110373.643063851], [1289378.8522537167, 6110455.688242744], [1289409.064363518, 6110564.749933056], [1289844.92469777, 6110588.567807118], [1289907.5864391376, 6110592.448627904], [1289935.2382006506, 6110592.715122099], [1289944.1326279647, 6110592.798401538], [1289952.7710204504, 6110592.881680977], [1289982.2150257654, 6110593.181486964], [1289980.3114624724, 6110575.826068965], [1289985.8885689615, 6110575.709477984], [1290079.8422191911, 6110573.794054977], [1290098.621817288, 6110573.427626276], [1290239.8305913592, 6110570.512853091], [1290410.3386554073, 6110568.73067798], [1290503.8136318263, 6110567.081749939], [1290648.172747487, 6110564.067043946], [1290727.3654332373, 6110562.484740126], [1290785.830429802, 6110561.735227892], [1290798.7100948868, 6110561.851818681], [1290815.1853795242, 6110562.018376953], [1291072.0328406317, 6110570.096457005], [1291076.1405298417, 6110570.32963881], [1291219.8317285576, 6110558.587277236], [1291342.8508978332, 6110539.466416884], [1291509.8301340234, 6110557.438025703], [1291472.6828199455, 6110792.837972787], [1291508.1937375087, 6110810.543617671], [1291533.4187341223, 6110844.356005555], [1291530.5355593108, 6110980.423081467], [1291527.6857803464, 6111114.443540828], [1291798.60402509, 6111200.227074709], [1291876.305029664, 6111229.043874069], [1291858.2490082572, 6111394.833987442], [1291967.6092760123, 6111377.526900496], [1292065.080622151, 6111396.483076492], [1292066.5500394295, 6111506.5729892505], [1292537.0529992164, 6111469.609671037], [1292547.3611840638, 6111510.370941849], [1292617.937741227, 6111511.636926425], [1292464.717594099, 6111826.073372017], [1292410.9391480966, 6111931.970916138], [1292368.3817067666, 6112012.232040881], [1292327.4495300017, 6112083.648089065], [1292300.3321020443, 6112130.892626094], [1292241.2882441278, 6112227.848036627], [1292235.7890612825, 6112238.9096865915], [1292210.9314189884, 6112288.837223038], [1292195.3689541754, 6112320.123296655], [1292158.4331471303, 6112394.407360009], [1292118.0464358705, 6112483.285873629], [1292101.983033349, 6112524.785045161], [1292074.6986261557, 6112548.4918088], [1292047.414218962, 6112572.215298521], [1292031.0168579682, 6112614.198041366], [1291982.303448797, 6112741.113803831], [1291971.0045204817, 6112770.1191037465], [1291942.5067308387, 6112803.056316533], [1291966.8189076278, 6112821.0660454305], [1291968.6445472767, 6112821.882398524], [1292079.1291418893, 6112871.18027505], [1292142.7148350303, 6112896.637350923], [1292133.5866367852, 6112937.622070878], [1292131.193267733, 6112949.101160085], [1292128.499336056, 6112960.413659431], [1292117.556630111, 6113009.512414035], [1292135.5235959252, 6113013.677574271], [1292226.7721825284, 6113034.836619887], [1292323.8873062963, 6113050.181126163], [1292345.4053638668, 6112965.011969812], [1292354.722805246, 6112928.192235644], [1292305.6977015007, 6112917.2962906845], [1292299.2968307799, 6112914.130804711], [1292287.8086593302, 6112911.348510123], [1292258.1420150339, 6112909.116010932], [1292252.4201932072, 6112909.082690054], [1292190.6044799695, 6112886.541145452], [1292186.596978301, 6112885.541521804], [1292215.7404209904, 6112740.580680349], [1292234.430963495, 6112641.586895201], [1292245.1955582546, 6112600.920143467], [1292428.7280027254, 6112602.486167983], [1292628.6800720885, 6112604.66860689], [1292657.67879944, 6112604.985143878], [1292695.5162943604, 6112599.753955185], [1292780.1525032106, 6112588.092081189], [1292820.5169505724, 6112700.22999421], [1292831.8715386332, 6112731.784147757], [1292835.4003664912, 6112741.663587454], [1292838.9291943496, 6112751.5263785375], [1292850.8515118135, 6112785.096606491], [1292902.28111656, 6112928.108933262], [1292916.4298238398, 6112967.544373698], [1292923.7769102321, 6112966.478098284], [1293155.2212635404, 6112931.307745417], [1293218.5509218527, 6112932.557281746], [1293289.428041641, 6112914.780562262], [1293557.9529173323, 6112918.745750443], [1293606.2767082856, 6112910.432185758], [1293693.8183558455, 6112897.420390463], [1293776.8738279263, 6112885.324936694], [1293785.7348593937, 6112884.691841793], [1293795.9873844958, 6112882.742576211], [1293800.3065807384, 6112882.209443823], [1293792.948362397, 6112903.4348029625], [1293790.588389192, 6112911.1319243545], [1293790.432541905, 6112934.756466128], [1293789.6644374188, 6112944.269611209], [1293784.4324213513, 6113007.946314315], [1293776.3506263199, 6113093.482439721], [1293827.4240086956, 6113098.280752031], [1293829.8953013914, 6113098.514003393], [1293836.9195612604, 6113100.063459031], [1293842.4855358, 6113099.696921113], [1293865.5954620885, 6113095.148520078], [1293990.7964933838, 6113070.557207298], [1294041.6138409309, 6113104.295307062], [1294049.1279065595, 6113110.509796378], [1294052.5120190796, 6113114.375111068], [1294081.866968802, 6113132.035623024], [1294402.0218243233, 6113009.795644866], [1294446.872447164, 6112991.1357515035], [1294469.8042622674, 6112983.705126835], [1294537.0746305536, 6112964.745401026], [1294629.1469813888, 6112938.821626644], [1294749.2273161074, 6112898.503317606], [1294776.511723301, 6112888.573713904], [1294890.9815556835, 6112855.919394496], [1294905.1859227088, 6112851.671010144], [1294915.2158088295, 6112848.605510606], [1294958.786257526, 6112834.677494045], [1294987.3397069143, 6112849.088659916], [1294992.1598408658, 6112847.605891431], [1295095.341876882, 6112815.818063123], [1295292.655674313, 6112741.3137251455], [1295386.3532897139, 6112717.773022838], [1295407.2590900846, 6112732.800413368], [1295490.8266318233, 6112704.511622731], [1295575.7411394003, 6112689.1011021845], [1295686.2034701144, 6112630.4414202785], [1295696.4337313182, 6112624.97697754], [1295677.5094178836, 6112594.356171511], [1295645.304689197, 6112542.244412091], [1295611.0071540836, 6112500.078769631], [1295583.2106772326, 6112446.135041365], [1295566.5127536135, 6112393.457772673], [1295558.2194515495, 6112346.478321545], [1295562.193557371, 6112276.059610636], [1295555.8038185993, 6112260.300026559], [1295554.913262673, 6112256.21853229], [1295553.3436578526, 6112225.199240059], [1295551.6849974399, 6112206.224551733], [1295570.074977319, 6112176.321595326], [1295574.850583474, 6112168.508528277], [1295594.7433764788, 6112107.536866486], [1295603.4151648115, 6112081.932231074], [1295612.5656269547, 6112052.462840767], [1295637.590248485, 6111971.984773333], [1295689.3538117039, 6111956.992048676], [1295723.5622912245, 6111943.115472707], [1295752.772525609, 6111930.37169846], [1295776.7507439258, 6111915.745534112], [1295787.0589287733, 6111909.465286779], [1295803.0555396003, 6111899.72008461], [1295833.8019829572, 6111881.09595163], [1295891.6992501188, 6111846.046710365], [1296065.6693503307, 6111765.453995244], [1296072.5488948617, 6111762.155673905], [1296079.1278767674, 6111759.007277462], [1296092.4973476117, 6111748.495972936], [1296060.6488412959, 6111703.81890959], [1296056.2739853077, 6111695.206691414], [1296079.1835365128, 6111676.26650543], [1296082.0221835282, 6111675.333656555], [1296087.354387137, 6111671.835474185], [1296091.6401875326, 6111667.037969282], [1296098.7535029945, 6111652.961972305], [1296124.3235900295, 6111622.377993159], [1296139.952846537, 6111610.284358646], [1296182.1095377004, 6111591.744150804], [1296263.0833353032, 6111548.367219175], [1296387.215699487, 6111485.5010463195], [1296523.1590616438, 6111410.458702636], [1296547.638217669, 6111396.916170639], [1296549.129898846, 6111396.316501825], [1296551.8238305228, 6111394.600782957], [1296652.1783514733, 6111344.411995275], [1296658.479034652, 6111341.280411337], [1296664.2231203772, 6111338.398688839], [1296711.0107023574, 6111315.011797989], [1296775.8209098973, 6111280.314699165], [1296785.0938234802, 6111275.350843542], [1296811.9886124558, 6111260.95901011], [1296903.337386601, 6111208.955389722], [1296909.2818474092, 6111207.422936819], [1296931.4010302299, 6111202.842236851], [1296930.143119984, 6111178.189784994], [1296929.1189806685, 6111175.458031226], [1296930.3991548128, 6111139.5288883075], [1296931.3231065862, 6111113.41081231], [1296934.6515593608, 6110896.890396929], [1296930.6440576925, 6110750.314594785], [1296903.4041782953, 6110606.289681307], [1296913.723495092, 6110562.2848701915], [1296921.2486926694, 6110532.437679405], [1296900.1981769605, 6110471.544406223], [1296856.494144875, 6110293.330829889], [1296779.0603070792, 6110104.428528913], [1296717.1110104527, 6109969.358136514], [1296715.430086142, 6109966.909901413], [1296676.8912784292, 6109928.0879821805], [1296660.8612717548, 6109910.817198365], [1296653.5253173118, 6109903.2393824365], [1296646.2450226138, 6109895.761500387], [1296606.0586864373, 6109854.42508655], [1296416.2032948893, 6109720.374581443], [1296331.6672735813, 6109649.5280218385], [1296330.4093633352, 6109648.878514511], [1296304.1045676605, 6109635.039024029], [1296276.230167166, 6109618.951269264], [1296261.7920292101, 6109607.726497788], [1296139.9862423842, 6109519.011356467], [1296096.2822102988, 6109481.607052831], [1296087.755137304, 6109474.296079543], [1296035.3904488347, 6109429.4977704305], [1296033.7763162185, 6109428.332018334], [1295968.042156905, 6109385.499066743], [1295934.534990176, 6109369.228597126], [1295871.7730612669, 6109319.834507048], [1295862.0660016697, 6109313.772676303], [1295848.1510653207, 6109299.200985509], [1295795.2075154993, 6109240.115117659], [1295767.2997191576, 6109180.23031209], [1295754.2530748365, 6109159.63043642], [1295736.9874218146, 6109138.9140395755], [1295732.2674754048, 6109130.620833804], [1295716.571427203, 6109082.477102692], [1295714.1446623036, 6109078.014121057], [1295694.96431404, 6109036.831569263], [1295654.9004293033, 6108888.95571689], [1295645.5161962297, 6108822.229248183], [1295634.1170803723, 6108726.644954549], [1295627.894320837, 6108665.631432266], [1295610.5507441715, 6108663.233529878], [1295593.229431404, 6108660.818976073], [1295591.0587013336, 6108639.737452752], [1295589.199665837, 6108526.087963347], [1295584.435191631, 6108421.1820943225], [1295580.0269397958, 6108353.693337966], [1295570.6761025693, 6108262.760040246], [1295561.6926196623, 6108216.852499693], [1295551.3733028658, 6108184.049657779], [1295547.755419415, 6108177.572360341], [1295544.2822513022, 6108172.177391444], [1295526.738299553, 6108116.79590304], [1295451.0521777626, 6107884.384087721], [1295424.5136111574, 6107800.865249091], [1295414.5282528335, 6107762.73590925], [1295393.5667927172, 6107708.2895071935], [1295365.6367324772, 6107626.6871598], [1295345.109418375, 6107566.697197933], [1295321.4874224283, 6107505.092627408], [1295286.4551786757, 6107417.731453758], [1295247.2595859675, 6107320.015209565], [1295226.6209523743, 6107261.542507342], [1295217.0474761662, 6107233.238667593], [1295208.4870073241, 6107203.619632911], [1295184.1636985857, 6107126.017919628], [1295171.3730890937, 6107092.30360123], [1295161.9220643255, 6107061.736068397], [1295156.2225063967, 6107045.203674161], [1295152.2038727792, 6107034.548371694], [1295115.7578714935, 6106944.361761856], [1295090.2323122546, 6106884.859436038], [1295061.9126337967, 6106816.184215234], [1294980.849780601, 6106603.252944617], [1294970.7976305825, 6106575.201021742], [1294938.314603169, 6106498.820351266], [1294872.3466729247, 6106341.299876513], [1294778.0145364266, 6106139.900343637], [1294721.675742136, 6106026.71717043], [1294701.293143372, 6105982.9358803835], [1294672.1830965295, 6105927.585333353], [1294669.600484343, 6105922.791077407], [1294634.3233377107, 6105855.854891144], [1294629.1358494398, 6105849.296138812], [1294618.5048380687, 6105820.447676718], [1294604.1557557054, 6105781.528210522], [1294597.899600323, 6105769.542782133], [1294575.145896405, 6105726.295502179], [1294571.5948046488, 6105719.537094212], [1294562.1549118294, 6105701.342687704], [1294582.2258160193, 6105690.073161799], [1294599.424677347, 6105680.551506089], [1294598.155635152, 6105677.904754041], [1294600.2373096298, 6105676.756163787], [1294632.408642469, 6105658.628433843], [1294658.1234448424, 6105643.846622124], [1294707.8832572266, 6105615.231904403], [1294716.0207120038, 6105610.570993846], [1294717.9465391946, 6105614.782459344], [1294730.2473429274, 6105607.907617535], [1294741.713250479, 6105601.515517803], [1294759.2015424827, 6105591.7442704905], [1294769.1312410613, 6105586.201131788], [1294783.3578719848, 6105577.894753549], [1294768.6191714036, 6105552.492933897], [1294759.8026677328, 6105537.295158123], [1294755.9621453003, 6105532.234787566], [1294773.6285484894, 6105520.216419589], [1294792.1855076044, 6105504.885534469], [1294797.9518572278, 6105499.026180699], [1294791.250423882, 6105491.235909797], [1294726.0839939716, 6105415.630703622], [1294705.801582749, 6105386.151181231], [1294668.4204977406, 6105344.969908163], [1294490.6432709438, 6104964.94310916], [1294464.7837532326, 6104907.734995447], [1294466.3088302566, 6104886.363195109], [1294467.9563587198, 6104870.534116019], [1294466.1863788166, 6104853.906124684], [1294444.601529552, 6104790.490360856], [1294428.7273701648, 6104709.382123443], [1294148.836774463, 6104811.146204568], [1293045.026099604, 6103112.208849542], [1291906.506007516, 6101135.713841394], [1291694.453509504, 6101278.346839367], [1291591.7835431455, 6101390.751250467], [1291536.435492323, 6101495.470376473], [1291379.3859547116, 6101760.917688167], [1291317.915331896, 6101818.087946607], [1291173.0330146283, 6101948.635912204], [1291299.870442438, 6101987.937133354], [1291339.0771670954, 6102117.422800225], [1291318.0600472337, 6102303.734544567], [1291671.3324512662, 6102769.972779982], [1291955.7092224467, 6103126.786555542], [1292019.3728392313, 6103257.055113447], [1291980.6447883844, 6103327.848293345], [1291883.3404214818, 6103368.770149376], [1291858.9614529982, 6103532.925524261], [1291742.3431544432, 6103308.926786146], [1291664.831393004, 6103357.037754852], [1291551.352304089, 6103172.683195315], [1291428.7338849802, 6103244.341027118], [1291338.1866111693, 6103306.097716576], [1291178.8216281496, 6103289.472791523], [1291031.2453792049, 6103320.409489966], [1290702.2517561144, 6103445.655178888], [1290395.6333506736, 6103571.851316802], [1290239.0290910255, 6103608.930006109], [1290124.581522541, 6103506.065333765], [1290128.0101628574, 6103272.2654459495], [1289952.448193927, 6103255.191267141], [1289917.6942489014, 6103718.619303808], [1289950.989908598, 6103805.859172185], [1289867.3444432155, 6103862.92671379]]]}}]}\",\"selected\":{\"id\":\"1127\",\"type\":\"Selection\"},\"selection_policy\":{\"id\":\"1126\",\"type\":\"UnionRenderers\"}},\"id\":\"1083\",\"type\":\"GeoJSONDataSource\"},{\"attributes\":{},\"id\":\"1126\",\"type\":\"UnionRenderers\"},{\"attributes\":{},\"id\":\"1091\",\"type\":\"LinearScale\"},{\"attributes\":{\"fill_alpha\":{\"value\":0.1},\"fill_color\":{\"value\":\"#1f77b4\"},\"line_alpha\":{\"value\":0.1},\"line_color\":{\"value\":\"#1f77b4\"},\"line_width\":{\"value\":0.1},\"xs\":{\"field\":\"xs\"},\"ys\":{\"field\":\"ys\"}},\"id\":\"1109\",\"type\":\"Patches\"},{\"attributes\":{\"data_source\":{\"id\":\"1083\",\"type\":\"GeoJSONDataSource\"},\"glyph\":{\"id\":\"1108\",\"type\":\"Patches\"},\"hover_glyph\":{\"id\":\"1110\",\"type\":\"Patches\"},\"muted_glyph\":null,\"nonselection_glyph\":{\"id\":\"1109\",\"type\":\"Patches\"},\"selection_glyph\":null,\"view\":{\"id\":\"1112\",\"type\":\"CDSView\"}},\"id\":\"1111\",\"type\":\"GlyphRenderer\"},{\"attributes\":{},\"id\":\"1127\",\"type\":\"Selection\"},{\"attributes\":{\"source\":{\"id\":\"1083\",\"type\":\"GeoJSONDataSource\"}},\"id\":\"1112\",\"type\":\"CDSView\"},{\"attributes\":{\"text\":\"Religionen in M\\u00fcnchen\"},\"id\":\"1085\",\"type\":\"Title\"},{\"attributes\":{\"fill_alpha\":{\"value\":0.05},\"fill_color\":{\"value\":\"blue\"},\"line_alpha\":{\"value\":0.5},\"line_color\":{\"value\":\"blue\"},\"line_width\":{\"value\":0.1},\"xs\":{\"field\":\"xs\"},\"ys\":{\"field\":\"ys\"}},\"id\":\"1108\",\"type\":\"Patches\"},{\"attributes\":{\"active_drag\":\"auto\",\"active_inspect\":\"auto\",\"active_multi\":null,\"active_scroll\":\"auto\",\"active_tap\":\"auto\",\"tools\":[{\"id\":\"1002\",\"type\":\"HoverTool\"}]},\"id\":\"1105\",\"type\":\"Toolbar\"},{\"attributes\":{\"dimension\":1,\"grid_line_color\":null,\"ticker\":{\"id\":\"1101\",\"type\":\"BasicTicker\"}},\"id\":\"1104\",\"type\":\"Grid\"},{\"attributes\":{\"fill_alpha\":{\"value\":0.2},\"fill_color\":{\"value\":\"blue\"},\"line_alpha\":{\"value\":0.2},\"line_color\":{\"value\":\"white\"},\"line_width\":{\"value\":0.1},\"xs\":{\"field\":\"xs\"},\"ys\":{\"field\":\"ys\"}},\"id\":\"1110\",\"type\":\"Patches\"},{\"attributes\":{},\"id\":\"1125\",\"type\":\"BasicTickFormatter\"},{\"attributes\":{\"formatter\":{\"id\":\"1123\",\"type\":\"BasicTickFormatter\"},\"ticker\":{\"id\":\"1101\",\"type\":\"BasicTicker\"},\"visible\":false},\"id\":\"1100\",\"type\":\"LinearAxis\"},{\"attributes\":{\"callback\":null,\"tooltips\":\"\\n    <HTML>\\n        <HEAD>\\n            <style>\\n                .bk-tooltip {\\n                    opacity: .8 !important;\\n                    }\\n            </style>\\n        </HEAD>\\n        <BODY>\\n            <div>\\n                <div>\\n                    <img\\n                        src=\\\"./data/munich_kindl.png\\\" height=\\\"42\\\" alt=\\\"@imgs\\\" width=\\\"42\\\"\\n                        style=\\\"float: left; margin: 0px 10px 0px 20px;\\\"\\n                        border=\\\"0\\\"\\n                    ></img>\\n                </div>\\n                <div>\\n                    <span style=\\\"font-size: 10px; font-weight: bold;\\\">@name</span>\\n                </div>\\n                <div>\\n                    <img\\n                        src=\\\"./data/plots/munich_religions_in_@district_number.png\\\" height=\\\"42\\\" alt=\\\"@imgs\\\" width=\\\"42\\\"\\n                        style=\\\"float: left; margin: 0px 0px 0px 0px; width: 200px; height: 150px;\\\"\\n                        border=\\\"0\\\"\\n                    ></img>\\n                </div>\\n            </div>\\n        </BODY>\\n    </HTML>\\n\"},\"id\":\"1002\",\"type\":\"HoverTool\"}],\"root_ids\":[\"1084\"]},\"title\":\"Bokeh Application\",\"version\":\"1.3.0\"}};\n",
       "  var render_items = [{\"docid\":\"1179247d-8241-45af-96df-ec523826f1d5\",\"notebook_comms_target\":\"1128\",\"roots\":{\"1084\":\"ddaae74b-b66b-4d75-8eaf-93e41470a4e3\"}}];\n",
       "  root.Bokeh.embed.embed_items_notebook(docs_json, render_items);\n",
       "\n",
       "  }\n",
       "  if (root.Bokeh !== undefined) {\n",
       "    embed_document(root);\n",
       "  } else {\n",
       "    var attempts = 0;\n",
       "    var timer = setInterval(function(root) {\n",
       "      if (root.Bokeh !== undefined) {\n",
       "        embed_document(root);\n",
       "        clearInterval(timer);\n",
       "      }\n",
       "      attempts++;\n",
       "      if (attempts > 100) {\n",
       "        console.log(\"Bokeh: ERROR: Unable to run BokehJS code because BokehJS library is missing\");\n",
       "        clearInterval(timer);\n",
       "      }\n",
       "    }, 10, root)\n",
       "  }\n",
       "})(window);"
      ],
      "application/vnd.bokehjs_exec.v0+json": ""
     },
     "metadata": {
      "application/vnd.bokehjs_exec.v0+json": {
       "id": "1084"
      }
     },
     "output_type": "display_data"
    }
   ],
   "source": [
    "from bokeh.io import push_notebook, output_notebook, show, save, output_file\n",
    "from bokeh.plotting import figure\n",
    "from bokeh.models import GeoJSONDataSource, LinearColorMapper, ColorBar\n",
    "\n",
    "# gut um mehrere Thematiken auf kleinen, Raum unterzukriegen\n",
    "from bokeh.models.widgets import Tabs, Panel\n",
    "\n",
    "# Anordnung der Diagramma\n",
    "from bokeh.layouts import column, row, gridplot\n",
    "\n",
    "#Input GeoJSON source that contains features for plotting.\n",
    "geosource = GeoJSONDataSource(geojson = json_data)\n",
    "#print(type(geosource))\n",
    "\n",
    "#Create figure object.\n",
    "f = figure(title = 'Religionen in München', \n",
    "           plot_height = 600 , plot_width = 750, \n",
    "           #plot_height = 300 , plot_width = 375, \n",
    "           tools=[hover],\n",
    "           toolbar_location = None)\n",
    "\n",
    "f.xgrid.grid_line_color = None\n",
    "f.ygrid.grid_line_color = None\n",
    "f.xaxis.visible = False\n",
    "f.yaxis.visible = False\n",
    "\n",
    "#Add patch renderer to figure. \n",
    "\n",
    "#p.image_url(url=['./data/munich_image.png'], x=1240000, y=6125000, w=50000*1.875469, h=50000)\n",
    "p = f.patches('xs','ys', \n",
    "          source = geosource,\n",
    "          fill_color = 'blue', #{'field' :'per_cent_obesity', 'transform' : color_mapper},\n",
    "          line_color = 'blue', line_width = 0.1, fill_alpha = .05, line_alpha=.5,\n",
    "          hover_fill_color=\"blue\", hover_alpha=0.2, hover_line_color=\"white\"\n",
    "         )\n",
    "\n",
    "#Specify figure layout.\n",
    "#f.add_layout(color_bar, 'below')\n",
    "\n",
    "# Add the HoverTool to the figure\n",
    "#f.add_tools(HoverTool(tooltips=tooltips))\n",
    "\n",
    "#Display figure inline in Jupyter Notebook.\n",
    "output_notebook()\n",
    "#output_file('./output.html')\n",
    "\n",
    "#Display and export figure\n",
    "target0 = show(f, notebook_handle=True)\n",
    "\n",
    "#save(f, filename='./output.html')"
   ]
  },
  {
   "cell_type": "code",
   "execution_count": 62,
   "metadata": {
    "scrolled": true
   },
   "outputs": [],
   "source": [
    "def turnOnAxis():\n",
    "    f.xaxis.visible = True\n",
    "    f.yaxis.visible = True\n",
    "    push_notebook(handle=target)"
   ]
  },
  {
   "cell_type": "code",
   "execution_count": 63,
   "metadata": {
    "scrolled": true
   },
   "outputs": [],
   "source": [
    "def turnOffAxis():\n",
    "    f.xaxis.visible = False\n",
    "    f.yaxis.visible = False\n",
    "    push_notebook(handle=target)"
   ]
  },
  {
   "cell_type": "markdown",
   "metadata": {},
   "source": [
    "#### Vergleich aller Stadtteile für ein Jahr"
   ]
  },
  {
   "cell_type": "code",
   "execution_count": 154,
   "metadata": {},
   "outputs": [
    {
     "data": {
      "text/html": [
       "\n",
       "\n",
       "\n",
       "\n",
       "\n",
       "\n",
       "  <div class=\"bk-root\" id=\"988af974-e0d1-4a33-a84a-79d046eac045\" data-root-id=\"40333\"></div>\n"
      ]
     },
     "metadata": {},
     "output_type": "display_data"
    },
    {
     "data": {
      "application/javascript": [
       "(function(root) {\n",
       "  function embed_document(root) {\n",
       "    \n",
       "  var docs_json = {\"c2a56a25-e695-4b20-b486-8a953524733d\":{\"roots\":{\"references\":[{\"attributes\":{\"below\":[{\"id\":\"40344\",\"type\":\"LinearAxis\"}],\"center\":[{\"id\":\"40348\",\"type\":\"Grid\"},{\"id\":\"40353\",\"type\":\"Grid\"},{\"id\":\"40379\",\"type\":\"Legend\"}],\"left\":[{\"id\":\"40349\",\"type\":\"LinearAxis\"}],\"plot_height\":700,\"plot_width\":1000,\"renderers\":[{\"id\":\"40371\",\"type\":\"GlyphRenderer\"},{\"id\":\"40385\",\"type\":\"GlyphRenderer\"},{\"id\":\"40400\",\"type\":\"GlyphRenderer\"}],\"title\":{\"id\":\"40334\",\"type\":\"Title\"},\"toolbar\":{\"id\":\"40360\",\"type\":\"Toolbar\"},\"toolbar_location\":null,\"x_range\":{\"id\":\"40336\",\"type\":\"Range1d\"},\"x_scale\":{\"id\":\"40340\",\"type\":\"LinearScale\"},\"y_range\":{\"id\":\"40338\",\"type\":\"Range1d\"},\"y_scale\":{\"id\":\"40342\",\"type\":\"LinearScale\"}},\"id\":\"40333\",\"subtype\":\"Figure\",\"type\":\"Plot\"},{\"attributes\":{\"callback\":null,\"end\":26},\"id\":\"40338\",\"type\":\"Range1d\"},{\"attributes\":{\"source\":{\"id\":\"40332\",\"type\":\"ColumnDataSource\"}},\"id\":\"40401\",\"type\":\"CDSView\"},{\"attributes\":{\"label\":{\"value\":\"evangelisch\"},\"renderers\":[{\"id\":\"40400\",\"type\":\"GlyphRenderer\"}]},\"id\":\"40410\",\"type\":\"LegendItem\"},{\"attributes\":{\"items\":[{\"id\":\"40380\",\"type\":\"LegendItem\"},{\"id\":\"40395\",\"type\":\"LegendItem\"},{\"id\":\"40410\",\"type\":\"LegendItem\"}]},\"id\":\"40379\",\"type\":\"Legend\"},{\"attributes\":{\"range\":{\"id\":\"40336\",\"type\":\"Range1d\"},\"value\":-0.25},\"id\":\"40396\",\"type\":\"Dodge\"},{\"attributes\":{\"callback\":null,\"data\":{\"district\":[1,2,3,4,5,6,7,8,9,10,11,12,13,14,15,16,17,18,19,20,21,22,23,24,25],\"ev\":{\"__ndarray__\":\"saZ2ir06MEB7TnfcHTUrQHknEXaW5jBA0QP2WbK2MUDF5l0TWGssQLmW8RVVDyxAUOWsljAILUBXxaEcW/gkQFCSMLxuSC9A1yDmvIdVLEBqbklFVM8pQHUGSn2oizBA/cb3VOd+MkCoh06Bqb4oQIIIUTyEwS9AEsNn6ojIKkDNK9pad0cqQEZ/brdC5DBA9N84VZOzMUCaQ5efcyswQNAUlThsnzFAKEElZhTGLEA7JVzWQa0vQD55PY4WLixA2V9Gsxq3LUA=\",\"dtype\":\"float64\",\"shape\":[25]},\"other\":{\"__ndarray__\":\"EIYH5gtnRUAumR61rfpHQPF/O3EM9kVA5oF/bdXkRUA642lE1HFGQGXAdgmNpUZAuNVNIuvZREAbbgY1qiBJQHnapF+CxURA0RoL7idCREDBMzGJrcdHQFLAkCWkVUVA4lHaiWbuQ0DGclSVgdVEQDH9B6bKZUFAa49EbEp2RUCfbTN1+nNGQJQCty5KskNAyitnZJ9jQ0DbJD44YWhCQAOUo/RBgkJA7LY0+uD4QEDxn2WQF8RAQHNcUNdRfENA1EtEYje6Q0A=\",\"dtype\":\"float64\",\"shape\":[25]},\"rk\":{\"__ndarray__\":\"mCa9VJV7REAyk8PTCjhDQFHsu1OolkNAMnyFZdE/Q0AVo762VXNEQOzZDLGdVkRA9PAGuAjkRUCQINEDP6FDQPMAT/FhaEVA+Vy7InaoRkClcHxlfcRDQHM8ypuHZERAoMqpyyXSREBR61cK1PpGQK/A40rUqUhA0X8hWZPXRUBtBxa0J/pEQMi9kXWU20VAPWT88JbCRUBXOfb35IFHQJXhEe8HrkZAyvhB7JnVSUDBVgP6l1BJQD1FIIUoeEdANRzq8AHYRkA=\",\"dtype\":\"float64\",\"shape\":[25]}},\"selected\":{\"id\":\"40393\",\"type\":\"Selection\"},\"selection_policy\":{\"id\":\"40392\",\"type\":\"UnionRenderers\"}},\"id\":\"40332\",\"type\":\"ColumnDataSource\"},{\"attributes\":{\"callback\":null,\"end\":70},\"id\":\"40336\",\"type\":\"Range1d\"},{\"attributes\":{\"ticker\":{\"id\":\"40345\",\"type\":\"BasicTicker\"}},\"id\":\"40348\",\"type\":\"Grid\"},{\"attributes\":{\"data_source\":{\"id\":\"40332\",\"type\":\"ColumnDataSource\"},\"glyph\":{\"id\":\"40369\",\"type\":\"HBar\"},\"hover_glyph\":null,\"muted_glyph\":null,\"nonselection_glyph\":{\"id\":\"40370\",\"type\":\"HBar\"},\"selection_glyph\":null,\"view\":{\"id\":\"40372\",\"type\":\"CDSView\"}},\"id\":\"40371\",\"type\":\"GlyphRenderer\"},{\"attributes\":{\"label\":{\"value\":\"andere Religionen\"},\"renderers\":[{\"id\":\"40371\",\"type\":\"GlyphRenderer\"}]},\"id\":\"40380\",\"type\":\"LegendItem\"},{\"attributes\":{\"ticks\":[1,2,3,4,5,6,7,8,9,10,11,12,13,14,15,16,17,18,19,20,21,22,23,24,25]},\"id\":\"40411\",\"type\":\"FixedTicker\"},{\"attributes\":{\"fill_alpha\":{\"value\":0.1},\"fill_color\":{\"value\":\"#1f77b4\"},\"height\":{\"value\":0.25},\"line_alpha\":{\"value\":0.1},\"line_color\":{\"value\":\"#1f77b4\"},\"right\":{\"field\":\"other\"},\"y\":{\"field\":\"district\",\"transform\":{\"id\":\"40367\",\"type\":\"Dodge\"}}},\"id\":\"40370\",\"type\":\"HBar\"},{\"attributes\":{},\"id\":\"40377\",\"type\":\"BasicTickFormatter\"},{\"attributes\":{},\"id\":\"40358\",\"type\":\"ResetTool\"},{\"attributes\":{\"active_drag\":\"auto\",\"active_inspect\":\"auto\",\"active_multi\":null,\"active_scroll\":\"auto\",\"active_tap\":\"auto\",\"tools\":[{\"id\":\"40354\",\"type\":\"PanTool\"},{\"id\":\"40355\",\"type\":\"WheelZoomTool\"},{\"id\":\"40356\",\"type\":\"BoxZoomTool\"},{\"id\":\"40357\",\"type\":\"SaveTool\"},{\"id\":\"40358\",\"type\":\"ResetTool\"},{\"id\":\"40359\",\"type\":\"HelpTool\"}]},\"id\":\"40360\",\"type\":\"Toolbar\"},{\"attributes\":{\"fill_color\":{\"value\":\"blue\"},\"height\":{\"value\":0.25},\"line_color\":{\"value\":\"white\"},\"right\":{\"field\":\"rk\"},\"y\":{\"field\":\"district\",\"transform\":{\"id\":\"40381\",\"type\":\"Dodge\"}}},\"id\":\"40383\",\"type\":\"HBar\"},{\"attributes\":{},\"id\":\"40345\",\"type\":\"BasicTicker\"},{\"attributes\":{\"text\":\"Anteile der Religionen in der Bezirken im Jahr 2000\"},\"id\":\"40334\",\"type\":\"Title\"},{\"attributes\":{\"source\":{\"id\":\"40332\",\"type\":\"ColumnDataSource\"}},\"id\":\"40372\",\"type\":\"CDSView\"},{\"attributes\":{\"fill_alpha\":{\"value\":0.1},\"fill_color\":{\"value\":\"#1f77b4\"},\"height\":{\"value\":0.25},\"line_alpha\":{\"value\":0.1},\"line_color\":{\"value\":\"#1f77b4\"},\"right\":{\"field\":\"rk\"},\"y\":{\"field\":\"district\",\"transform\":{\"id\":\"40381\",\"type\":\"Dodge\"}}},\"id\":\"40384\",\"type\":\"HBar\"},{\"attributes\":{\"range\":{\"id\":\"40336\",\"type\":\"Range1d\"}},\"id\":\"40381\",\"type\":\"Dodge\"},{\"attributes\":{\"data_source\":{\"id\":\"40332\",\"type\":\"ColumnDataSource\"},\"glyph\":{\"id\":\"40383\",\"type\":\"HBar\"},\"hover_glyph\":null,\"muted_glyph\":null,\"nonselection_glyph\":{\"id\":\"40384\",\"type\":\"HBar\"},\"selection_glyph\":null,\"view\":{\"id\":\"40386\",\"type\":\"CDSView\"}},\"id\":\"40385\",\"type\":\"GlyphRenderer\"},{\"attributes\":{\"fill_color\":{\"value\":\"green\"},\"height\":{\"value\":0.25},\"line_color\":{\"value\":\"white\"},\"right\":{\"field\":\"other\"},\"y\":{\"field\":\"district\",\"transform\":{\"id\":\"40367\",\"type\":\"Dodge\"}}},\"id\":\"40369\",\"type\":\"HBar\"},{\"attributes\":{\"formatter\":{\"id\":\"40375\",\"type\":\"BasicTickFormatter\"},\"major_label_overrides\":{\"0\":\"StadtM\\u00fcnchen\",\"1\":\"Altstadt-Lehel\",\"10\":\"Moosach\",\"11\":\"Milbertshofen-AmHart\",\"12\":\"Schwabing-Freimann\",\"13\":\"Bogenhausen\",\"14\":\"BergamLaim\",\"15\":\"Trudering-Riem\",\"16\":\"Ramersdorf-Perlach\",\"17\":\"Obergiesing-Fasangarten\",\"18\":\"Untergiesing-Harlaching\",\"19\":\"Thalkirchen-Obersendling-Forstenried-F\\u00fcrstenried-Solln\",\"2\":\"Ludwigsvorstadt-Isarvorstadt\",\"20\":\"Hadern\",\"21\":\"Pasing-Obermenzing\",\"22\":\"Aubing-Lochhausen-Langwied\",\"23\":\"Allach-Untermenzing\",\"24\":\"Feldmoching-Hasenbergl\",\"25\":\"Laim\",\"3\":\"Maxvorstadt\",\"4\":\"Schwabing-West\",\"5\":\"Au-Haidhausen\",\"6\":\"Sendling\",\"7\":\"Sendling-Westpark\",\"8\":\"Schwanthalerh\\u00f6he\",\"9\":\"Neuhausen-Nymphenburg\"},\"ticker\":{\"id\":\"40411\",\"type\":\"FixedTicker\"}},\"id\":\"40349\",\"type\":\"LinearAxis\"},{\"attributes\":{\"source\":{\"id\":\"40332\",\"type\":\"ColumnDataSource\"}},\"id\":\"40386\",\"type\":\"CDSView\"},{\"attributes\":{},\"id\":\"40350\",\"type\":\"BasicTicker\"},{\"attributes\":{},\"id\":\"40340\",\"type\":\"LinearScale\"},{\"attributes\":{},\"id\":\"40354\",\"type\":\"PanTool\"},{\"attributes\":{},\"id\":\"40392\",\"type\":\"UnionRenderers\"},{\"attributes\":{\"dimension\":1,\"ticker\":{\"id\":\"40350\",\"type\":\"BasicTicker\"}},\"id\":\"40353\",\"type\":\"Grid\"},{\"attributes\":{},\"id\":\"40393\",\"type\":\"Selection\"},{\"attributes\":{},\"id\":\"40342\",\"type\":\"LinearScale\"},{\"attributes\":{\"overlay\":{\"id\":\"40378\",\"type\":\"BoxAnnotation\"}},\"id\":\"40356\",\"type\":\"BoxZoomTool\"},{\"attributes\":{\"label\":{\"value\":\"r\\u00f6misch-katholisch\"},\"renderers\":[{\"id\":\"40385\",\"type\":\"GlyphRenderer\"}]},\"id\":\"40395\",\"type\":\"LegendItem\"},{\"attributes\":{\"range\":{\"id\":\"40336\",\"type\":\"Range1d\"},\"value\":0.25},\"id\":\"40367\",\"type\":\"Dodge\"},{\"attributes\":{\"axis_label\":\"Prozent\",\"formatter\":{\"id\":\"40377\",\"type\":\"BasicTickFormatter\"},\"ticker\":{\"id\":\"40345\",\"type\":\"BasicTicker\"}},\"id\":\"40344\",\"type\":\"LinearAxis\"},{\"attributes\":{\"fill_color\":{\"value\":\"red\"},\"height\":{\"value\":0.25},\"line_color\":{\"value\":\"white\"},\"right\":{\"field\":\"ev\"},\"y\":{\"field\":\"district\",\"transform\":{\"id\":\"40396\",\"type\":\"Dodge\"}}},\"id\":\"40398\",\"type\":\"HBar\"},{\"attributes\":{\"bottom_units\":\"screen\",\"fill_alpha\":{\"value\":0.5},\"fill_color\":{\"value\":\"lightgrey\"},\"left_units\":\"screen\",\"level\":\"overlay\",\"line_alpha\":{\"value\":1.0},\"line_color\":{\"value\":\"black\"},\"line_dash\":[4,4],\"line_width\":{\"value\":2},\"render_mode\":\"css\",\"right_units\":\"screen\",\"top_units\":\"screen\"},\"id\":\"40378\",\"type\":\"BoxAnnotation\"},{\"attributes\":{\"fill_alpha\":{\"value\":0.1},\"fill_color\":{\"value\":\"#1f77b4\"},\"height\":{\"value\":0.25},\"line_alpha\":{\"value\":0.1},\"line_color\":{\"value\":\"#1f77b4\"},\"right\":{\"field\":\"ev\"},\"y\":{\"field\":\"district\",\"transform\":{\"id\":\"40396\",\"type\":\"Dodge\"}}},\"id\":\"40399\",\"type\":\"HBar\"},{\"attributes\":{},\"id\":\"40357\",\"type\":\"SaveTool\"},{\"attributes\":{},\"id\":\"40355\",\"type\":\"WheelZoomTool\"},{\"attributes\":{},\"id\":\"40359\",\"type\":\"HelpTool\"},{\"attributes\":{\"data_source\":{\"id\":\"40332\",\"type\":\"ColumnDataSource\"},\"glyph\":{\"id\":\"40398\",\"type\":\"HBar\"},\"hover_glyph\":null,\"muted_glyph\":null,\"nonselection_glyph\":{\"id\":\"40399\",\"type\":\"HBar\"},\"selection_glyph\":null,\"view\":{\"id\":\"40401\",\"type\":\"CDSView\"}},\"id\":\"40400\",\"type\":\"GlyphRenderer\"},{\"attributes\":{},\"id\":\"40375\",\"type\":\"BasicTickFormatter\"}],\"root_ids\":[\"40333\"]},\"title\":\"Bokeh Application\",\"version\":\"1.3.0\"}};\n",
       "  var render_items = [{\"docid\":\"c2a56a25-e695-4b20-b486-8a953524733d\",\"notebook_comms_target\":\"40987\",\"roots\":{\"40333\":\"988af974-e0d1-4a33-a84a-79d046eac045\"}}];\n",
       "  root.Bokeh.embed.embed_items_notebook(docs_json, render_items);\n",
       "\n",
       "  }\n",
       "  if (root.Bokeh !== undefined) {\n",
       "    embed_document(root);\n",
       "  } else {\n",
       "    var attempts = 0;\n",
       "    var timer = setInterval(function(root) {\n",
       "      if (root.Bokeh !== undefined) {\n",
       "        embed_document(root);\n",
       "        clearInterval(timer);\n",
       "      }\n",
       "      attempts++;\n",
       "      if (attempts > 100) {\n",
       "        console.log(\"Bokeh: ERROR: Unable to run BokehJS code because BokehJS library is missing\");\n",
       "        clearInterval(timer);\n",
       "      }\n",
       "    }, 10, root)\n",
       "  }\n",
       "})(window);"
      ],
      "application/vnd.bokehjs_exec.v0+json": ""
     },
     "metadata": {
      "application/vnd.bokehjs_exec.v0+json": {
       "id": "40333"
      }
     },
     "output_type": "display_data"
    }
   ],
   "source": [
    "#from bokeh.transform import factor_cmap\n",
    "from bokeh.transform import dodge\n",
    "from bokeh.models import ColumnDataSource\n",
    "#from bokeh.models.widgets import Slider\n",
    "from bokeh.layouts import row, column\n",
    "import time\n",
    "\n",
    "source = ColumnDataSource(religion_final.loc[2000].drop(0, axis=0))\n",
    "plot = figure(plot_width=1000,\n",
    "           plot_height=700,\n",
    "           x_range = (0,70),\n",
    "           y_range = (0,26),\n",
    "           title=\"Anteile der Religionen in der Bezirken im Jahr \" + str(2000),\n",
    "           toolbar_location=None)\n",
    "\n",
    "bar1 = plot.hbar(y=dodge('district', +0.25, range=plot.x_range), fill_color='green', height=.25, right='other', legend=\"andere Religionen\", source=source, line_color=\"white\")\n",
    "bar2 = plot.hbar(y=dodge('district', +0.0, range=plot.x_range), fill_color='blue', height=.25, right='rk', legend=\"römisch-katholisch\", source=source, line_color=\"white\")\n",
    "bar3 = plot.hbar(y=dodge('district', -0.25, range=plot.x_range), fill_color='red', height=.25, right='ev', legend=\"evangelisch\", source=source, line_color=\"white\")\n",
    "\n",
    "plot.yaxis.ticker = list(range(1,26))\n",
    "plot.yaxis.major_label_overrides = dict(zip(range(0,26), df_districts['name'].values))\n",
    "plot.xaxis.axis_label = 'Prozent'\n",
    "#p.xaxis.major_label_orientation = 1\n",
    "#p.xgrid.grid_line_color = NoM\n",
    "target = show(plot, notebook_handle=True)\n",
    "\n",
    "year = 2000\n",
    "should_run = True\n",
    "while should_run:\n",
    "    year +=1 \n",
    "    if year == 2002: time.sleep(5)\n",
    "    if year == 2017: should_run = False\n",
    "        \n",
    "    plot.title.text = \"Anteile der Religionen in der Bezirken im Jahr \" + str(year)\n",
    "    \n",
    "    source = ColumnDataSource(religion_final.loc[year].drop(0, axis=0))\n",
    "\n",
    "    # since all bars have same source, setting one is enough\n",
    "    bar1.data_source.data = source.data\n",
    "    \n",
    "    # push updates to the plot continuously using the handle (intererrupt the notebook kernel to stop)\n",
    "    push_notebook(handle=target)\n",
    "    time.sleep(.5)\n",
    "    "
   ]
  },
  {
   "cell_type": "code",
   "execution_count": 213,
   "metadata": {},
   "outputs": [
    {
     "name": "stdout",
     "output_type": "stream",
     "text": [
      "StadtMünchen\n"
     ]
    },
    {
     "data": {
      "application/vnd.jupyter.widget-view+json": {
       "model_id": "f3affb588bda4bf496951740844ee76c",
       "version_major": 2,
       "version_minor": 0
      },
      "text/plain": [
       "IntSlider(value=2000, description='Jahr: ', max=2017, min=2000)"
      ]
     },
     "metadata": {},
     "output_type": "display_data"
    },
    {
     "data": {
      "application/vnd.jupyter.widget-view+json": {
       "model_id": "65b590ff31944f6a95b1a6616e3f243d",
       "version_major": 2,
       "version_minor": 0
      },
      "text/plain": [
       "Select(description='Bezirke :', index=1, options=('StadtMünchen', 'Altstadt-Lehel', 'Ludwigsvorstadt-Isarvorst…"
      ]
     },
     "metadata": {},
     "output_type": "display_data"
    },
    {
     "data": {
      "application/vnd.jupyter.widget-view+json": {
       "model_id": "f717f1771df3462888b61498a6490ce6",
       "version_major": 2,
       "version_minor": 0
      },
      "text/plain": [
       "Select(description='Bezirke :', index=1, options=('StadtMünchen', 'Altstadt-Lehel', 'Ludwigsvorstadt-Isarvorst…"
      ]
     },
     "metadata": {},
     "output_type": "display_data"
    },
    {
     "data": {
      "text/html": [
       "\n",
       "\n",
       "\n",
       "\n",
       "\n",
       "\n",
       "  <div class=\"bk-root\" id=\"4e674a09-78e0-47de-b159-1ad967525607\" data-root-id=\"66847\"></div>\n"
      ]
     },
     "metadata": {},
     "output_type": "display_data"
    },
    {
     "data": {
      "application/javascript": [
       "(function(root) {\n",
       "  function embed_document(root) {\n",
       "    \n",
       "  var docs_json = {\"1610ff5e-826e-486e-b142-c182404731d5\":{\"roots\":{\"references\":[{\"attributes\":{\"below\":[{\"id\":\"66858\",\"type\":\"LinearAxis\"}],\"center\":[{\"id\":\"66862\",\"type\":\"Grid\"},{\"id\":\"66867\",\"type\":\"Grid\"},{\"id\":\"66893\",\"type\":\"Legend\"}],\"left\":[{\"id\":\"66863\",\"type\":\"LinearAxis\"}],\"plot_height\":400,\"plot_width\":800,\"renderers\":[{\"id\":\"66885\",\"type\":\"GlyphRenderer\"},{\"id\":\"66899\",\"type\":\"GlyphRenderer\"},{\"id\":\"66914\",\"type\":\"GlyphRenderer\"}],\"title\":{\"id\":\"66848\",\"type\":\"Title\"},\"toolbar\":{\"id\":\"66874\",\"type\":\"Toolbar\"},\"toolbar_location\":null,\"x_range\":{\"id\":\"66850\",\"type\":\"Range1d\"},\"x_scale\":{\"id\":\"66854\",\"type\":\"LinearScale\"},\"y_range\":{\"id\":\"66852\",\"type\":\"Range1d\"},\"y_scale\":{\"id\":\"66856\",\"type\":\"LinearScale\"}},\"id\":\"66847\",\"subtype\":\"Figure\",\"type\":\"Plot\"},{\"attributes\":{\"dimension\":1,\"ticker\":{\"id\":\"66864\",\"type\":\"BasicTicker\"}},\"id\":\"66867\",\"type\":\"Grid\"},{\"attributes\":{\"fill_alpha\":{\"value\":0.1},\"fill_color\":{\"value\":\"#1f77b4\"},\"height\":{\"value\":0.25},\"line_alpha\":{\"value\":0.1},\"line_color\":{\"value\":\"#1f77b4\"},\"right\":{\"field\":\"rk\"},\"y\":{\"field\":\"index\",\"transform\":{\"id\":\"66895\",\"type\":\"Dodge\"}}},\"id\":\"66898\",\"type\":\"HBar\"},{\"attributes\":{},\"id\":\"66856\",\"type\":\"LinearScale\"},{\"attributes\":{\"data_source\":{\"id\":\"66846\",\"type\":\"ColumnDataSource\"},\"glyph\":{\"id\":\"66897\",\"type\":\"HBar\"},\"hover_glyph\":null,\"muted_glyph\":null,\"nonselection_glyph\":{\"id\":\"66898\",\"type\":\"HBar\"},\"selection_glyph\":null,\"view\":{\"id\":\"66900\",\"type\":\"CDSView\"}},\"id\":\"66899\",\"type\":\"GlyphRenderer\"},{\"attributes\":{\"text\":\"Anteile der Religionen in der Bezirken im Jahr 2000\"},\"id\":\"66848\",\"type\":\"Title\"},{\"attributes\":{\"range\":{\"id\":\"40336\",\"type\":\"Range1d\"},\"value\":0.25},\"id\":\"66881\",\"type\":\"Dodge\"},{\"attributes\":{\"source\":{\"id\":\"66846\",\"type\":\"ColumnDataSource\"}},\"id\":\"66900\",\"type\":\"CDSView\"},{\"attributes\":{\"callback\":null,\"end\":100},\"id\":\"66850\",\"type\":\"Range1d\"},{\"attributes\":{\"items\":[{\"id\":\"66894\",\"type\":\"LegendItem\"},{\"id\":\"66909\",\"type\":\"LegendItem\"},{\"id\":\"66924\",\"type\":\"LegendItem\"}]},\"id\":\"66893\",\"type\":\"Legend\"},{\"attributes\":{},\"id\":\"66906\",\"type\":\"UnionRenderers\"},{\"attributes\":{\"callback\":null,\"end\":70},\"id\":\"40336\",\"type\":\"Range1d\"},{\"attributes\":{\"callback\":null,\"end\":1.6,\"start\":-0.5},\"id\":\"66852\",\"type\":\"Range1d\"},{\"attributes\":{\"callback\":null,\"data\":{\"district\":[1,2],\"ev\":{\"__ndarray__\":\"saZ2ir06MEB7TnfcHTUrQA==\",\"dtype\":\"float64\",\"shape\":[2]},\"index\":[0,1],\"other\":{\"__ndarray__\":\"EIYH5gtnRUAumR61rfpHQA==\",\"dtype\":\"float64\",\"shape\":[2]},\"rk\":{\"__ndarray__\":\"mCa9VJV7REAyk8PTCjhDQA==\",\"dtype\":\"float64\",\"shape\":[2]}},\"selected\":{\"id\":\"66907\",\"type\":\"Selection\"},\"selection_policy\":{\"id\":\"66906\",\"type\":\"UnionRenderers\"}},\"id\":\"66846\",\"type\":\"ColumnDataSource\"},{\"attributes\":{},\"id\":\"66854\",\"type\":\"LinearScale\"},{\"attributes\":{},\"id\":\"66907\",\"type\":\"Selection\"},{\"attributes\":{\"range\":{\"id\":\"40336\",\"type\":\"Range1d\"}},\"id\":\"66895\",\"type\":\"Dodge\"},{\"attributes\":{\"label\":{\"value\":\"r\\u00f6misch-katholisch\"},\"renderers\":[{\"id\":\"66899\",\"type\":\"GlyphRenderer\"}]},\"id\":\"66909\",\"type\":\"LegendItem\"},{\"attributes\":{\"fill_color\":{\"value\":\"blue\"},\"height\":{\"value\":0.25},\"line_color\":{\"value\":\"white\"},\"right\":{\"field\":\"rk\"},\"y\":{\"field\":\"index\",\"transform\":{\"id\":\"66895\",\"type\":\"Dodge\"}}},\"id\":\"66897\",\"type\":\"HBar\"},{\"attributes\":{\"bottom_units\":\"screen\",\"fill_alpha\":{\"value\":0.5},\"fill_color\":{\"value\":\"lightgrey\"},\"left_units\":\"screen\",\"level\":\"overlay\",\"line_alpha\":{\"value\":1.0},\"line_color\":{\"value\":\"black\"},\"line_dash\":[4,4],\"line_width\":{\"value\":2},\"render_mode\":\"css\",\"right_units\":\"screen\",\"top_units\":\"screen\"},\"id\":\"66892\",\"type\":\"BoxAnnotation\"},{\"attributes\":{\"overlay\":{\"id\":\"66892\",\"type\":\"BoxAnnotation\"}},\"id\":\"66870\",\"type\":\"BoxZoomTool\"},{\"attributes\":{\"fill_color\":{\"value\":\"green\"},\"height\":{\"value\":0.25},\"line_color\":{\"value\":\"white\"},\"right\":{\"field\":\"other\"},\"y\":{\"field\":\"index\",\"transform\":{\"id\":\"66881\",\"type\":\"Dodge\"}}},\"id\":\"66883\",\"type\":\"HBar\"},{\"attributes\":{\"fill_color\":{\"value\":\"red\"},\"height\":{\"value\":0.25},\"line_color\":{\"value\":\"white\"},\"right\":{\"field\":\"ev\"},\"y\":{\"field\":\"index\",\"transform\":{\"id\":\"66910\",\"type\":\"Dodge\"}}},\"id\":\"66912\",\"type\":\"HBar\"},{\"attributes\":{\"label\":{\"value\":\"andere Religionen\"},\"renderers\":[{\"id\":\"66885\",\"type\":\"GlyphRenderer\"}]},\"id\":\"66894\",\"type\":\"LegendItem\"},{\"attributes\":{},\"id\":\"66868\",\"type\":\"PanTool\"},{\"attributes\":{\"formatter\":{\"id\":\"66889\",\"type\":\"BasicTickFormatter\"},\"major_label_overrides\":{\"0\":\"Altstadt-Lehel\",\"1\":\"Ludwigsvorstadt-Isarvorstadt\"},\"ticker\":{\"id\":\"66925\",\"type\":\"FixedTicker\"}},\"id\":\"66863\",\"type\":\"LinearAxis\"},{\"attributes\":{\"fill_alpha\":{\"value\":0.1},\"fill_color\":{\"value\":\"#1f77b4\"},\"height\":{\"value\":0.25},\"line_alpha\":{\"value\":0.1},\"line_color\":{\"value\":\"#1f77b4\"},\"right\":{\"field\":\"ev\"},\"y\":{\"field\":\"index\",\"transform\":{\"id\":\"66910\",\"type\":\"Dodge\"}}},\"id\":\"66913\",\"type\":\"HBar\"},{\"attributes\":{},\"id\":\"66891\",\"type\":\"BasicTickFormatter\"},{\"attributes\":{\"data_source\":{\"id\":\"66846\",\"type\":\"ColumnDataSource\"},\"glyph\":{\"id\":\"66912\",\"type\":\"HBar\"},\"hover_glyph\":null,\"muted_glyph\":null,\"nonselection_glyph\":{\"id\":\"66913\",\"type\":\"HBar\"},\"selection_glyph\":null,\"view\":{\"id\":\"66915\",\"type\":\"CDSView\"}},\"id\":\"66914\",\"type\":\"GlyphRenderer\"},{\"attributes\":{},\"id\":\"66864\",\"type\":\"BasicTicker\"},{\"attributes\":{},\"id\":\"66871\",\"type\":\"SaveTool\"},{\"attributes\":{\"source\":{\"id\":\"66846\",\"type\":\"ColumnDataSource\"}},\"id\":\"66915\",\"type\":\"CDSView\"},{\"attributes\":{\"range\":{\"id\":\"40336\",\"type\":\"Range1d\"},\"value\":-0.25},\"id\":\"66910\",\"type\":\"Dodge\"},{\"attributes\":{},\"id\":\"66872\",\"type\":\"ResetTool\"},{\"attributes\":{},\"id\":\"66869\",\"type\":\"WheelZoomTool\"},{\"attributes\":{\"label\":{\"value\":\"evangelisch\"},\"renderers\":[{\"id\":\"66914\",\"type\":\"GlyphRenderer\"}]},\"id\":\"66924\",\"type\":\"LegendItem\"},{\"attributes\":{},\"id\":\"66873\",\"type\":\"HelpTool\"},{\"attributes\":{\"active_drag\":\"auto\",\"active_inspect\":\"auto\",\"active_multi\":null,\"active_scroll\":\"auto\",\"active_tap\":\"auto\",\"tools\":[{\"id\":\"66868\",\"type\":\"PanTool\"},{\"id\":\"66869\",\"type\":\"WheelZoomTool\"},{\"id\":\"66870\",\"type\":\"BoxZoomTool\"},{\"id\":\"66871\",\"type\":\"SaveTool\"},{\"id\":\"66872\",\"type\":\"ResetTool\"},{\"id\":\"66873\",\"type\":\"HelpTool\"}]},\"id\":\"66874\",\"type\":\"Toolbar\"},{\"attributes\":{\"ticker\":{\"id\":\"66859\",\"type\":\"BasicTicker\"}},\"id\":\"66862\",\"type\":\"Grid\"},{\"attributes\":{\"fill_alpha\":{\"value\":0.1},\"fill_color\":{\"value\":\"#1f77b4\"},\"height\":{\"value\":0.25},\"line_alpha\":{\"value\":0.1},\"line_color\":{\"value\":\"#1f77b4\"},\"right\":{\"field\":\"other\"},\"y\":{\"field\":\"index\",\"transform\":{\"id\":\"66881\",\"type\":\"Dodge\"}}},\"id\":\"66884\",\"type\":\"HBar\"},{\"attributes\":{\"ticks\":[0,1]},\"id\":\"66925\",\"type\":\"FixedTicker\"},{\"attributes\":{},\"id\":\"66859\",\"type\":\"BasicTicker\"},{\"attributes\":{\"data_source\":{\"id\":\"66846\",\"type\":\"ColumnDataSource\"},\"glyph\":{\"id\":\"66883\",\"type\":\"HBar\"},\"hover_glyph\":null,\"muted_glyph\":null,\"nonselection_glyph\":{\"id\":\"66884\",\"type\":\"HBar\"},\"selection_glyph\":null,\"view\":{\"id\":\"66886\",\"type\":\"CDSView\"}},\"id\":\"66885\",\"type\":\"GlyphRenderer\"},{\"attributes\":{\"source\":{\"id\":\"66846\",\"type\":\"ColumnDataSource\"}},\"id\":\"66886\",\"type\":\"CDSView\"},{\"attributes\":{\"axis_label\":\"Prozent\",\"formatter\":{\"id\":\"66891\",\"type\":\"BasicTickFormatter\"},\"ticker\":{\"id\":\"66859\",\"type\":\"BasicTicker\"}},\"id\":\"66858\",\"type\":\"LinearAxis\"},{\"attributes\":{},\"id\":\"66889\",\"type\":\"BasicTickFormatter\"}],\"root_ids\":[\"66847\"]},\"title\":\"Bokeh Application\",\"version\":\"1.3.0\"}};\n",
       "  var render_items = [{\"docid\":\"1610ff5e-826e-486e-b142-c182404731d5\",\"notebook_comms_target\":\"67704\",\"roots\":{\"66847\":\"4e674a09-78e0-47de-b159-1ad967525607\"}}];\n",
       "  root.Bokeh.embed.embed_items_notebook(docs_json, render_items);\n",
       "\n",
       "  }\n",
       "  if (root.Bokeh !== undefined) {\n",
       "    embed_document(root);\n",
       "  } else {\n",
       "    var attempts = 0;\n",
       "    var timer = setInterval(function(root) {\n",
       "      if (root.Bokeh !== undefined) {\n",
       "        embed_document(root);\n",
       "        clearInterval(timer);\n",
       "      }\n",
       "      attempts++;\n",
       "      if (attempts > 100) {\n",
       "        console.log(\"Bokeh: ERROR: Unable to run BokehJS code because BokehJS library is missing\");\n",
       "        clearInterval(timer);\n",
       "      }\n",
       "    }, 10, root)\n",
       "  }\n",
       "})(window);"
      ],
      "application/vnd.bokehjs_exec.v0+json": ""
     },
     "metadata": {
      "application/vnd.bokehjs_exec.v0+json": {
       "id": "66847"
      }
     },
     "output_type": "display_data"
    },
    {
     "data": {
      "application/vnd.jupyter.widget-view+json": {
       "model_id": "9eaf3dd0564a4a379e823e99395d0ffa",
       "version_major": 2,
       "version_minor": 0
      },
      "text/plain": [
       "interactive(children=(Dropdown(description='Bezirk1', index=1, options=('StadtMünchen', 'Altstadt-Lehel', 'Lud…"
      ]
     },
     "metadata": {},
     "output_type": "display_data"
    }
   ],
   "source": [
    "#from bokeh.transform import factor_cmap\n",
    "from bokeh.transform import dodge\n",
    "from bokeh.models import ColumnDataSource\n",
    "from bokeh.models.widgets import Button, Dropdown\n",
    "from bokeh.layouts import row, column, WidgetBox, gridplot, grid\n",
    "from ipywidgets import interact, IntSlider, Select\n",
    "import time\n",
    "\n",
    "# push updates to the plot continuously using the handle (intererrupt the notebook kernel to stop)\n",
    "def pushNewDistrictsAndYear(district_1, district_2, year):\n",
    "    plot2.title.text = \"Anteile der Religionen in der Bezirken im Jahr \" + str(year)\n",
    "    source = ColumnDataSource(religion_final.loc[(year, [district_1, district_2]),:].loc[year].reset_index())\n",
    "    bar21.data_source.data = source.data # since all bars have same source, setting one is enough\n",
    "    plot2.yaxis.major_label_overrides = dict(zip([0,1], df_districts.loc[[district_1,district_2],'name'].values))\n",
    "    push_notebook(handle=target2)\n",
    "\n",
    "# animation\n",
    "def runAnimation(startYear=2000):\n",
    "    should_run = True\n",
    "    year = startYear\n",
    "    while should_run:\n",
    "        #if year == 2002: time.sleep(5)\n",
    "        pushNewDistrictsAndYear(district1, district2, year)\n",
    "        year +=1\n",
    "        if year > 2017: should_run = False\n",
    "        time.sleep(.5)\n",
    "        \n",
    "def update (Bezirk1=df_districts.name.values[1], Bezirk2=df_districts.name.values[2], Jahr=2000):\n",
    "    dis1 = int(df_districts[df_districts.name == Bezirk1].number)\n",
    "    dis2 = int(df_districts[df_districts.name == Bezirk2].number)\n",
    "    pushNewDistrictsAndYear(dis1, dis2, Jahr)\n",
    "\n",
    "\n",
    "district1, district2 = 1, 2\n",
    "\n",
    "source = ColumnDataSource(religion_final.loc[(2000, [district1, district2]),:].loc[2000].reset_index())\n",
    "plot2 = figure(plot_width=800,\n",
    "           plot_height=400,\n",
    "           x_range = (0,100),\n",
    "           y_range = (-.5,1.6),\n",
    "           title=\"Anteile der Religionen in der Bezirken im Jahr \" + str(2000),\n",
    "           toolbar_location=None)\n",
    "\n",
    "bar21 = plot2.hbar(y=dodge('index', +0.25, range=plot.x_range), fill_color='green', height=.25, right='other', legend=\"andere Religionen\", source=source, line_color=\"white\")\n",
    "bar22 = plot2.hbar(y=dodge('index', +0.0, range=plot.x_range), fill_color='blue', height=.25, right='rk', legend=\"römisch-katholisch\", source=source, line_color=\"white\")\n",
    "bar23 = plot2.hbar(y=dodge('index', -0.25, range=plot.x_range), fill_color='red', height=.25, right='ev', legend=\"evangelisch\", source=source, line_color=\"white\")\n",
    "\n",
    "plot2.yaxis.ticker = [0,1]\n",
    "plot2.yaxis.major_label_overrides = dict(zip([0,1], df_districts.loc[[district1,district2],'name'].values))\n",
    "plot2.xaxis.axis_label = 'Prozent'\n",
    "#p.xaxis.major_label_orientation = 1\n",
    "#p.xgrid.grid_line_color = None\n",
    "\n",
    "#slider = Slider(start=2000, end=2017, value=2000, step=1, title=\"years\")\n",
    "#button = Button(label=\"Start\", button_type=None)\n",
    "#button.on_click(callback)\n",
    "\n",
    "slider = IntSlider(min=2000, max=2017, value=2000, description='Jahr: ')\n",
    "\n",
    "def on_value_change(change):\n",
    "    #print(change)\n",
    "    #print(type(change['new']))\n",
    "    update(Jahr=change['new'])\n",
    "    \n",
    "slider.observe(on_value_change, names='value')\n",
    "\n",
    "print(df_districts.name.values.tolist()[0])\n",
    "\n",
    "select_1 = Select(options=df_districts.name.values.tolist(), value=df_districts.name.values.tolist()[1], description='Bezirke :', disabled=False)\n",
    "select_2 = Select(options=df_districts.name.values.tolist(), value=df_districts.name.values.tolist()[1], description='Bezirke :', disabled=False)\n",
    "\n",
    "display(slider, select_1, select_2)\n",
    "\n",
    "#target2 = show(column(slider, plot2, button), notebook_handle=True)\n",
    "target2 = show(plot2, notebook_handle=True)\n",
    "inter = interact(update, Jahr=(2000,2017), Bezirk1=df_districts.name.values, Bezirk2=df_districts.name.values)\n",
    "\n",
    "\n",
    "#runAnimation()\n",
    "\n",
    "#time.sleep(3)\n",
    "#should_run = False\n",
    "#print(\"Jetz gehts weiter!\")\n",
    "\n",
    "\n",
    "\n",
    "\n",
    "\n",
    "\n",
    "# !!!!!!!!!!!!!!!!!!!!!!!!!!!\n",
    "# beide bezirke gleich >>>> nur einer wird angezeigt...."
   ]
  },
  {
   "cell_type": "code",
   "execution_count": null,
   "metadata": {},
   "outputs": [],
   "source": []
  },
  {
   "cell_type": "code",
   "execution_count": null,
   "metadata": {},
   "outputs": [],
   "source": []
  },
  {
   "cell_type": "code",
   "execution_count": null,
   "metadata": {},
   "outputs": [],
   "source": []
  }
 ],
 "metadata": {
  "kernelspec": {
   "display_name": "Python 3",
   "language": "python",
   "name": "python3"
  },
  "language_info": {
   "codemirror_mode": {
    "name": "ipython",
    "version": 3
   },
   "file_extension": ".py",
   "mimetype": "text/x-python",
   "name": "python",
   "nbconvert_exporter": "python",
   "pygments_lexer": "ipython3",
   "version": "3.7.3"
  }
 },
 "nbformat": 4,
 "nbformat_minor": 2
}
